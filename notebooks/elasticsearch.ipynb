{
 "cells": [
  {
   "cell_type": "markdown",
   "metadata": {},
   "source": [
    "# Text analysis of restaurant reviews\n",
    "## Find hamburgers!"
   ]
  },
  {
   "cell_type": "markdown",
   "metadata": {},
   "source": [
    "In this notebook we analyze the restaurant reviews for a city and a specific date."
   ]
  },
  {
   "cell_type": "code",
   "execution_count": 1,
   "metadata": {},
   "outputs": [],
   "source": [
    "import pandas as pd\n",
    "import numpy as np\n",
    "import seaborn as sns\n",
    "import matplotlib.pyplot as plt\n",
    "from pprint import pprint\n",
    "%matplotlib inline\n",
    "# hide warnings. `gbq.read_gbq()` gives some\n",
    "import warnings\n",
    "warnings.filterwarnings('ignore')\n",
    "\n",
    "import sys\n",
    "sys.path.append('../scrape_save_search')\n",
    "\n",
    "import load_data"
   ]
  },
  {
   "cell_type": "code",
   "execution_count": null,
   "metadata": {},
   "outputs": [],
   "source": [
    "df = load_data.load_comments()"
   ]
  },
  {
   "cell_type": "markdown",
   "metadata": {},
   "source": [
    "# Elastic search"
   ]
  },
  {
   "cell_type": "markdown",
   "metadata": {},
   "source": [
    "To run Elasticsearch as a service:\n",
    "+ `brew tap homebrew/services`\n",
    "+ `brew services start elasticsearch`\n",
    "\n",
    "You can check that it's up-and-running by examining the logs:\n",
    "+ `tail -n 15 /usr/local/var/log/elasticsearch.log`\n"
   ]
  },
  {
   "cell_type": "code",
   "execution_count": 13,
   "metadata": {},
   "outputs": [],
   "source": [
    "from elasticsearch import Elasticsearch\n",
    "es = Elasticsearch([{'host': 'localhost', 'port': 9200}])"
   ]
  },
  {
   "cell_type": "code",
   "execution_count": 35,
   "metadata": {},
   "outputs": [
    {
     "data": {
      "text/plain": [
       "True"
      ]
     },
     "execution_count": 35,
     "metadata": {},
     "output_type": "execute_result"
    }
   ],
   "source": [
    "# Check if it is running\n",
    "es.ping()"
   ]
  },
  {
   "cell_type": "code",
   "execution_count": 56,
   "metadata": {
    "scrolled": true
   },
   "outputs": [
    {
     "name": "stdout",
     "output_type": "stream",
     "text": [
      "timestamp cluster            status node.total\n",
      "10:10:48  elasticsearch_roel yellow          1\n",
      "\n"
     ]
    }
   ],
   "source": [
    "# Check its health\n",
    "print(es.cat.health(v=True, \n",
    "                    h=['timestamp', 'cluster', 'status', 'node.total']))"
   ]
  },
  {
   "cell_type": "code",
   "execution_count": 98,
   "metadata": {},
   "outputs": [
    {
     "data": {
      "text/plain": [
       "{'acknowledged': True}"
      ]
     },
     "execution_count": 98,
     "metadata": {},
     "output_type": "execute_result"
    }
   ],
   "source": [
    "# Delete old index if it exists\n",
    "es.indices.delete(index='restaurant_comments', ignore=404)"
   ]
  },
  {
   "cell_type": "code",
   "execution_count": 99,
   "metadata": {},
   "outputs": [
    {
     "data": {
      "text/plain": [
       "{'acknowledged': True,\n",
       " 'index': 'restaurant_comments',\n",
       " 'shards_acknowledged': True}"
      ]
     },
     "execution_count": 99,
     "metadata": {},
     "output_type": "execute_result"
    }
   ],
   "source": [
    "# Create a new index\n",
    "es.indices.create(index='restaurant_comments', ignore=400)"
   ]
  },
  {
   "cell_type": "code",
   "execution_count": 100,
   "metadata": {},
   "outputs": [],
   "source": [
    "# Define pre-processing and analyzer\n",
    "hyphens_and_apostrophes_strip = {\n",
    "    \"hyphens_and_apostrophes_strip\": {\n",
    "        \"type\": \"mapping\",\n",
    "        \"mappings\": [ \n",
    "            \"- => ' '\",\n",
    "            \"' => \"\n",
    "        ]\n",
    "    }\n",
    "}\n",
    "\n",
    "dutch_stop = {\n",
    "    \"dutch_stop\": {\n",
    "        \"type\": \"stop\",\n",
    "        \"stopwords\": \"_dutch_\"\n",
    "    }\n",
    "}\n",
    "\n",
    "ngram_tokenizer = {\n",
    "    \"ngram_tokenizer\": {\n",
    "        \"type\": \"ngram\",\n",
    "        \"min_gram\": 3,\n",
    "        \"max_gram\": 4\n",
    "    }\n",
    "}\n",
    "\n",
    "analyzer = {\n",
    "    \"restaurant_comments_analyzer\": {\n",
    "        \"type\": \"custom\",\n",
    "        \"char_filter\": [\"hyphens_and_apostrophes_strip\"],\n",
    "        \"tokenizer\": \"ngram_tokenizer\", #\"standard\",\n",
    "        \"filter\": [\"lowercase\", \"dutch_stop\", \"asciifolding\"]\n",
    "    }\n",
    "}   "
   ]
  },
  {
   "cell_type": "code",
   "execution_count": 101,
   "metadata": {},
   "outputs": [
    {
     "data": {
      "text/plain": [
       "{'acknowledged': True, 'shards_acknowledged': True}"
      ]
     },
     "execution_count": 101,
     "metadata": {},
     "output_type": "execute_result"
    }
   ],
   "source": [
    "# Apply these on our index \n",
    "es.indices.close(index='restaurant_comments')\n",
    "es.indices.put_settings(\n",
    "    index='restaurant_comments', \n",
    "    body={\n",
    "        \"analysis\": {\n",
    "            \"char_filter\": hyphens_and_apostrophes_strip,\n",
    "            \"tokenizer\": ngram_tokenizer,\n",
    "            \"filter\": dutch_stop,\n",
    "            \"analyzer\": analyzer\n",
    "        }\n",
    "    }\n",
    ")\n",
    "es.indices.open(index='restaurant_comments')"
   ]
  },
  {
   "cell_type": "code",
   "execution_count": 102,
   "metadata": {
    "scrolled": false
   },
   "outputs": [
    {
     "data": {
      "text/plain": [
       "{'acknowledged': True}"
      ]
     },
     "execution_count": 102,
     "metadata": {},
     "output_type": "execute_result"
    }
   ],
   "source": [
    "# Define what our data looks like\n",
    "es.indices.put_mapping(\n",
    "    index='restaurant_comments',\n",
    "    update_all_types=True,\n",
    "    doc_type='restaurant_review',\n",
    "    body={\n",
    "        \"properties\": {\n",
    "            \"comment\": {\n",
    "                \"type\": \"text\",\n",
    "                \"analyzer\": \"restaurant_comments_analyzer\"\n",
    "            },\n",
    "            \"name\": {\n",
    "                \"type\": \"keyword\"            \n",
    "            },\n",
    "            \"id\": {\n",
    "                \"type\": \"text\"\n",
    "            },\n",
    "            \"rating\": {\n",
    "                \"type\": \"integer\"\n",
    "            }\n",
    "        }\n",
    "    }\n",
    ")"
   ]
  },
  {
   "cell_type": "code",
   "execution_count": 106,
   "metadata": {},
   "outputs": [],
   "source": [
    "# Add all comments to our index\n",
    "from elasticsearch.helpers import parallel_bulk\n",
    "def generate_actions(n_comments):    \n",
    "    for i in range(n_comments):\n",
    "        src = {\n",
    "            'comment': df.loc[i, 'comment'],\n",
    "            'name': df.loc[i, 'name'],\n",
    "            'id': str(df.loc[i, 'id']),\n",
    "            'rating': int(df.loc[i, 'rating_food'])  \n",
    "        }\n",
    "\n",
    "        yield {\n",
    "            '_op_type': 'index',\n",
    "            '_source': src \n",
    "        }"
   ]
  },
  {
   "cell_type": "code",
   "execution_count": 107,
   "metadata": {
    "scrolled": true
   },
   "outputs": [],
   "source": [
    "for success, info in parallel_bulk(\n",
    "    client=es, \n",
    "    actions=generate_actions(len(df)),\n",
    "    index='restaurant_comments', \n",
    "    doc_type='restaurant_review',\n",
    "    thread_count=4):\n",
    "    if not success: print('Document insertion failed', info)"
   ]
  },
  {
   "cell_type": "code",
   "execution_count": 108,
   "metadata": {
    "scrolled": true
   },
   "outputs": [],
   "source": [
    "# Search for 'burger'\n",
    "res = es.search(\n",
    "    index='restaurant_comments', \n",
    "    doc_type='restaurant_review',\n",
    "    body={\n",
    "        \"size\": 10000,\n",
    "        \"query\": {\n",
    "            \"match\": {\n",
    "                \"comment\": \"burger\"\n",
    "            }\n",
    "        }\n",
    "    }\n",
    ")"
   ]
  },
  {
   "cell_type": "code",
   "execution_count": 170,
   "metadata": {
    "scrolled": true
   },
   "outputs": [
    {
     "name": "stdout",
     "output_type": "stream",
     "text": [
      "Score:  32.29639\n",
      "{ 'comment': 'Een burger gedaan samen met mijn 5jarige zoon. Serveerster '\n",
      "             'stelde kinder burger voor. Ik bestelde een gewoon '\n",
      "             'classic/original met als verzoek geen uien en geen augurk.  '\n",
      "             'Burgers werden gebracht. En ja hoor vol met uien en augurken '\n",
      "             'zowel als topping als in de saus vies klef broodje erg zoet van '\n",
      "             'smaakt burger uitgedroogd. Me zoon een burger zo klein dat hij '\n",
      "             'zelfs zei papa is dit alles. Friet die er bij zat overladen met '\n",
      "             'zout en eea kruide. Al met bleek einde van de €33 1burger met '\n",
      "             'friet 1 cola 1 miniscule burger met friet en appelsap voor die '\n",
      "             'kwaliteit. Geen burger bitch maar burger bagger',\n",
      "  'id': '258647',\n",
      "  'name': 'Burger Bitch',\n",
      "  'rating': 2,\n",
      "  'score': 32.29639}\n",
      "Score:  31.721777\n",
      "{ 'comment': \"Wij zijn met z'n vieren gaan eten bij de Burgermeester. We \"\n",
      "             'werden hartelijk ontvangen en kozen de Spaanse burger, '\n",
      "             'cheeseburger, royale burger en de klassieke lamsburger. De '\n",
      "             'Spaanse burger had ik zelf en was licht pittig en heel erg '\n",
      "             'smaakvol. Vooral de aardige service van Raoul viel ons op! We '\n",
      "             'komen zeker nog eens terug!',\n",
      "  'id': '242679',\n",
      "  'name': 'Burgermeester (Plantage Kerklaan)',\n",
      "  'rating': 9,\n",
      "  'score': 31.721777}\n"
     ]
    }
   ],
   "source": [
    "# Show top results\n",
    "for i, document in enumerate(res['hits']['hits']):\n",
    "    print('Score: ', document['_score'])\n",
    "    pprint(document['_source'], indent=2)\n",
    "    if i == 1:\n",
    "        break"
   ]
  },
  {
   "cell_type": "code",
   "execution_count": 189,
   "metadata": {
    "scrolled": true
   },
   "outputs": [
    {
     "name": "stdout",
     "output_type": "stream",
     "text": [
      "Score:  22.809015\n",
      "{ 'comment': 'De Tartiflette was heerlijk en volgens mijn gezelschap was de '\n",
      "             'Burger Rustique ook geweldig. En vergeet geen dessert te nemen. '\n",
      "             'De bediening was erg vriendelijk en goed.',\n",
      "  'id': '256103',\n",
      "  'name': 'Bistrot des Alpes',\n",
      "  'rating': 9,\n",
      "  'score': 22.809015}\n",
      "Score:  21.6408\n",
      "{ 'comment': 'De soep van doperwten smaakte niet alleen heerlijk,maar zag er '\n",
      "             'ook prachtig uit.Daarna een vegaburger,lekkerder dan een gewone '\n",
      "             'burger.En tot slot een café gourmand,steeds een ander '\n",
      "             'proefje,heel verassend.Lekkere wijn erbij uit de Haut Savoie.  '\n",
      "             'Bediening was uitstekend,we kregen veel aandacht en goede '\n",
      "             'adviezen over de keuze van de wijn.Ze hebben er goed voor '\n",
      "             'gezorgd dat we op tijd naar Carré konden.  De inrichting van het '\n",
      "             'restaurant is warm en gezellig,met een oud skiliftje als '\n",
      "             'loungebar.Het is ietsjes krap allemaal,anders zou dit ook een 10 '\n",
      "             'geworden zijn.',\n",
      "  'id': '256103',\n",
      "  'name': 'Bistrot des Alpes',\n",
      "  'rating': 10,\n",
      "  'score': 21.6408}\n",
      "Score:  5.8952575\n",
      "{ 'comment': 'Wij hebben het fondue met het vlees gegeten. Echt een aanrader. '\n",
      "             'Het service was echt opmerkzaam en goed met aanbeveling van het '\n",
      "             'dessert en voorgerecht!',\n",
      "  'id': '256103',\n",
      "  'name': 'Bistrot des Alpes',\n",
      "  'rating': 10,\n",
      "  'score': 5.8952575}\n",
      "Score:  5.826537\n",
      "{ 'comment': 'Voor een leuk dagje Amsterdam en avondje Carre:   TOP locatie!  '\n",
      "             'TOP voorgerecht  TOP hoofdgerecht  TOP nagerecht   En tot slot '\n",
      "             'een TOP bediening!!   Groetjes en bedankt voor de fijne avond '\n",
      "             'ED, Kiki, Maria en John!',\n",
      "  'id': '256103',\n",
      "  'name': 'Bistrot des Alpes',\n",
      "  'rating': 10,\n",
      "  'score': 5.826537}\n",
      "Score:  4.889112\n",
      "{ 'comment': 'Goed restaurant in een klein straatje van de Amstel ende '\n",
      "             'Utrechstraat. Het voorgerecht is puik , maar ook de '\n",
      "             'hoofdgerechten zijn goed. De kaasgerechten zijn bijzonder en '\n",
      "             'lekker. De huiswijn is van een behoorlijk nivo  De bediening is '\n",
      "             'goed.  Reserveren is af en toe moeilijk omdat het een druk '\n",
      "             'restaurant is, tijdig reserveren dus.  Wij hebben een prima '\n",
      "             'avond gehad en komen beslist terug!',\n",
      "  'id': '256103',\n",
      "  'name': 'Bistrot des Alpes',\n",
      "  'rating': 10,\n",
      "  'score': 4.889112}\n",
      "Score:  4.6992135\n",
      "{ 'comment': 'Vooraf: huisgemaakte paté en charcuterie. De paté is heerlijk, '\n",
      "             'de charcuterie goed maar niet heel bijzonder.  Hoofd: kaasfondue '\n",
      "             'savoyarde. In orde, maar niet buitengewoon, wat we wel gehoopt '\n",
      "             'hadden. Salade dezelfde als bij voorgerecht. Eekhoorntjesbrood '\n",
      "             'leek uit een potje te komen, niet heel smaakvol.  Rode huiswijn: '\n",
      "             'bijzonder lekker.  Bediening: bijzonder beminnelijk.',\n",
      "  'id': '256103',\n",
      "  'name': 'Bistrot des Alpes',\n",
      "  'rating': 7,\n",
      "  'score': 4.6992135}\n",
      "Score:  4.542173\n",
      "{ 'comment': 'Het restaurant heeft een uitstekende, zeer vriendelijke '\n",
      "             'bediening en serveert heerlijke gerechten uit de Franse Alpen. '\n",
      "             'Wij hebben genoten van de fondue, maar ook van de charcuterie en '\n",
      "             'de pate als voorgerecht. Mooie wijnen. Alleszins betaalbaar. De '\n",
      "             'entourage is leuk en gezellig. Je kunt er prima met elkaar '\n",
      "             'praten, omdat er ruimte is tussen de tafels en de acoustiek is '\n",
      "             'prima. Een absolute aanrader. Wij komen na deze kennismaking '\n",
      "             'zeker terug.',\n",
      "  'id': '256103',\n",
      "  'name': 'Bistrot des Alpes',\n",
      "  'rating': 10,\n",
      "  'score': 4.542173}\n",
      "Score:  4.271714\n",
      "{ 'comment': 'We namen beiden hetzelfde dagmenu: coquilles in een saus van '\n",
      "             'groene erwtjes vooraf en lamsmedaillon in een morillesaus als '\n",
      "             'hoofd. Het voorgerecht smaakte heerlijk, alle ingredienten '\n",
      "             'kwamen tot hun recht. Hoofd, mooi vlees, goed gegaard met een '\n",
      "             'heerlijke saus. toe warme chocoladtaart wat je normaal in deze '\n",
      "             'kwaliteit in Frankrijk treft . De bediening was charmant en toch '\n",
      "             'correct. Passende ambiance met een geluidsniveau waarbij je een '\n",
      "             'gesprek kunt voeren alsof je thuis zit.',\n",
      "  'id': '256103',\n",
      "  'name': 'Bistrot des Alpes',\n",
      "  'rating': 10,\n",
      "  'score': 4.271714}\n",
      "Score:  4.000472\n",
      "{ 'comment': 'Prima gegeten. Rustige omgeving (jazz op de achtergrond) waarin '\n",
      "             'je elkaar goed kunt verstaan. De stevige Franse kost smaakte '\n",
      "             'zoals we ons die herinnerde uit Frankrijk en zag er van a tot z '\n",
      "             'ook nog eens heel mooi en verzorgd uit. De zelfgemaakte paté van '\n",
      "             'de dag (voorgerecht) met wat salade verraste ons qua smaak. Ook '\n",
      "             'de taartje van de dag (met frambozen) sprong er uit zowel qua '\n",
      "             'uiterlijk als smaak. Aardige en deskundige bediening. Kies de '\n",
      "             'soep als je geen flinke trek hebt om nog te kunnen genieten van '\n",
      "             'de rest. Aanbevolen!',\n",
      "  'id': '256103',\n",
      "  'name': 'Bistrot des Alpes',\n",
      "  'rating': 9,\n",
      "  'score': 4.000472}\n",
      "Score:  3.9721708\n",
      "{ 'comment': 'Voorgerecht een combinatie van charcuterie, terrine en '\n",
      "             'vichyssoise: prima kwaliteit, heerlijke terrine en '\n",
      "             'voortreffelijke vichyssoise soep. Hoofdgerecht natuurlijk de '\n",
      "             'kaasfondu, met eekhoorntjesbrood en daarnaast een lekker frisse '\n",
      "             'en verse salade. Zo kan ik thuis de fondu niet maken, heerlijk '\n",
      "             'op smaak en prachtig van substantie. Als dessert een combi met '\n",
      "             'alle desserts van de kaart in mini uitvoering: knap gemaakt, '\n",
      "             'mooi palet aan smaken, juiste hoeveelheid. De witte wijn uit de '\n",
      "             'Alpen was een voltreffer, heerlijk om zo te drinken, maar ging '\n",
      "             'ook mooi samen met de fondu. De bediening is spontaan, adequaat, '\n",
      "             'deskundig en naturel, kan niet beter.',\n",
      "  'id': '256103',\n",
      "  'name': 'Bistrot des Alpes',\n",
      "  'rating': 9,\n",
      "  'score': 3.9721708}\n"
     ]
    }
   ],
   "source": [
    "# Show result for a restaurant id\n",
    "for i, document in enumerate(res['hits']['hits']):\n",
    "#     if document['_source']['id'] == '219507':#'258389':\n",
    "    if document['_source']['id'] == '256103':\n",
    "        print('Score: ', document['_score'])\n",
    "        pprint(document['_source'], indent=2)\n",
    "        "
   ]
  },
  {
   "cell_type": "code",
   "execution_count": null,
   "metadata": {},
   "outputs": [],
   "source": [
    "# Extract info\n",
    "result = pd.DataFrame(\n",
    "    [{**x['_source'], 'score': x['_score']} for x in res['hits']['hits']])"
   ]
  },
  {
   "cell_type": "code",
   "execution_count": 158,
   "metadata": {
    "scrolled": false
   },
   "outputs": [],
   "source": [
    "# Aggregate per restaurant\n",
    "restaurant_scores = (\n",
    "    result\n",
    "    .groupby('id')['score']\n",
    "    .agg({'max', 'count'})['max']\n",
    "    .sort_values()\n",
    ")"
   ]
  },
  {
   "cell_type": "code",
   "execution_count": 159,
   "metadata": {},
   "outputs": [
    {
     "data": {
      "text/plain": [
       "<matplotlib.axes._subplots.AxesSubplot at 0x1a2bf00ac8>"
      ]
     },
     "execution_count": 159,
     "metadata": {},
     "output_type": "execute_result"
    },
    {
     "data": {
      "image/png": "[encoded data removed]",
      "text/plain": [
       "<matplotlib.figure.Figure at 0x1a2ae4ab00>"
      ]
     },
     "metadata": {},
     "output_type": "display_data"
    }
   ],
   "source": [
    "# Plot distribution\n",
    "sns.distplot(restaurant_scores)"
   ]
  },
  {
   "cell_type": "code",
   "execution_count": 180,
   "metadata": {
    "scrolled": true
   },
   "outputs": [],
   "source": [
    "# Select burger restaurants\n",
    "burger_restaurants = (\n",
    "    restaurant_scores\n",
    "    .loc[lambda r: r > 20]\n",
    "    .reset_index()\n",
    "    ['id']\n",
    ")"
   ]
  },
  {
   "cell_type": "code",
   "execution_count": 183,
   "metadata": {
    "scrolled": true
   },
   "outputs": [],
   "source": [
    "burger_restaurants.to_csv('elasticsearch_burger_tags.csv', index=False)"
   ]
  },
  {
   "cell_type": "code",
   "execution_count": null,
   "metadata": {},
   "outputs": [],
   "source": []
  }
 ],
 "metadata": {
  "kernelspec": {
   "display_name": "Python 3",
   "language": "python",
   "name": "python3"
  },
  "language_info": {
   "codemirror_mode": {
    "name": "ipython",
    "version": 3
   },
   "file_extension": ".py",
   "mimetype": "text/x-python",
   "name": "python",
   "nbconvert_exporter": "python",
   "pygments_lexer": "ipython3",
   "version": "3.6.3"
  }
 },
 "nbformat": 4,
 "nbformat_minor": 2
}
