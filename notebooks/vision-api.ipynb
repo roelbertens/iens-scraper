{
 "cells": [
  {
   "cell_type": "markdown",
   "metadata": {},
   "source": [
    "# Google Vision API\n",
    "\n",
    "This notebook applies the google vision API to Iens restaurant pictures to detect what food is on it."
   ]
  },
  {
   "cell_type": "code",
   "execution_count": null,
   "metadata": {},
   "outputs": [],
   "source": [
    "import pandas as pd\n",
    "import pandas_gbq as gbq \n",
    "import json\n",
    "import matplotlib.pyplot as plt\n",
    "%matplotlib inline"
   ]
  },
  {
   "cell_type": "code",
   "execution_count": null,
   "metadata": {},
   "outputs": [],
   "source": [
    "# project specifics\n",
    "PRIVATE_KEY = '../google-credentials/gsdk-credentials.json'\n",
    "PROJECT_ID = json.load(open(PRIVATE_KEY))['project_id']\n",
    "APIKEY = open('../google-credentials/gc-API-key.txt').read()"
   ]
  },
  {
   "cell_type": "code",
   "execution_count": null,
   "metadata": {},
   "outputs": [],
   "source": [
    "# dataset specifics\n",
    "city = 'dongen'\n",
    "date = '20180124'\n",
    "bq_table = '_'.join(['iens.iens', city, date])  # use iens.iens_comments when querying on the comments table"
   ]
  },
  {
   "cell_type": "code",
   "execution_count": null,
   "metadata": {},
   "outputs": [],
   "source": [
    "# select all info fields, plus image_urls\n",
    "query = \"SELECT info.id, info.name, image_urls FROM {} WHERE info.nr_images > 0\".format(bq_table)\n",
    "\n",
    "df = gbq.read_gbq(query, project_id=PROJECT_ID, private_key=PRIVATE_KEY)"
   ]
  },
  {
   "cell_type": "markdown",
   "metadata": {},
   "source": [
    "## Calling the vision API "
   ]
  },
  {
   "cell_type": "markdown",
   "metadata": {},
   "source": [
    "First practice - just run a single request. See if it works!\n",
    "\n",
    "Usefull documentation: \n",
    "* https://developers.google.com/api-client-library/python/start/get_started\n",
    "* https://github.com/GoogleCloudPlatform/cloud-vision/tree/master/python/text"
   ]
  },
  {
   "cell_type": "code",
   "execution_count": null,
   "metadata": {
    "scrolled": true
   },
   "outputs": [],
   "source": [
    "from googleapiclient.discovery import build\n",
    "service = build('vision', 'v1', developerKey=APIKEY)\n",
    "collection = service.images()"
   ]
  },
  {
   "cell_type": "code",
   "execution_count": null,
   "metadata": {},
   "outputs": [],
   "source": [
    "def make_request(url):\n",
    "    return {\n",
    "        'image' : {\n",
    "            'source' : {\n",
    "                'imageUri' : url\n",
    "            }\n",
    "        },\n",
    "        'features': [{\n",
    "                    'type': 'LABEL_DETECTION',\n",
    "                    'maxResults': 10\n",
    "        }]\n",
    "    }\n",
    "\n",
    "def make_batch_request(url_list):\n",
    "    return collection.annotate(body={'requests' : [make_request(url) for url in url_list]})"
   ]
  },
  {
   "cell_type": "code",
   "execution_count": null,
   "metadata": {},
   "outputs": [],
   "source": [
    "examples = {'burger' : 'https://u.tfstatic.com/restaurant_photos/811/352811/169/612/barasti-killer-burger-b42ea.jpg',\n",
    "            'steak' : 'https://u.tfstatic.com/restaurant_photos/811/352811/169/612/barasti-ribstuk-2c5f9.jpg'}"
   ]
  },
  {
   "cell_type": "code",
   "execution_count": null,
   "metadata": {},
   "outputs": [],
   "source": [
    "from IPython.display import Image\n",
    "Image(url=examples['burger']) "
   ]
  },
  {
   "cell_type": "code",
   "execution_count": null,
   "metadata": {
    "scrolled": false
   },
   "outputs": [],
   "source": [
    "response = make_batch_request([examples['burger']]).execute()\n",
    "pd.DataFrame(response['responses'][0]['labelAnnotations']).head()"
   ]
  },
  {
   "cell_type": "markdown",
   "metadata": {},
   "source": [
    "## Set up batch request per restaurant"
   ]
  },
  {
   "cell_type": "code",
   "execution_count": null,
   "metadata": {
    "scrolled": true
   },
   "outputs": [],
   "source": [
    "restaurants_image_lists = df.groupby(['info_id', 'info_name'])['image_urls'].apply(list)"
   ]
  },
  {
   "cell_type": "code",
   "execution_count": null,
   "metadata": {},
   "outputs": [],
   "source": [
    "restaurants_image_lists"
   ]
  },
  {
   "cell_type": "code",
   "execution_count": null,
   "metadata": {},
   "outputs": [],
   "source": [
    "restaurants_image_lists[0]"
   ]
  },
  {
   "cell_type": "code",
   "execution_count": null,
   "metadata": {},
   "outputs": [],
   "source": [
    "def do_batch_request(url_list):\n",
    "    batch_request = make_batch_request(url_list)\n",
    "    try:\n",
    "        responses = batch_request.execute(num_retries=5)\n",
    "        if 'responses' not in responses:\n",
    "            return {}\n",
    "        text_response = {}\n",
    "        for image_url, response in zip(url_list, responses['responses']):\n",
    "            if 'error' in response:\n",
    "                print(\"API Error for %s: %s\" % (\n",
    "                        image_url,\n",
    "                        response['error']['message']\n",
    "                        if 'message' in response['error']\n",
    "                        else ''))\n",
    "                continue\n",
    "            if 'labelAnnotations' in response:\n",
    "                text_response[image_url] = response['labelAnnotations']\n",
    "            else:\n",
    "                text_response[image_url] = []\n",
    "        return text_response\n",
    "    except errors.HttpError as e:\n",
    "        print(\"Http Error for %s: %s\" % (image_url, e))\n",
    "    except KeyError as e2:\n",
    "        print(\"Key error: %s\" % e2)"
   ]
  },
  {
   "cell_type": "code",
   "execution_count": null,
   "metadata": {
    "scrolled": false
   },
   "outputs": [],
   "source": [
    "responses = do_batch_request(restaurants_image_lists[0])"
   ]
  },
  {
   "cell_type": "code",
   "execution_count": null,
   "metadata": {},
   "outputs": [],
   "source": []
  },
  {
   "cell_type": "code",
   "execution_count": null,
   "metadata": {},
   "outputs": [],
   "source": []
  },
  {
   "cell_type": "code",
   "execution_count": null,
   "metadata": {},
   "outputs": [],
   "source": []
  },
  {
   "cell_type": "code",
   "execution_count": null,
   "metadata": {},
   "outputs": [],
   "source": [
    "[k, v for k, v in responses if v['description'] in ('meat', 'grillades')]"
   ]
  },
  {
   "cell_type": "code",
   "execution_count": null,
   "metadata": {},
   "outputs": [],
   "source": []
  },
  {
   "cell_type": "code",
   "execution_count": null,
   "metadata": {},
   "outputs": [],
   "source": []
  },
  {
   "cell_type": "code",
   "execution_count": null,
   "metadata": {},
   "outputs": [],
   "source": []
  },
  {
   "cell_type": "code",
   "execution_count": null,
   "metadata": {},
   "outputs": [],
   "source": []
  },
  {
   "cell_type": "code",
   "execution_count": null,
   "metadata": {},
   "outputs": [],
   "source": []
  },
  {
   "cell_type": "code",
   "execution_count": null,
   "metadata": {},
   "outputs": [],
   "source": []
  },
  {
   "cell_type": "code",
   "execution_count": null,
   "metadata": {},
   "outputs": [],
   "source": []
  },
  {
   "cell_type": "code",
   "execution_count": null,
   "metadata": {},
   "outputs": [],
   "source": []
  },
  {
   "cell_type": "code",
   "execution_count": null,
   "metadata": {},
   "outputs": [],
   "source": [
    "[response for response in batch_response if ] "
   ]
  },
  {
   "cell_type": "code",
   "execution_count": null,
   "metadata": {},
   "outputs": [],
   "source": [
    "[k, v for k, v in batch_response]"
   ]
  },
  {
   "cell_type": "code",
   "execution_count": null,
   "metadata": {},
   "outputs": [],
   "source": [
    "[(label['description'], label['score']) for label in response['responses'][0]['labelAnnotations'] \n",
    " if label['description'] in ('pork belly', 'steak')]"
   ]
  },
  {
   "cell_type": "code",
   "execution_count": null,
   "metadata": {},
   "outputs": [],
   "source": [
    "[label['description'] for label in response['responses'][0]['labelAnnotations']]"
   ]
  },
  {
   "cell_type": "code",
   "execution_count": null,
   "metadata": {},
   "outputs": [],
   "source": [
    "erroraddress ='https://u.tfstatic.com/restaurant_photos/271/254271/169/612/gasterij-de-seterse-hoeve-suggestie-van-de-chef-27f2f.jpg'\n",
    "reponse = make_request_complete(erroraddress).execute()"
   ]
  },
  {
   "cell_type": "code",
   "execution_count": null,
   "metadata": {},
   "outputs": [],
   "source": [
    "response"
   ]
  },
  {
   "cell_type": "code",
   "execution_count": null,
   "metadata": {},
   "outputs": [],
   "source": [
    "[(label['description'], label['score']) for label in response['responses'][0]['labelAnnotations'] \n",
    " if label['description'] in ('pork belly', 'steak')]"
   ]
  },
  {
   "cell_type": "code",
   "execution_count": null,
   "metadata": {},
   "outputs": [],
   "source": [
    "batch = [burger, steak]"
   ]
  },
  {
   "cell_type": "code",
   "execution_count": null,
   "metadata": {},
   "outputs": [],
   "source": [
    "batch_request\n",
    "request = collection.annotate(body={'requests' : [\n",
    "    {\n",
    "        'image' : {\n",
    "            'source' : {\n",
    "                'imageUri' : steak\n",
    "            }\n",
    "        },\n",
    "        'features': [{\n",
    "                    'type': 'LABEL_DETECTION',\n",
    "                    'maxResults': 10,\n",
    "                }]\n",
    "    }\n",
    "]})"
   ]
  },
  {
   "cell_type": "code",
   "execution_count": null,
   "metadata": {},
   "outputs": [],
   "source": []
  }
 ],
 "metadata": {
  "kernelspec": {
   "display_name": "Python 3",
   "language": "python",
   "name": "python3"
  },
  "language_info": {
   "codemirror_mode": {
    "name": "ipython",
    "version": 3
   },
   "file_extension": ".py",
   "mimetype": "text/x-python",
   "name": "python",
   "nbconvert_exporter": "python",
   "pygments_lexer": "ipython3",
   "version": "3.6.3"
  }
 },
 "nbformat": 4,
 "nbformat_minor": 2
}
