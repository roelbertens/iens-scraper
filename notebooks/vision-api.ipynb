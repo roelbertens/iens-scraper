{
 "cells": [
  {
   "cell_type": "code",
   "execution_count": 1,
   "metadata": {},
   "outputs": [],
   "source": [
    "import pandas as pd\n",
    "import pandas_gbq as gbq \n",
    "import json\n",
    "import matplotlib.pyplot as plt\n",
    "%matplotlib inline"
   ]
  },
  {
   "cell_type": "markdown",
   "metadata": {},
   "source": [
    "Documentation: https://developers.google.com/api-client-library/python/start/get_started"
   ]
  },
  {
   "cell_type": "code",
   "execution_count": 3,
   "metadata": {},
   "outputs": [],
   "source": [
    "APIKEY = open('../google-credentials/gc-API-key.txt').read()"
   ]
  },
  {
   "cell_type": "code",
   "execution_count": 7,
   "metadata": {
    "scrolled": true
   },
   "outputs": [],
   "source": [
    "from apiclient.discovery import build\n",
    "service = build('vision', 'v1', developerKey=APIKEY)"
   ]
  },
  {
   "cell_type": "code",
   "execution_count": 8,
   "metadata": {},
   "outputs": [],
   "source": [
    "collection = service.images()"
   ]
  },
  {
   "cell_type": "markdown",
   "metadata": {},
   "source": [
    "constructing call: https://github.com/GoogleCloudPlatform/cloud-vision/tree/master/python/text"
   ]
  },
  {
   "cell_type": "code",
   "execution_count": 9,
   "metadata": {},
   "outputs": [],
   "source": [
    "burger = 'https://u.tfstatic.com/restaurant_photos/811/352811/169/612/barasti-killer-burger-b42ea.jpg'"
   ]
  },
  {
   "cell_type": "code",
   "execution_count": 23,
   "metadata": {},
   "outputs": [],
   "source": [
    "steak = 'https://u.tfstatic.com/restaurant_photos/811/352811/169/612/barasti-ribstuk-2c5f9.jpg'"
   ]
  },
  {
   "cell_type": "code",
   "execution_count": 24,
   "metadata": {},
   "outputs": [],
   "source": [
    "request = collection.annotate(body={'requests' : [\n",
    "    {\n",
    "        'image' : {\n",
    "            'source' : {\n",
    "                'imageUri' : steak\n",
    "            }\n",
    "        },\n",
    "        'features': [{\n",
    "                    'type': 'LABEL_DETECTION',\n",
    "                    'maxResults': 10,\n",
    "                }]\n",
    "    }\n",
    "]})"
   ]
  },
  {
   "cell_type": "code",
   "execution_count": 25,
   "metadata": {},
   "outputs": [
    {
     "data": {
      "text/plain": [
       "{'responses': [{'labelAnnotations': [{'description': 'dish',\n",
       "     'mid': '/m/02q08p0',\n",
       "     'score': 0.92503613,\n",
       "     'topicality': 0.92503613},\n",
       "    {'description': 'food',\n",
       "     'mid': '/m/02wbm',\n",
       "     'score': 0.7805728,\n",
       "     'topicality': 0.7805728},\n",
       "    {'description': 'meat',\n",
       "     'mid': '/m/04scj',\n",
       "     'score': 0.7614169,\n",
       "     'topicality': 0.7614169},\n",
       "    {'description': 'cuisine',\n",
       "     'mid': '/m/01ykh',\n",
       "     'score': 0.7269447,\n",
       "     'topicality': 0.7269447},\n",
       "    {'description': 'animal source foods',\n",
       "     'mid': '/m/03qnfyd',\n",
       "     'score': 0.6809634,\n",
       "     'topicality': 0.6809634},\n",
       "    {'description': 'beef',\n",
       "     'mid': '/m/0971v',\n",
       "     'score': 0.6001144,\n",
       "     'topicality': 0.6001144},\n",
       "    {'description': 'steak',\n",
       "     'mid': '/m/0grtl',\n",
       "     'score': 0.57821566,\n",
       "     'topicality': 0.57821566},\n",
       "    {'description': 'pork belly',\n",
       "     'mid': '/m/058ksc',\n",
       "     'score': 0.56761837,\n",
       "     'topicality': 0.56761837},\n",
       "    {'description': 'short ribs',\n",
       "     'mid': '/m/0fy8cb',\n",
       "     'score': 0.549501,\n",
       "     'topicality': 0.549501}]}]}"
      ]
     },
     "execution_count": 25,
     "metadata": {},
     "output_type": "execute_result"
    }
   ],
   "source": [
    "request.execute()"
   ]
  },
  {
   "cell_type": "code",
   "execution_count": null,
   "metadata": {},
   "outputs": [],
   "source": []
  },
  {
   "cell_type": "code",
   "execution_count": null,
   "metadata": {},
   "outputs": [],
   "source": []
  }
 ],
 "metadata": {
  "kernelspec": {
   "display_name": "Python 3",
   "language": "python",
   "name": "python3"
  },
  "language_info": {
   "codemirror_mode": {
    "name": "ipython",
    "version": 3
   },
   "file_extension": ".py",
   "mimetype": "text/x-python",
   "name": "python",
   "nbconvert_exporter": "python",
   "pygments_lexer": "ipython3",
   "version": "3.6.3"
  }
 },
 "nbformat": 4,
 "nbformat_minor": 2
}
