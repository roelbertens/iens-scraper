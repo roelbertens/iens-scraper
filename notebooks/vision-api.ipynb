{
 "cells": [
  {
   "cell_type": "markdown",
   "metadata": {},
   "source": [
    "# Google Vision API\n",
    "\n",
    "This notebook applies the google vision API to Iens restaurant pictures to detect what food is on it."
   ]
  },
  {
   "cell_type": "code",
   "execution_count": null,
   "metadata": {},
   "outputs": [],
   "source": [
    "import pandas as pd\n",
    "import pandas_gbq as gbq \n",
    "import json\n",
    "import matplotlib.pyplot as plt\n",
    "pd.set_option('display.max_colwidth', 250) # Show all columns\n",
    "%matplotlib inline"
   ]
  },
  {
   "cell_type": "code",
   "execution_count": null,
   "metadata": {},
   "outputs": [],
   "source": [
    "# project specifics\n",
    "PRIVATE_KEY = '../google-credentials/gsdk-credentials.json'\n",
    "PROJECT_ID = json.load(open(PRIVATE_KEY))['project_id']\n",
    "APIKEY = open('../google-credentials/gc-API-key.txt').read()"
   ]
  },
  {
   "cell_type": "code",
   "execution_count": null,
   "metadata": {},
   "outputs": [],
   "source": [
    "# dataset specifics\n",
    "city = 'dongen'\n",
    "date = '20180124'\n",
    "bq_table = '_'.join(['iens.iens', city, date])  # use iens.iens_comments when querying on the comments table\n",
    "bq_table_out = '_'.join(['iens.iens_images', city, date])  "
   ]
  },
  {
   "cell_type": "code",
   "execution_count": null,
   "metadata": {},
   "outputs": [],
   "source": [
    "# select all info fields, plus image_urls\n",
    "query = \"SELECT info.id, info.name, image_urls FROM {} WHERE info.nr_images > 0\".format(bq_table)\n",
    "\n",
    "df = gbq.read_gbq(query, project_id=PROJECT_ID, private_key=PRIVATE_KEY)"
   ]
  },
  {
   "cell_type": "code",
   "execution_count": null,
   "metadata": {},
   "outputs": [],
   "source": [
    "df.shape"
   ]
  },
  {
   "cell_type": "markdown",
   "metadata": {},
   "source": [
    "## Calling the vision API "
   ]
  },
  {
   "cell_type": "markdown",
   "metadata": {},
   "source": [
    "First practice - just run a single request. See if it works!\n",
    "\n",
    "Usefull documentation: \n",
    "* https://developers.google.com/api-client-library/python/start/get_started\n",
    "* https://github.com/GoogleCloudPlatform/cloud-vision/tree/master/python/text"
   ]
  },
  {
   "cell_type": "code",
   "execution_count": null,
   "metadata": {
    "scrolled": true
   },
   "outputs": [],
   "source": [
    "from googleapiclient.discovery import build\n",
    "service = build('vision', 'v1', developerKey=APIKEY)\n",
    "collection = service.images()"
   ]
  },
  {
   "cell_type": "code",
   "execution_count": null,
   "metadata": {},
   "outputs": [],
   "source": [
    "def make_request(url):\n",
    "    return {\n",
    "        'image' : {\n",
    "            'source' : {\n",
    "                'imageUri' : url\n",
    "            }\n",
    "        },\n",
    "        'features': [{\n",
    "                    'type': 'LABEL_DETECTION',\n",
    "                    'maxResults': 10\n",
    "        }]\n",
    "    }\n",
    "\n",
    "def make_batch_request(url_list):\n",
    "    return collection.annotate(body={'requests' : [make_request(url) for url in url_list]})\n",
    "\n",
    "def execute_batch_request(url_list):\n",
    "    return make_batch_request(url_list).execute()['responses']"
   ]
  },
  {
   "cell_type": "code",
   "execution_count": null,
   "metadata": {},
   "outputs": [],
   "source": [
    "examples = {'burger' : 'https://u.tfstatic.com/restaurant_photos/811/352811/169/612/barasti-killer-burger-b42ea.jpg',\n",
    "            'steak' : 'https://u.tfstatic.com/restaurant_photos/811/352811/169/612/barasti-ribstuk-2c5f9.jpg'}"
   ]
  },
  {
   "cell_type": "code",
   "execution_count": null,
   "metadata": {},
   "outputs": [],
   "source": [
    "from IPython.display import Image\n",
    "Image(url=examples['burger']) "
   ]
  },
  {
   "cell_type": "code",
   "execution_count": null,
   "metadata": {},
   "outputs": [],
   "source": [
    "pd.DataFrame(execute_batch_request([examples['burger']])[0]['labelAnnotations'])"
   ]
  },
  {
   "cell_type": "markdown",
   "metadata": {},
   "source": [
    "## Set up batch request per restaurant"
   ]
  },
  {
   "cell_type": "markdown",
   "metadata": {},
   "source": [
    "What we want is a dictionary with the following structure, to upload into Google BigQuery:\n",
    "\n",
    "* restaurant id = integer\n",
    "* images = list of dicts:\n",
    "    * image url = string\n",
    "    * labelAnnotation = list of dicts:\n",
    "        - description\n",
    "        - mid\n",
    "        - score\n",
    "        - topicality"
   ]
  },
  {
   "cell_type": "code",
   "execution_count": null,
   "metadata": {
    "scrolled": true
   },
   "outputs": [],
   "source": [
    "# convert to Series for batch request per restaurant\n",
    "restaurant_image_list = df.groupby(['info_id'])['image_urls'].apply(list)\n",
    "\n",
    "result = []\n",
    "for restaurant_id, image_urls in restaurant_image_list.iteritems():\n",
    "    # do batch request\n",
    "    responses = execute_batch_request(image_urls)\n",
    "    # create images object for one restaurant\n",
    "    images = [\n",
    "        {\n",
    "            'image_url' : image_url,\n",
    "            'label_annotations' : label_annotations['labelAnnotations']\n",
    "        }\n",
    "        for image_url, label_annotations in \n",
    "        zip(image_urls, responses)\n",
    "    ]\n",
    "    # add results for one restaurant to list\n",
    "    result.append({'info_id' : restaurant_id, 'images' : images})\n",
    "    \n",
    "len(result)"
   ]
  },
  {
   "cell_type": "markdown",
   "metadata": {},
   "source": [
    "#### Write to jsonlines\n",
    "\n",
    "for BigQuery save as jsonlines"
   ]
  },
  {
   "cell_type": "code",
   "execution_count": null,
   "metadata": {},
   "outputs": [],
   "source": [
    "file = open('../iens_scraper/output/' + bq_table_out + '.jsonlines', 'w')\n",
    "for item in result:\n",
    "    file.write('%s\\n' % item)\n",
    "file.close()"
   ]
  },
  {
   "cell_type": "markdown",
   "metadata": {},
   "source": [
    "#### upload to BigQuery\n",
    "\n",
    "Would be nicer to do this directly from python. For example with `gbq.to_gbq` (which is for dataframes only)."
   ]
  },
  {
   "cell_type": "code",
   "execution_count": null,
   "metadata": {},
   "outputs": [],
   "source": [
    "!bq load --autodetect --replace --source_format=NEWLINE_DELIMITED_JSON \\\n",
    "        {bq_table_out} ../iens_scraper/output/{bq_table_out}.jsonlines"
   ]
  },
  {
   "cell_type": "markdown",
   "metadata": {},
   "source": [
    "### Query images\n",
    "\n",
    "For example getting the top 15 most found labels by the vision API."
   ]
  },
  {
   "cell_type": "code",
   "execution_count": null,
   "metadata": {},
   "outputs": [],
   "source": [
    "query = \"\"\"\n",
    "SELECT images.label_annotations.description, COUNT(*) AS count \n",
    "FROM {} \n",
    "GROUP BY images.label_annotations.description \n",
    "ORDER BY count DESC\n",
    "LIMIT 15;\n",
    "\"\"\".format(bq_table_out)\n",
    "\n",
    "gbq.read_gbq(query, project_id=PROJECT_ID, private_key=PRIVATE_KEY)"
   ]
  },
  {
   "cell_type": "markdown",
   "metadata": {},
   "source": [
    "Or.. getting the max grilling score for each restaurant:"
   ]
  },
  {
   "cell_type": "code",
   "execution_count": null,
   "metadata": {},
   "outputs": [],
   "source": [
    "keywords = ('grillades', 'grilling')#('hamburger', 'cheeseburger')\n",
    "query = \"\"\"\n",
    "SELECT\n",
    "  info_id, images.image_url, images.label_annotations.score\n",
    "FROM (\n",
    "  SELECT \n",
    "      *,\n",
    "      ROW_NUMBER() OVER(PARTITION BY info_id ORDER BY images.image_url DESC, images.label_annotations.score DESC) AS highest_score\n",
    "  FROM {}\n",
    "  WHERE images.label_annotations.description IN {}\n",
    ")\n",
    "WHERE highest_score = 1\n",
    "\"\"\".format(bq_table_out, keywords)\n",
    "\n",
    "gbq.read_gbq(query, project_id=PROJECT_ID, private_key=PRIVATE_KEY)"
   ]
  }
 ],
 "metadata": {
  "kernelspec": {
   "display_name": "Python 3",
   "language": "python",
   "name": "python3"
  },
  "language_info": {
   "codemirror_mode": {
    "name": "ipython",
    "version": 3
   },
   "file_extension": ".py",
   "mimetype": "text/x-python",
   "name": "python",
   "nbconvert_exporter": "python",
   "pygments_lexer": "ipython3",
   "version": "3.6.3"
  }
 },
 "nbformat": 4,
 "nbformat_minor": 2
}
