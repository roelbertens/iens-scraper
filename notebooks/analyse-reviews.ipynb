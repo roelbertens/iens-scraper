{
 "cells": [
  {
   "cell_type": "markdown",
   "metadata": {},
   "source": [
    "# Analysis of restaurant reviews"
   ]
  },
  {
   "cell_type": "markdown",
   "metadata": {},
   "source": [
    "In this notebook we analyze the Iens restaurant reviews for a city and a specific date."
   ]
  },
  {
   "cell_type": "markdown",
   "metadata": {},
   "source": [
    "In case gbq is not working you might need to update the python api client library:\n",
    "\n",
    "```bash\n",
    "sudo pip install --upgrade google-api-python-client\n",
    "```"
   ]
  },
  {
   "cell_type": "code",
   "execution_count": 1,
   "metadata": {
    "scrolled": true
   },
   "outputs": [],
   "source": [
    "import pandas as pd\n",
    "import pandas_gbq as gbq \n",
    "import json\n",
    "import matplotlib\n",
    "%matplotlib inline\n",
    "# hide warnings. `gbq.read_gbq()` gives some\n",
    "import warnings\n",
    "warnings.filterwarnings('ignore')"
   ]
  },
  {
   "cell_type": "code",
   "execution_count": 2,
   "metadata": {},
   "outputs": [],
   "source": [
    "# project specifics\n",
    "PRIVATE_KEY = '../google-credentials/gsdk-credentials.json'\n",
    "PROJECT_ID = json.load(open(PRIVATE_KEY))['project_id']"
   ]
  },
  {
   "cell_type": "code",
   "execution_count": 3,
   "metadata": {},
   "outputs": [],
   "source": [
    "# dataset specifics\n",
    "city = 'amsterdam'\n",
    "date = '20171228'\n",
    "bq_table = '_'.join(['iens.iens_comments', city, date])"
   ]
  },
  {
   "cell_type": "markdown",
   "metadata": {},
   "source": [
    "## Reading from BigQuery"
   ]
  },
  {
   "cell_type": "markdown",
   "metadata": {},
   "source": [
    "To load a BigQuery table into a Pandas dataframe, all you need is a query, the project_id, and a way to authenticate."
   ]
  },
  {
   "cell_type": "code",
   "execution_count": 4,
   "metadata": {},
   "outputs": [
    {
     "name": "stdout",
     "output_type": "stream",
     "text": [
      "Requesting query... ok.\n",
      "Job ID: job_X-HQ9Xbnd6gCLQgr8ebBN-QfFaTs\n",
      "Query running...\n",
      "Query done.\n",
      "Cache hit.\n",
      "\n",
      "Retrieving results...\n",
      "  Got page: 2; 42% done. Elapsed 10.48 s.\n",
      "  Got page: 3; 68% done. Elapsed 16.88 s.\n",
      "  Got page: 4; 86% done. Elapsed 22.43 s.\n",
      "  Got page: 5; 100% done. Elapsed 26.15 s.\n",
      "Got 93541 rows.\n",
      "\n",
      "Total time taken 27.52 s.\n",
      "Finished at 2017-12-29 09:53:16.\n"
     ]
    }
   ],
   "source": [
    "query = \"SELECT * FROM {}\".format(bq_table)\n",
    "\n",
    "df = gbq.read_gbq(query, project_id=PROJECT_ID, private_key=PRIVATE_KEY)"
   ]
  },
  {
   "cell_type": "code",
   "execution_count": 5,
   "metadata": {
    "scrolled": true
   },
   "outputs": [
    {
     "data": {
      "text/plain": [
       "(93541, 10)"
      ]
     },
     "execution_count": 5,
     "metadata": {},
     "output_type": "execute_result"
    }
   ],
   "source": [
    "df.shape"
   ]
  },
  {
   "cell_type": "markdown",
   "metadata": {},
   "source": [
    "## Analysis"
   ]
  },
  {
   "cell_type": "code",
   "execution_count": 6,
   "metadata": {
    "scrolled": false
   },
   "outputs": [],
   "source": [
    "df['date'] = pd.to_datetime(df['date'])\n",
    "df['yearmonth'] = df['date'].dt.strftime('%Y-%m')\n",
    "df['month'] = df['date'].dt.strftime('%m')"
   ]
  },
  {
   "cell_type": "code",
   "execution_count": 7,
   "metadata": {},
   "outputs": [
    {
     "data": {
      "text/html": [
       "<div>\n",
       "<style scoped>\n",
       "    .dataframe tbody tr th:only-of-type {\n",
       "        vertical-align: middle;\n",
       "    }\n",
       "\n",
       "    .dataframe tbody tr th {\n",
       "        vertical-align: top;\n",
       "    }\n",
       "\n",
       "    .dataframe thead th {\n",
       "        text-align: right;\n",
       "    }\n",
       "</style>\n",
       "<table border=\"1\" class=\"dataframe\">\n",
       "  <thead>\n",
       "    <tr style=\"text-align: right;\">\n",
       "      <th></th>\n",
       "      <th>name</th>\n",
       "      <th>reserved_online</th>\n",
       "      <th>id</th>\n",
       "      <th>rating_service</th>\n",
       "      <th>date</th>\n",
       "      <th>rating_food</th>\n",
       "      <th>rating_decor</th>\n",
       "      <th>reviewer</th>\n",
       "      <th>rating</th>\n",
       "      <th>comment</th>\n",
       "      <th>yearmonth</th>\n",
       "      <th>month</th>\n",
       "    </tr>\n",
       "  </thead>\n",
       "  <tbody>\n",
       "    <tr>\n",
       "      <th>0</th>\n",
       "      <td>Dynasty</td>\n",
       "      <td>False</td>\n",
       "      <td>219781</td>\n",
       "      <td>7</td>\n",
       "      <td>2012-09-12</td>\n",
       "      <td>9</td>\n",
       "      <td>8</td>\n",
       "      <td>Diede van O.</td>\n",
       "      <td>8.3</td>\n",
       "      <td>Heerlijke aziatische gerechten. Vooral de 'Sec...</td>\n",
       "      <td>2012-09</td>\n",
       "      <td>09</td>\n",
       "    </tr>\n",
       "    <tr>\n",
       "      <th>1</th>\n",
       "      <td>Dynasty</td>\n",
       "      <td>False</td>\n",
       "      <td>219781</td>\n",
       "      <td>7</td>\n",
       "      <td>2013-04-12</td>\n",
       "      <td>9</td>\n",
       "      <td>8</td>\n",
       "      <td>Cecilia V.</td>\n",
       "      <td>8.3</td>\n",
       "      <td>Echt een restaurant om lekker een avondje lang...</td>\n",
       "      <td>2013-04</td>\n",
       "      <td>04</td>\n",
       "    </tr>\n",
       "    <tr>\n",
       "      <th>2</th>\n",
       "      <td>Levant</td>\n",
       "      <td>True</td>\n",
       "      <td>220293</td>\n",
       "      <td>9</td>\n",
       "      <td>2016-02-05</td>\n",
       "      <td>8</td>\n",
       "      <td>8</td>\n",
       "      <td>Kirsten D.</td>\n",
       "      <td>8.3</td>\n",
       "      <td>Het restaurant oogt erg chique. Personeel is e...</td>\n",
       "      <td>2016-02</td>\n",
       "      <td>02</td>\n",
       "    </tr>\n",
       "    <tr>\n",
       "      <th>3</th>\n",
       "      <td>Levant</td>\n",
       "      <td>False</td>\n",
       "      <td>220293</td>\n",
       "      <td>9</td>\n",
       "      <td>2014-02-01</td>\n",
       "      <td>8</td>\n",
       "      <td>8</td>\n",
       "      <td>Peter T.</td>\n",
       "      <td>8.3</td>\n",
       "      <td>Zaterdagavond hier gegeten. De ontvangst was h...</td>\n",
       "      <td>2014-02</td>\n",
       "      <td>02</td>\n",
       "    </tr>\n",
       "    <tr>\n",
       "      <th>4</th>\n",
       "      <td>Levant</td>\n",
       "      <td>True</td>\n",
       "      <td>220293</td>\n",
       "      <td>9</td>\n",
       "      <td>2016-02-13</td>\n",
       "      <td>8</td>\n",
       "      <td>8</td>\n",
       "      <td>Daphne D.</td>\n",
       "      <td>8.3</td>\n",
       "      <td>Relaxte sfeer, heerlijk en smaakvol eten! Fijn...</td>\n",
       "      <td>2016-02</td>\n",
       "      <td>02</td>\n",
       "    </tr>\n",
       "  </tbody>\n",
       "</table>\n",
       "</div>"
      ],
      "text/plain": [
       "      name  reserved_online      id  rating_service       date  rating_food  \\\n",
       "0  Dynasty            False  219781               7 2012-09-12            9   \n",
       "1  Dynasty            False  219781               7 2013-04-12            9   \n",
       "2   Levant             True  220293               9 2016-02-05            8   \n",
       "3   Levant            False  220293               9 2014-02-01            8   \n",
       "4   Levant             True  220293               9 2016-02-13            8   \n",
       "\n",
       "   rating_decor      reviewer  rating  \\\n",
       "0             8  Diede van O.     8.3   \n",
       "1             8    Cecilia V.     8.3   \n",
       "2             8    Kirsten D.     8.3   \n",
       "3             8      Peter T.     8.3   \n",
       "4             8     Daphne D.     8.3   \n",
       "\n",
       "                                             comment yearmonth month  \n",
       "0  Heerlijke aziatische gerechten. Vooral de 'Sec...   2012-09    09  \n",
       "1  Echt een restaurant om lekker een avondje lang...   2013-04    04  \n",
       "2  Het restaurant oogt erg chique. Personeel is e...   2016-02    02  \n",
       "3  Zaterdagavond hier gegeten. De ontvangst was h...   2014-02    02  \n",
       "4  Relaxte sfeer, heerlijk en smaakvol eten! Fijn...   2016-02    02  "
      ]
     },
     "execution_count": 7,
     "metadata": {},
     "output_type": "execute_result"
    }
   ],
   "source": [
    "df.head()"
   ]
  },
  {
   "cell_type": "code",
   "execution_count": 8,
   "metadata": {},
   "outputs": [
    {
     "data": {
      "image/png": "[encoded data removed]",
      "text/plain": [
       "<matplotlib.figure.Figure at 0x123190940>"
      ]
     },
     "metadata": {},
     "output_type": "display_data"
    }
   ],
   "source": [
    "(\n",
    "    df\n",
    "    .assign(nr_reviews=1)\n",
    "    .groupby('yearmonth')\n",
    "    .agg({'nr_reviews' : sum})\n",
    ").nr_reviews.plot(figsize=(16,6), title='Number of reviews per month');"
   ]
  },
  {
   "cell_type": "code",
   "execution_count": null,
   "metadata": {},
   "outputs": [],
   "source": []
  },
  {
   "cell_type": "code",
   "execution_count": null,
   "metadata": {},
   "outputs": [],
   "source": []
  }
 ],
 "metadata": {
  "kernelspec": {
   "display_name": "Python 3",
   "language": "python",
   "name": "python3"
  },
  "language_info": {
   "codemirror_mode": {
    "name": "ipython",
    "version": 3
   },
   "file_extension": ".py",
   "mimetype": "text/x-python",
   "name": "python",
   "nbconvert_exporter": "python",
   "pygments_lexer": "ipython3",
   "version": "3.6.3"
  }
 },
 "nbformat": 4,
 "nbformat_minor": 2
}
