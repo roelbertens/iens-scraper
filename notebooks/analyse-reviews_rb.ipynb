{
 "cells": [
  {
   "cell_type": "markdown",
   "metadata": {},
   "source": [
    "# Analysis of restaurant reviews"
   ]
  },
  {
   "cell_type": "markdown",
   "metadata": {},
   "source": [
    "In this notebook we analyze the Iens restaurant reviews for a city and a specific date."
   ]
  },
  {
   "cell_type": "markdown",
   "metadata": {},
   "source": [
    "In case gbq is not working you might need to update the python api client library:\n",
    "\n",
    "```bash\n",
    "sudo pip install --upgrade google-api-python-client\n",
    "```"
   ]
  },
  {
   "cell_type": "code",
   "execution_count": 108,
   "metadata": {
    "scrolled": false
   },
   "outputs": [],
   "source": [
    "import pandas as pd\n",
    "import numpy as np\n",
    "import pandas_gbq as gbq \n",
    "import json\n",
    "import seaborn as sns\n",
    "import matplotlib.pyplot as plt\n",
    "%matplotlib inline\n",
    "# hide warnings. `gbq.read_gbq()` gives some\n",
    "import warnings\n",
    "warnings.filterwarnings('ignore')"
   ]
  },
  {
   "cell_type": "code",
   "execution_count": 2,
   "metadata": {},
   "outputs": [],
   "source": [
    "# project specifics\n",
    "PRIVATE_KEY = '../google-credentials/gsdk-credentials.json'\n",
    "PROJECT_ID = json.load(open(PRIVATE_KEY))['project_id']"
   ]
  },
  {
   "cell_type": "code",
   "execution_count": 3,
   "metadata": {},
   "outputs": [],
   "source": [
    "# dataset specifics\n",
    "city = 'amsterdam'\n",
    "date = '20171228'\n",
    "bq_table = '_'.join(['iens.iens_comments', city, date])"
   ]
  },
  {
   "cell_type": "code",
   "execution_count": 4,
   "metadata": {},
   "outputs": [],
   "source": [
    "# dataset specifics (restaurants info)\n",
    "bq_table_restaurants = '_'.join(['iens.iens', city, date])"
   ]
  },
  {
   "cell_type": "markdown",
   "metadata": {},
   "source": [
    "## Reading from BigQuery"
   ]
  },
  {
   "cell_type": "markdown",
   "metadata": {},
   "source": [
    "To load a BigQuery table into a Pandas dataframe, all you need is a query, the project_id, and a way to authenticate."
   ]
  },
  {
   "cell_type": "code",
   "execution_count": 5,
   "metadata": {
    "scrolled": true
   },
   "outputs": [
    {
     "name": "stdout",
     "output_type": "stream",
     "text": [
      "Requesting query... ok.\n",
      "Job ID: job_W3d1rVPW7bjWwYPKlldF7ZcK3XKG\n",
      "Query running...\n",
      "Query done.\n",
      "Processed: 46.1 MB\n",
      "Standard price: $0.00 USD\n",
      "\n",
      "Retrieving results...\n",
      "  Got page: 1; 18% done. Elapsed 10.08 s.\n",
      "  Got page: 2; 42% done. Elapsed 16.2 s.\n",
      "  Got page: 3; 68% done. Elapsed 21.72 s.\n",
      "  Got page: 4; 86% done. Elapsed 27.38 s.\n",
      "  Got page: 5; 100% done. Elapsed 31.58 s.\n",
      "Got 93541 rows.\n",
      "\n",
      "Total time taken 33.1 s.\n",
      "Finished at 2017-12-31 12:04:49.\n"
     ]
    }
   ],
   "source": [
    "query = \"SELECT * FROM {}\".format(bq_table)\n",
    "\n",
    "df = gbq.read_gbq(query, project_id=PROJECT_ID, private_key=PRIVATE_KEY)"
   ]
  },
  {
   "cell_type": "code",
   "execution_count": 6,
   "metadata": {
    "scrolled": true
   },
   "outputs": [
    {
     "data": {
      "text/plain": [
       "(93541, 10)"
      ]
     },
     "execution_count": 6,
     "metadata": {},
     "output_type": "execute_result"
    }
   ],
   "source": [
    "df.shape"
   ]
  },
  {
   "cell_type": "code",
   "execution_count": 7,
   "metadata": {
    "scrolled": true
   },
   "outputs": [
    {
     "name": "stdout",
     "output_type": "stream",
     "text": [
      "Requesting query... ok.\n",
      "Job ID: job_qdumXe7jUkPo601PwcgdL8VezHGz\n",
      "Query running...\n",
      "Query done.\n",
      "Processed: 895.2 KB\n",
      "Standard price: $0.00 USD\n",
      "\n",
      "Retrieving results...\n",
      "  Got page: 2; 100% done. Elapsed 7.7 s.\n",
      "Got 20939 rows.\n",
      "\n",
      "Total time taken 8.47 s.\n",
      "Finished at 2017-12-31 12:04:58.\n"
     ]
    }
   ],
   "source": [
    "query_restaurants = \"SELECT * FROM {}\".format(bq_table_restaurants)\n",
    "\n",
    "df_restaurants = gbq.read_gbq(query_restaurants, project_id=PROJECT_ID, private_key=PRIVATE_KEY)"
   ]
  },
  {
   "cell_type": "code",
   "execution_count": 8,
   "metadata": {},
   "outputs": [
    {
     "data": {
      "text/plain": [
       "(20939, 25)"
      ]
     },
     "execution_count": 8,
     "metadata": {},
     "output_type": "execute_result"
    }
   ],
   "source": [
    "df_restaurants.shape"
   ]
  },
  {
   "cell_type": "code",
   "execution_count": 9,
   "metadata": {},
   "outputs": [
    {
     "data": {
      "text/plain": [
       "(2827, 24)"
      ]
     },
     "execution_count": 9,
     "metadata": {},
     "output_type": "execute_result"
    }
   ],
   "source": [
    "df_res = df_restaurants.drop('tags', axis=1).drop_duplicates()\n",
    "df_res.shape"
   ]
  },
  {
   "cell_type": "markdown",
   "metadata": {},
   "source": [
    "# Analysis"
   ]
  },
  {
   "cell_type": "markdown",
   "metadata": {},
   "source": [
    "## Working title: Niet omdat het moet, maar omdat het kan\n",
    "## Working title: Data-driven lunching\n"
   ]
  },
  {
   "cell_type": "markdown",
   "metadata": {},
   "source": [
    "## Wishlist\n",
    "* normalize reviews based on overall distribution -> same restaurant still the best?\n",
    "    * only few percent of reviewers has more than 10 reviews\n"
   ]
  },
  {
   "cell_type": "code",
   "execution_count": 10,
   "metadata": {
    "scrolled": false
   },
   "outputs": [],
   "source": [
    "df['date'] = pd.to_datetime(df['date'])\n",
    "df['yearmonth'] = df['date'].dt.strftime('%Y-%m')\n",
    "df['year'] = df['date'].dt.strftime('%y')\n",
    "df['month'] = df['date'].dt.strftime('%m')"
   ]
  },
  {
   "cell_type": "code",
   "execution_count": 11,
   "metadata": {
    "scrolled": true
   },
   "outputs": [
    {
     "data": {
      "text/html": [
       "<div>\n",
       "<style scoped>\n",
       "    .dataframe tbody tr th:only-of-type {\n",
       "        vertical-align: middle;\n",
       "    }\n",
       "\n",
       "    .dataframe tbody tr th {\n",
       "        vertical-align: top;\n",
       "    }\n",
       "\n",
       "    .dataframe thead th {\n",
       "        text-align: right;\n",
       "    }\n",
       "</style>\n",
       "<table border=\"1\" class=\"dataframe\">\n",
       "  <thead>\n",
       "    <tr style=\"text-align: right;\">\n",
       "      <th></th>\n",
       "      <th>0</th>\n",
       "      <th>1</th>\n",
       "      <th>2</th>\n",
       "      <th>3</th>\n",
       "      <th>4</th>\n",
       "    </tr>\n",
       "  </thead>\n",
       "  <tbody>\n",
       "    <tr>\n",
       "      <th>name</th>\n",
       "      <td>Dynasty</td>\n",
       "      <td>Dynasty</td>\n",
       "      <td>Levant</td>\n",
       "      <td>Levant</td>\n",
       "      <td>Levant</td>\n",
       "    </tr>\n",
       "    <tr>\n",
       "      <th>reserved_online</th>\n",
       "      <td>False</td>\n",
       "      <td>False</td>\n",
       "      <td>True</td>\n",
       "      <td>False</td>\n",
       "      <td>True</td>\n",
       "    </tr>\n",
       "    <tr>\n",
       "      <th>id</th>\n",
       "      <td>219781</td>\n",
       "      <td>219781</td>\n",
       "      <td>220293</td>\n",
       "      <td>220293</td>\n",
       "      <td>220293</td>\n",
       "    </tr>\n",
       "    <tr>\n",
       "      <th>rating_service</th>\n",
       "      <td>7</td>\n",
       "      <td>7</td>\n",
       "      <td>9</td>\n",
       "      <td>9</td>\n",
       "      <td>9</td>\n",
       "    </tr>\n",
       "    <tr>\n",
       "      <th>date</th>\n",
       "      <td>2012-09-12 00:00:00</td>\n",
       "      <td>2013-04-12 00:00:00</td>\n",
       "      <td>2016-02-05 00:00:00</td>\n",
       "      <td>2014-02-01 00:00:00</td>\n",
       "      <td>2016-02-13 00:00:00</td>\n",
       "    </tr>\n",
       "    <tr>\n",
       "      <th>rating_food</th>\n",
       "      <td>9</td>\n",
       "      <td>9</td>\n",
       "      <td>8</td>\n",
       "      <td>8</td>\n",
       "      <td>8</td>\n",
       "    </tr>\n",
       "    <tr>\n",
       "      <th>rating_decor</th>\n",
       "      <td>8</td>\n",
       "      <td>8</td>\n",
       "      <td>8</td>\n",
       "      <td>8</td>\n",
       "      <td>8</td>\n",
       "    </tr>\n",
       "    <tr>\n",
       "      <th>reviewer</th>\n",
       "      <td>Diede van O.</td>\n",
       "      <td>Cecilia V.</td>\n",
       "      <td>Kirsten D.</td>\n",
       "      <td>Peter T.</td>\n",
       "      <td>Daphne D.</td>\n",
       "    </tr>\n",
       "    <tr>\n",
       "      <th>rating</th>\n",
       "      <td>8.3</td>\n",
       "      <td>8.3</td>\n",
       "      <td>8.3</td>\n",
       "      <td>8.3</td>\n",
       "      <td>8.3</td>\n",
       "    </tr>\n",
       "    <tr>\n",
       "      <th>comment</th>\n",
       "      <td>Heerlijke aziatische gerechten. Vooral de 'Sec...</td>\n",
       "      <td>Echt een restaurant om lekker een avondje lang...</td>\n",
       "      <td>Het restaurant oogt erg chique. Personeel is e...</td>\n",
       "      <td>Zaterdagavond hier gegeten. De ontvangst was h...</td>\n",
       "      <td>Relaxte sfeer, heerlijk en smaakvol eten! Fijn...</td>\n",
       "    </tr>\n",
       "    <tr>\n",
       "      <th>yearmonth</th>\n",
       "      <td>2012-09</td>\n",
       "      <td>2013-04</td>\n",
       "      <td>2016-02</td>\n",
       "      <td>2014-02</td>\n",
       "      <td>2016-02</td>\n",
       "    </tr>\n",
       "    <tr>\n",
       "      <th>year</th>\n",
       "      <td>12</td>\n",
       "      <td>13</td>\n",
       "      <td>16</td>\n",
       "      <td>14</td>\n",
       "      <td>16</td>\n",
       "    </tr>\n",
       "    <tr>\n",
       "      <th>month</th>\n",
       "      <td>09</td>\n",
       "      <td>04</td>\n",
       "      <td>02</td>\n",
       "      <td>02</td>\n",
       "      <td>02</td>\n",
       "    </tr>\n",
       "  </tbody>\n",
       "</table>\n",
       "</div>"
      ],
      "text/plain": [
       "                                                                 0  \\\n",
       "name                                                       Dynasty   \n",
       "reserved_online                                              False   \n",
       "id                                                          219781   \n",
       "rating_service                                                   7   \n",
       "date                                           2012-09-12 00:00:00   \n",
       "rating_food                                                      9   \n",
       "rating_decor                                                     8   \n",
       "reviewer                                              Diede van O.   \n",
       "rating                                                         8.3   \n",
       "comment          Heerlijke aziatische gerechten. Vooral de 'Sec...   \n",
       "yearmonth                                                  2012-09   \n",
       "year                                                            12   \n",
       "month                                                           09   \n",
       "\n",
       "                                                                 1  \\\n",
       "name                                                       Dynasty   \n",
       "reserved_online                                              False   \n",
       "id                                                          219781   \n",
       "rating_service                                                   7   \n",
       "date                                           2013-04-12 00:00:00   \n",
       "rating_food                                                      9   \n",
       "rating_decor                                                     8   \n",
       "reviewer                                                Cecilia V.   \n",
       "rating                                                         8.3   \n",
       "comment          Echt een restaurant om lekker een avondje lang...   \n",
       "yearmonth                                                  2013-04   \n",
       "year                                                            13   \n",
       "month                                                           04   \n",
       "\n",
       "                                                                 2  \\\n",
       "name                                                        Levant   \n",
       "reserved_online                                               True   \n",
       "id                                                          220293   \n",
       "rating_service                                                   9   \n",
       "date                                           2016-02-05 00:00:00   \n",
       "rating_food                                                      8   \n",
       "rating_decor                                                     8   \n",
       "reviewer                                                Kirsten D.   \n",
       "rating                                                         8.3   \n",
       "comment          Het restaurant oogt erg chique. Personeel is e...   \n",
       "yearmonth                                                  2016-02   \n",
       "year                                                            16   \n",
       "month                                                           02   \n",
       "\n",
       "                                                                 3  \\\n",
       "name                                                        Levant   \n",
       "reserved_online                                              False   \n",
       "id                                                          220293   \n",
       "rating_service                                                   9   \n",
       "date                                           2014-02-01 00:00:00   \n",
       "rating_food                                                      8   \n",
       "rating_decor                                                     8   \n",
       "reviewer                                                  Peter T.   \n",
       "rating                                                         8.3   \n",
       "comment          Zaterdagavond hier gegeten. De ontvangst was h...   \n",
       "yearmonth                                                  2014-02   \n",
       "year                                                            14   \n",
       "month                                                           02   \n",
       "\n",
       "                                                                 4  \n",
       "name                                                        Levant  \n",
       "reserved_online                                               True  \n",
       "id                                                          220293  \n",
       "rating_service                                                   9  \n",
       "date                                           2016-02-13 00:00:00  \n",
       "rating_food                                                      8  \n",
       "rating_decor                                                     8  \n",
       "reviewer                                                 Daphne D.  \n",
       "rating                                                         8.3  \n",
       "comment          Relaxte sfeer, heerlijk en smaakvol eten! Fijn...  \n",
       "yearmonth                                                  2016-02  \n",
       "year                                                            16  \n",
       "month                                                           02  "
      ]
     },
     "execution_count": 11,
     "metadata": {},
     "output_type": "execute_result"
    }
   ],
   "source": [
    "df.head().T"
   ]
  },
  {
   "cell_type": "code",
   "execution_count": 102,
   "metadata": {},
   "outputs": [
    {
     "data": {
      "text/plain": [
       "name    1295\n",
       "dtype: int64"
      ]
     },
     "execution_count": 102,
     "metadata": {},
     "output_type": "execute_result"
    }
   ],
   "source": [
    "df.groupby('reviewer').count().name.value_counts().to_frame().sort_index()[10:].sum()"
   ]
  },
  {
   "cell_type": "code",
   "execution_count": 98,
   "metadata": {
    "scrolled": false
   },
   "outputs": [
    {
     "data": {
      "text/plain": [
       "<matplotlib.axes._subplots.AxesSubplot at 0x120ba09e8>"
      ]
     },
     "execution_count": 98,
     "metadata": {},
     "output_type": "execute_result"
    },
    {
     "data": {
      "image/png": "[encoded data removed]",
      "text/plain": [
       "<matplotlib.figure.Figure at 0x124b09748>"
      ]
     },
     "metadata": {},
     "output_type": "display_data"
    }
   ],
   "source": [
    "df.groupby('reviewer').count().name.value_counts().to_frame().query('name>50').sort_index().plot.bar(figsize=(16,8))"
   ]
  },
  {
   "cell_type": "code",
   "execution_count": 99,
   "metadata": {
    "scrolled": false
   },
   "outputs": [
    {
     "data": {
      "text/plain": [
       "<matplotlib.axes._subplots.AxesSubplot at 0x120063438>"
      ]
     },
     "execution_count": 99,
     "metadata": {},
     "output_type": "execute_result"
    },
    {
     "data": {
      "image/png": "[encoded data removed]",
      "text/plain": [
       "<matplotlib.figure.Figure at 0x124db4c88>"
      ]
     },
     "metadata": {},
     "output_type": "display_data"
    }
   ],
   "source": [
    "df.groupby('reviewer').count().name.value_counts().to_frame().sort_index()[3:].plot.bar(figsize=(16,8))"
   ]
  },
  {
   "cell_type": "code",
   "execution_count": 80,
   "metadata": {},
   "outputs": [
    {
     "data": {
      "text/plain": [
       "<matplotlib.axes._subplots.AxesSubplot at 0x11324d0f0>"
      ]
     },
     "execution_count": 80,
     "metadata": {},
     "output_type": "execute_result"
    },
    {
     "data": {
      "image/png": "[encoded data removed]",
      "text/plain": [
       "<matplotlib.figure.Figure at 0x1132423c8>"
      ]
     },
     "metadata": {},
     "output_type": "display_data"
    }
   ],
   "source": [
    "# number of reviews per reviewer\n",
    "df.groupby('reviewer').count().name.value_counts().sort_index().plot.bar(figsize=(16,8))"
   ]
  },
  {
   "cell_type": "markdown",
   "metadata": {},
   "source": [
    "## Overall review scores"
   ]
  },
  {
   "cell_type": "code",
   "execution_count": 12,
   "metadata": {
    "scrolled": true
   },
   "outputs": [
    {
     "data": {
      "text/plain": [
       "<matplotlib.axes._subplots.AxesSubplot at 0x111b4de80>"
      ]
     },
     "execution_count": 12,
     "metadata": {},
     "output_type": "execute_result"
    },
    {
     "data": {
      "image/png": "[encoded data removed]",
      "text/plain": [
       "<matplotlib.figure.Figure at 0x10f2f8e80>"
      ]
     },
     "metadata": {},
     "output_type": "display_data"
    }
   ],
   "source": [
    "# Cijfer distributie\n",
    "df.rating.astype(int).value_counts().sort_index().plot.bar()"
   ]
  },
  {
   "cell_type": "markdown",
   "metadata": {},
   "source": [
    "## Reviewer that use specific word"
   ]
  },
  {
   "cell_type": "code",
   "execution_count": 13,
   "metadata": {},
   "outputs": [],
   "source": [
    "import re"
   ]
  },
  {
   "cell_type": "code",
   "execution_count": 14,
   "metadata": {},
   "outputs": [],
   "source": [
    "def search_for_word(word, df, minimum_number_of_occurences=1):\n",
    "    df = df.copy()\n",
    "    df[word] = df.apply(lambda x: sum(1 for match in re.finditer(r\"\\b\"+re.escape(word)+r\"\\b\" , x.comment)), axis='columns')\n",
    "    df_word = df[df[word] >= minimum_number_of_occurences]\n",
    "    print(f'Total reviews with {minimum_number_of_occurences} times the word {word}:', len(df_word), f'\\nTotal review overall: {len(df)}')\n",
    "    df_word.rating.astype(int).value_counts().sort_index().plot.bar()"
   ]
  },
  {
   "cell_type": "code",
   "execution_count": 15,
   "metadata": {},
   "outputs": [
    {
     "name": "stdout",
     "output_type": "stream",
     "text": [
      "Total reviews with 1 times the word slecht: 2585 \n",
      "Total review overall: 93541\n"
     ]
    },
    {
     "data": {
      "image/png": "[encoded data removed]",
      "text/plain": [
       "<matplotlib.figure.Figure at 0x10f226588>"
      ]
     },
     "metadata": {},
     "output_type": "display_data"
    }
   ],
   "source": [
    "search_for_word('slecht', df, minimum_number_of_occurences=1)"
   ]
  },
  {
   "cell_type": "code",
   "execution_count": 16,
   "metadata": {},
   "outputs": [
    {
     "name": "stdout",
     "output_type": "stream",
     "text": [
      "Total reviews with 2 times the word slecht: 226 \n",
      "Total review overall: 93541\n"
     ]
    },
    {
     "data": {
      "image/png": "[encoded data removed]",
      "text/plain": [
       "<matplotlib.figure.Figure at 0x1140f3940>"
      ]
     },
     "metadata": {},
     "output_type": "display_data"
    }
   ],
   "source": [
    "search_for_word('slecht', df, minimum_number_of_occurences=2)"
   ]
  },
  {
   "cell_type": "code",
   "execution_count": 17,
   "metadata": {},
   "outputs": [
    {
     "name": "stdout",
     "output_type": "stream",
     "text": [
      "Total reviews with 3 times the word slecht: 30 \n",
      "Total review overall: 93541\n"
     ]
    },
    {
     "data": {
      "image/png": "[encoded data removed]",
      "text/plain": [
       "<matplotlib.figure.Figure at 0x118c6b550>"
      ]
     },
     "metadata": {},
     "output_type": "display_data"
    }
   ],
   "source": [
    "search_for_word('slecht', df, minimum_number_of_occurences=3)"
   ]
  },
  {
   "cell_type": "code",
   "execution_count": 18,
   "metadata": {
    "scrolled": true
   },
   "outputs": [
    {
     "name": "stdout",
     "output_type": "stream",
     "text": [
      "Total reviews with 1 times the word top: 6495 \n",
      "Total review overall: 93541\n"
     ]
    },
    {
     "data": {
      "image/png": "[encoded data removed]",
      "text/plain": [
       "<matplotlib.figure.Figure at 0x10f2c43c8>"
      ]
     },
     "metadata": {},
     "output_type": "display_data"
    }
   ],
   "source": [
    "search_for_word('top', df)"
   ]
  },
  {
   "cell_type": "markdown",
   "metadata": {},
   "source": [
    "## More use of the word 'lekker' does not increase score"
   ]
  },
  {
   "cell_type": "code",
   "execution_count": 26,
   "metadata": {
    "scrolled": true
   },
   "outputs": [
    {
     "name": "stdout",
     "output_type": "stream",
     "text": [
      "Total reviews with 1 times the word lekker: 27838 \n",
      "Total review overall: 93541\n"
     ]
    },
    {
     "data": {
      "image/png": "[encoded data removed]",
      "text/plain": [
       "<matplotlib.figure.Figure at 0x10f235438>"
      ]
     },
     "metadata": {},
     "output_type": "display_data"
    }
   ],
   "source": [
    "search_for_word('lekker', df)"
   ]
  },
  {
   "cell_type": "code",
   "execution_count": 27,
   "metadata": {
    "scrolled": true
   },
   "outputs": [
    {
     "name": "stdout",
     "output_type": "stream",
     "text": [
      "Total reviews with 2 times the word lekker: 5729 \n",
      "Total review overall: 93541\n"
     ]
    },
    {
     "data": {
      "image/png": "[encoded data removed]",
      "text/plain": [
       "<matplotlib.figure.Figure at 0x1230c0b70>"
      ]
     },
     "metadata": {},
     "output_type": "display_data"
    }
   ],
   "source": [
    "search_for_word('lekker', df, minimum_number_of_occurences=2)"
   ]
  },
  {
   "cell_type": "code",
   "execution_count": 28,
   "metadata": {
    "scrolled": true
   },
   "outputs": [
    {
     "name": "stdout",
     "output_type": "stream",
     "text": [
      "Total reviews with 3 times the word lekker: 1269 \n",
      "Total review overall: 93541\n"
     ]
    },
    {
     "data": {
      "image/png": "[encoded data removed]",
      "text/plain": [
       "<matplotlib.figure.Figure at 0x124320f28>"
      ]
     },
     "metadata": {},
     "output_type": "display_data"
    }
   ],
   "source": [
    "search_for_word('lekker', df, minimum_number_of_occurences=3)"
   ]
  },
  {
   "cell_type": "markdown",
   "metadata": {},
   "source": [
    "## Average ratings per reviewer"
   ]
  },
  {
   "cell_type": "code",
   "execution_count": 19,
   "metadata": {},
   "outputs": [],
   "source": [
    "df_mean_count_rating = df.groupby('reviewer').agg({'rating': ['mean', 'count']})"
   ]
  },
  {
   "cell_type": "code",
   "execution_count": 20,
   "metadata": {
    "scrolled": false
   },
   "outputs": [
    {
     "data": {
      "text/plain": [
       "(2273, 2)"
      ]
     },
     "execution_count": 20,
     "metadata": {},
     "output_type": "execute_result"
    }
   ],
   "source": [
    "# Reviewers die alleen onvoldoendes geven\n",
    "df_mean_count_rating[df_mean_count_rating[('rating', 'mean')] < 5.5].shape"
   ]
  },
  {
   "cell_type": "code",
   "execution_count": 21,
   "metadata": {
    "scrolled": false
   },
   "outputs": [
    {
     "data": {
      "text/plain": [
       "(193, 2)"
      ]
     },
     "execution_count": 21,
     "metadata": {},
     "output_type": "execute_result"
    }
   ],
   "source": [
    "# Reviewers die alleen onvoldoendes geven (en meer dan 1 rating hebben gegeven)\n",
    "df_mean_count_rating[(df_mean_count_rating[('rating', 'count')] > 1) & (df_mean_count_rating[('rating', 'mean')] < 5.5)].shape"
   ]
  },
  {
   "cell_type": "markdown",
   "metadata": {},
   "source": [
    "## Reviewer with most reviews"
   ]
  },
  {
   "cell_type": "code",
   "execution_count": 22,
   "metadata": {},
   "outputs": [
    {
     "data": {
      "text/plain": [
       "'Peter S.'"
      ]
     },
     "execution_count": 22,
     "metadata": {},
     "output_type": "execute_result"
    }
   ],
   "source": [
    "df_review_cnt = df.groupby('reviewer').count()\n",
    "top_reviewer = df_review_cnt[df_review_cnt.name == df_review_cnt.name.max()].index[0]\n",
    "top_reviewer"
   ]
  },
  {
   "cell_type": "code",
   "execution_count": 23,
   "metadata": {
    "scrolled": true
   },
   "outputs": [
    {
     "data": {
      "text/plain": [
       "<matplotlib.axes._subplots.AxesSubplot at 0x10c824b38>"
      ]
     },
     "execution_count": 23,
     "metadata": {},
     "output_type": "execute_result"
    },
    {
     "data": {
      "image/png": "[encoded data removed]",
      "text/plain": [
       "<matplotlib.figure.Figure at 0x10f226c50>"
      ]
     },
     "metadata": {},
     "output_type": "display_data"
    }
   ],
   "source": [
    "df[df.reviewer == top_reviewer].rating.astype(int).value_counts().sort_index().plot.bar()"
   ]
  },
  {
   "cell_type": "code",
   "execution_count": 24,
   "metadata": {
    "scrolled": false
   },
   "outputs": [
    {
     "data": {
      "text/plain": [
       "<matplotlib.axes._subplots.AxesSubplot at 0x111b16160>"
      ]
     },
     "execution_count": 24,
     "metadata": {},
     "output_type": "execute_result"
    },
    {
     "data": {
      "image/png": "[encoded data removed]",
      "text/plain": [
       "<matplotlib.figure.Figure at 0x111b26438>"
      ]
     },
     "metadata": {},
     "output_type": "display_data"
    }
   ],
   "source": [
    "df[df.reviewer == top_reviewer].date.dt.year.value_counts().sort_index().plot.bar()"
   ]
  },
  {
   "cell_type": "markdown",
   "metadata": {},
   "source": [
    "# Reviews over time"
   ]
  },
  {
   "cell_type": "code",
   "execution_count": 30,
   "metadata": {
    "scrolled": false
   },
   "outputs": [
    {
     "data": {
      "text/plain": [
       "<matplotlib.legend.Legend at 0x11fe53710>"
      ]
     },
     "execution_count": 30,
     "metadata": {},
     "output_type": "execute_result"
    },
    {
     "data": {
      "image/png": "[encoded data removed]",
      "text/plain": [
       "<matplotlib.figure.Figure at 0x12432f6d8>"
      ]
     },
     "metadata": {},
     "output_type": "display_data"
    }
   ],
   "source": [
    "fig, ax = plt.subplots(1,1)\n",
    "\n",
    "for name, grp in (\n",
    "    df\n",
    "    .assign(nr_reviews=1)\n",
    "    .groupby(['year', 'month'])\n",
    "    .agg({'nr_reviews' : sum})\n",
    "    .groupby('year')\n",
    "):\n",
    "    grp.nr_reviews.plot(figsize=(16,6), title='Number of reviews per month', label=name, ax=ax) \n",
    "\n",
    "ax.set_xlabel('Month')\n",
    "ax.set_xticks(range(12))\n",
    "ax.set_xticklabels(range(1,13))\n",
    "ax.legend()"
   ]
  },
  {
   "cell_type": "markdown",
   "metadata": {},
   "source": [
    "# Average rating over time: rating increases over time!"
   ]
  },
  {
   "cell_type": "code",
   "execution_count": 33,
   "metadata": {
    "scrolled": false
   },
   "outputs": [
    {
     "data": {
      "text/plain": [
       "<matplotlib.legend.Legend at 0x1113fd320>"
      ]
     },
     "execution_count": 33,
     "metadata": {},
     "output_type": "execute_result"
    },
    {
     "data": {
      "image/png": "[encoded data removed]",
      "text/plain": [
       "<matplotlib.figure.Figure at 0x10f269be0>"
      ]
     },
     "metadata": {},
     "output_type": "display_data"
    }
   ],
   "source": [
    "fig, ax = plt.subplots(1,1)\n",
    "\n",
    "for name, grp in (\n",
    "    df\n",
    "    .groupby(['year', 'month'])\n",
    "    .agg({'rating' : np.mean})\n",
    "    .groupby('year')\n",
    "):\n",
    "    grp.rating.plot(figsize=(16,6), title='Average rating per month', label=name, ax=ax) \n",
    "\n",
    "ax.set_xlabel('Month')\n",
    "ax.set_xticks(range(12))\n",
    "ax.set_xticklabels(range(1,13))\n",
    "ax.legend()"
   ]
  },
  {
   "cell_type": "markdown",
   "metadata": {},
   "source": [
    "# Plot on map"
   ]
  },
  {
   "cell_type": "code",
   "execution_count": 43,
   "metadata": {},
   "outputs": [],
   "source": [
    "import collections\n",
    "Coords = collections.namedtuple('Coordinates', 'lat lon')\n",
    "coords_gdd = Coords(lat=52.352379, lon=4.912933)"
   ]
  },
  {
   "cell_type": "code",
   "execution_count": 44,
   "metadata": {},
   "outputs": [],
   "source": [
    "import geopy.distance\n",
    "import folium\n",
    "from folium.features import DivIcon"
   ]
  },
  {
   "cell_type": "code",
   "execution_count": 72,
   "metadata": {},
   "outputs": [],
   "source": [
    "def plot_map(df, coords_center, range_in_km=1, min_rating=8, zoom_start=15):\n",
    "    m = folium.Map(location=list(coords_center), zoom_start=zoom_start)\n",
    "\n",
    "    for lat, lon, rating in zip(df.info_lat, df.info_lon, df.reviews_rating):\n",
    "        if rating != -1 and rating >= min_rating and geopy.distance.vincenty(coords_center, (lat,lon)).km < range_in_km:\n",
    "            folium.map.Marker([lat, lon], icon=DivIcon(\n",
    "                html=f'<div style=\"font-size: 10pt; display: inline-block; background-color: white; border-width: thin; border-style: solid; border-color:#5DBCD2\">{rating}</div>')\n",
    "                             ).add_to(m)\n",
    "\n",
    "    folium.map.Marker(\n",
    "        list(coords_center),\n",
    "        icon=DivIcon(\n",
    "            html='<div style=\"font-size: 10pt; display: inline-block; background-color:#5DBCD2; color:white; border-width: thin; border-style: solid; border-color:#5DBCD2\"> GDD </div>',\n",
    "            )\n",
    "        ).add_to(m)\n",
    "    return m"
   ]
  },
  {
   "cell_type": "code",
   "execution_count": 73,
   "metadata": {
    "scrolled": false
   },
   "outputs": [
    {
     "data": {
      "text/html": [
       "<div style=\"width:100%;\"><div style=\"position:relative;width:100%;height:0;padding-bottom:60%;\"><iframe src=\"data:text/html;charset=utf-8;base64,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\" style=\"position:absolute;width:100%;height:100%;left:0;top:0;border:none !important;\" allowfullscreen webkitallowfullscreen mozallowfullscreen></iframe></div></div>"
      ],
      "text/plain": [
       "<folium.folium.Map at 0x11b6922e8>"
      ]
     },
     "execution_count": 73,
     "metadata": {},
     "output_type": "execute_result"
    }
   ],
   "source": [
    "plot_map(df_res, coords_gdd, range_in_km=1, min_rating=9)"
   ]
  },
  {
   "cell_type": "code",
   "execution_count": null,
   "metadata": {},
   "outputs": [],
   "source": []
  },
  {
   "cell_type": "markdown",
   "metadata": {},
   "source": [
    "## Average price distribution"
   ]
  },
  {
   "cell_type": "code",
   "execution_count": 114,
   "metadata": {},
   "outputs": [
    {
     "data": {
      "text/plain": [
       "<matplotlib.axes._subplots.AxesSubplot at 0x124efe518>"
      ]
     },
     "execution_count": 114,
     "metadata": {},
     "output_type": "execute_result"
    },
    {
     "data": {
      "image/png": "[encoded data removed]",
      "text/plain": [
       "<matplotlib.figure.Figure at 0x1254f82b0>"
      ]
     },
     "metadata": {},
     "output_type": "display_data"
    }
   ],
   "source": [
    "sns.distplot(df_res.query('info_avg_price != -1')['info_avg_price'])"
   ]
  },
  {
   "cell_type": "markdown",
   "metadata": {},
   "source": [
    "### freshness of score"
   ]
  },
  {
   "cell_type": "code",
   "execution_count": 126,
   "metadata": {
    "scrolled": false
   },
   "outputs": [],
   "source": [
    "df['days_ago'] =  (pd.datetime.today() - df['date']).dt.days"
   ]
  },
  {
   "cell_type": "code",
   "execution_count": 150,
   "metadata": {},
   "outputs": [],
   "source": [
    "df['freshness'] = 1 / np.log(df['days_ago'])"
   ]
  },
  {
   "cell_type": "code",
   "execution_count": 176,
   "metadata": {},
   "outputs": [],
   "source": [
    "def rating_weigthed_freshness(s):\n",
    "    return np.average(df.loc[s.index]['rating'], weights=df.loc[s.index]['freshness'])"
   ]
  },
  {
   "cell_type": "code",
   "execution_count": 179,
   "metadata": {
    "scrolled": true
   },
   "outputs": [
    {
     "data": {
      "text/html": [
       "<div>\n",
       "<style scoped>\n",
       "    .dataframe tbody tr th:only-of-type {\n",
       "        vertical-align: middle;\n",
       "    }\n",
       "\n",
       "    .dataframe tbody tr th {\n",
       "        vertical-align: top;\n",
       "    }\n",
       "\n",
       "    .dataframe thead th {\n",
       "        text-align: right;\n",
       "    }\n",
       "</style>\n",
       "<table border=\"1\" class=\"dataframe\">\n",
       "  <thead>\n",
       "    <tr style=\"text-align: right;\">\n",
       "      <th></th>\n",
       "      <th>reserved_online</th>\n",
       "      <th>id</th>\n",
       "      <th>rating_service</th>\n",
       "      <th>date</th>\n",
       "      <th>rating_food</th>\n",
       "      <th>rating_decor</th>\n",
       "      <th>reviewer</th>\n",
       "      <th>rating</th>\n",
       "      <th>comment</th>\n",
       "      <th>yearmonth</th>\n",
       "      <th>year</th>\n",
       "      <th>month</th>\n",
       "      <th>months_ago</th>\n",
       "      <th>days_ago</th>\n",
       "      <th>freshness</th>\n",
       "    </tr>\n",
       "    <tr>\n",
       "      <th>name</th>\n",
       "      <th></th>\n",
       "      <th></th>\n",
       "      <th></th>\n",
       "      <th></th>\n",
       "      <th></th>\n",
       "      <th></th>\n",
       "      <th></th>\n",
       "      <th></th>\n",
       "      <th></th>\n",
       "      <th></th>\n",
       "      <th></th>\n",
       "      <th></th>\n",
       "      <th></th>\n",
       "      <th></th>\n",
       "      <th></th>\n",
       "    </tr>\n",
       "  </thead>\n",
       "  <tbody>\n",
       "    <tr>\n",
       "      <th>Yoghurt Barn Amsterdam</th>\n",
       "      <td>7.201474</td>\n",
       "      <td>7.201474</td>\n",
       "      <td>7.201474</td>\n",
       "      <td>7.201474</td>\n",
       "      <td>7.201474</td>\n",
       "      <td>7.201474</td>\n",
       "      <td>7.201474</td>\n",
       "      <td>7.201474</td>\n",
       "      <td>7.201474</td>\n",
       "      <td>7.201474</td>\n",
       "      <td>7.201474</td>\n",
       "      <td>7.201474</td>\n",
       "      <td>7.201474</td>\n",
       "      <td>7.201474</td>\n",
       "      <td>7.201474</td>\n",
       "    </tr>\n",
       "    <tr>\n",
       "      <th>&amp;moshik</th>\n",
       "      <td>8.502679</td>\n",
       "      <td>8.502679</td>\n",
       "      <td>8.502679</td>\n",
       "      <td>8.502679</td>\n",
       "      <td>8.502679</td>\n",
       "      <td>8.502679</td>\n",
       "      <td>8.502679</td>\n",
       "      <td>8.502679</td>\n",
       "      <td>8.502679</td>\n",
       "      <td>8.502679</td>\n",
       "      <td>8.502679</td>\n",
       "      <td>8.502679</td>\n",
       "      <td>8.502679</td>\n",
       "      <td>8.502679</td>\n",
       "      <td>8.502679</td>\n",
       "    </tr>\n",
       "    <tr>\n",
       "      <th>'cause BEER loves FOOD</th>\n",
       "      <td>8.033089</td>\n",
       "      <td>8.033089</td>\n",
       "      <td>8.033089</td>\n",
       "      <td>8.033089</td>\n",
       "      <td>8.033089</td>\n",
       "      <td>8.033089</td>\n",
       "      <td>8.033089</td>\n",
       "      <td>8.033089</td>\n",
       "      <td>8.033089</td>\n",
       "      <td>8.033089</td>\n",
       "      <td>8.033089</td>\n",
       "      <td>8.033089</td>\n",
       "      <td>8.033089</td>\n",
       "      <td>8.033089</td>\n",
       "      <td>8.033089</td>\n",
       "    </tr>\n",
       "    <tr>\n",
       "      <th>'t Blaauwhooft</th>\n",
       "      <td>7.843654</td>\n",
       "      <td>7.843654</td>\n",
       "      <td>7.843654</td>\n",
       "      <td>7.843654</td>\n",
       "      <td>7.843654</td>\n",
       "      <td>7.843654</td>\n",
       "      <td>7.843654</td>\n",
       "      <td>7.843654</td>\n",
       "      <td>7.843654</td>\n",
       "      <td>7.843654</td>\n",
       "      <td>7.843654</td>\n",
       "      <td>7.843654</td>\n",
       "      <td>7.843654</td>\n",
       "      <td>7.843654</td>\n",
       "      <td>7.843654</td>\n",
       "    </tr>\n",
       "    <tr>\n",
       "      <th>'t Gasthuys</th>\n",
       "      <td>7.257356</td>\n",
       "      <td>7.257356</td>\n",
       "      <td>7.257356</td>\n",
       "      <td>7.257356</td>\n",
       "      <td>7.257356</td>\n",
       "      <td>7.257356</td>\n",
       "      <td>7.257356</td>\n",
       "      <td>7.257356</td>\n",
       "      <td>7.257356</td>\n",
       "      <td>7.257356</td>\n",
       "      <td>7.257356</td>\n",
       "      <td>7.257356</td>\n",
       "      <td>7.257356</td>\n",
       "      <td>7.257356</td>\n",
       "      <td>7.257356</td>\n",
       "    </tr>\n",
       "    <tr>\n",
       "      <th>'t Houtskooltje</th>\n",
       "      <td>7.602139</td>\n",
       "      <td>7.602139</td>\n",
       "      <td>7.602139</td>\n",
       "      <td>7.602139</td>\n",
       "      <td>7.602139</td>\n",
       "      <td>7.602139</td>\n",
       "      <td>7.602139</td>\n",
       "      <td>7.602139</td>\n",
       "      <td>7.602139</td>\n",
       "      <td>7.602139</td>\n",
       "      <td>7.602139</td>\n",
       "      <td>7.602139</td>\n",
       "      <td>7.602139</td>\n",
       "      <td>7.602139</td>\n",
       "      <td>7.602139</td>\n",
       "    </tr>\n",
       "    <tr>\n",
       "      <th>'t Kalfje</th>\n",
       "      <td>8.006143</td>\n",
       "      <td>8.006143</td>\n",
       "      <td>8.006143</td>\n",
       "      <td>8.006143</td>\n",
       "      <td>8.006143</td>\n",
       "      <td>8.006143</td>\n",
       "      <td>8.006143</td>\n",
       "      <td>8.006143</td>\n",
       "      <td>8.006143</td>\n",
       "      <td>8.006143</td>\n",
       "      <td>8.006143</td>\n",
       "      <td>8.006143</td>\n",
       "      <td>8.006143</td>\n",
       "      <td>8.006143</td>\n",
       "      <td>8.006143</td>\n",
       "    </tr>\n",
       "    <tr>\n",
       "      <th>'t Kuyltje</th>\n",
       "      <td>8.972459</td>\n",
       "      <td>8.972459</td>\n",
       "      <td>8.972459</td>\n",
       "      <td>8.972459</td>\n",
       "      <td>8.972459</td>\n",
       "      <td>8.972459</td>\n",
       "      <td>8.972459</td>\n",
       "      <td>8.972459</td>\n",
       "      <td>8.972459</td>\n",
       "      <td>8.972459</td>\n",
       "      <td>8.972459</td>\n",
       "      <td>8.972459</td>\n",
       "      <td>8.972459</td>\n",
       "      <td>8.972459</td>\n",
       "      <td>8.972459</td>\n",
       "    </tr>\n",
       "    <tr>\n",
       "      <th>'t Markerhuisje</th>\n",
       "      <td>8.340430</td>\n",
       "      <td>8.340430</td>\n",
       "      <td>8.340430</td>\n",
       "      <td>8.340430</td>\n",
       "      <td>8.340430</td>\n",
       "      <td>8.340430</td>\n",
       "      <td>8.340430</td>\n",
       "      <td>8.340430</td>\n",
       "      <td>8.340430</td>\n",
       "      <td>8.340430</td>\n",
       "      <td>8.340430</td>\n",
       "      <td>8.340430</td>\n",
       "      <td>8.340430</td>\n",
       "      <td>8.340430</td>\n",
       "      <td>8.340430</td>\n",
       "    </tr>\n",
       "    <tr>\n",
       "      <th>'t Molenpad</th>\n",
       "      <td>8.118890</td>\n",
       "      <td>8.118890</td>\n",
       "      <td>8.118890</td>\n",
       "      <td>8.118890</td>\n",
       "      <td>8.118890</td>\n",
       "      <td>8.118890</td>\n",
       "      <td>8.118890</td>\n",
       "      <td>8.118890</td>\n",
       "      <td>8.118890</td>\n",
       "      <td>8.118890</td>\n",
       "      <td>8.118890</td>\n",
       "      <td>8.118890</td>\n",
       "      <td>8.118890</td>\n",
       "      <td>8.118890</td>\n",
       "      <td>8.118890</td>\n",
       "    </tr>\n",
       "    <tr>\n",
       "      <th>'t Nieuwe Kafé</th>\n",
       "      <td>6.909964</td>\n",
       "      <td>6.909964</td>\n",
       "      <td>6.909964</td>\n",
       "      <td>6.909964</td>\n",
       "      <td>6.909964</td>\n",
       "      <td>6.909964</td>\n",
       "      <td>6.909964</td>\n",
       "      <td>6.909964</td>\n",
       "      <td>6.909964</td>\n",
       "      <td>6.909964</td>\n",
       "      <td>6.909964</td>\n",
       "      <td>6.909964</td>\n",
       "      <td>6.909964</td>\n",
       "      <td>6.909964</td>\n",
       "      <td>6.909964</td>\n",
       "    </tr>\n",
       "    <tr>\n",
       "      <th>'t Oostpoortje</th>\n",
       "      <td>7.312088</td>\n",
       "      <td>7.312088</td>\n",
       "      <td>7.312088</td>\n",
       "      <td>7.312088</td>\n",
       "      <td>7.312088</td>\n",
       "      <td>7.312088</td>\n",
       "      <td>7.312088</td>\n",
       "      <td>7.312088</td>\n",
       "      <td>7.312088</td>\n",
       "      <td>7.312088</td>\n",
       "      <td>7.312088</td>\n",
       "      <td>7.312088</td>\n",
       "      <td>7.312088</td>\n",
       "      <td>7.312088</td>\n",
       "      <td>7.312088</td>\n",
       "    </tr>\n",
       "    <tr>\n",
       "      <th>'t Paardje</th>\n",
       "      <td>6.604502</td>\n",
       "      <td>6.604502</td>\n",
       "      <td>6.604502</td>\n",
       "      <td>6.604502</td>\n",
       "      <td>6.604502</td>\n",
       "      <td>6.604502</td>\n",
       "      <td>6.604502</td>\n",
       "      <td>6.604502</td>\n",
       "      <td>6.604502</td>\n",
       "      <td>6.604502</td>\n",
       "      <td>6.604502</td>\n",
       "      <td>6.604502</td>\n",
       "      <td>6.604502</td>\n",
       "      <td>6.604502</td>\n",
       "      <td>6.604502</td>\n",
       "    </tr>\n",
       "    <tr>\n",
       "      <th>'t Sluisje</th>\n",
       "      <td>8.497563</td>\n",
       "      <td>8.497563</td>\n",
       "      <td>8.497563</td>\n",
       "      <td>8.497563</td>\n",
       "      <td>8.497563</td>\n",
       "      <td>8.497563</td>\n",
       "      <td>8.497563</td>\n",
       "      <td>8.497563</td>\n",
       "      <td>8.497563</td>\n",
       "      <td>8.497563</td>\n",
       "      <td>8.497563</td>\n",
       "      <td>8.497563</td>\n",
       "      <td>8.497563</td>\n",
       "      <td>8.497563</td>\n",
       "      <td>8.497563</td>\n",
       "    </tr>\n",
       "    <tr>\n",
       "      <th>'t Steakhouse</th>\n",
       "      <td>7.733570</td>\n",
       "      <td>7.733570</td>\n",
       "      <td>7.733570</td>\n",
       "      <td>7.733570</td>\n",
       "      <td>7.733570</td>\n",
       "      <td>7.733570</td>\n",
       "      <td>7.733570</td>\n",
       "      <td>7.733570</td>\n",
       "      <td>7.733570</td>\n",
       "      <td>7.733570</td>\n",
       "      <td>7.733570</td>\n",
       "      <td>7.733570</td>\n",
       "      <td>7.733570</td>\n",
       "      <td>7.733570</td>\n",
       "      <td>7.733570</td>\n",
       "    </tr>\n",
       "    <tr>\n",
       "      <th>'t Tuinfeest</th>\n",
       "      <td>6.464283</td>\n",
       "      <td>6.464283</td>\n",
       "      <td>6.464283</td>\n",
       "      <td>6.464283</td>\n",
       "      <td>6.464283</td>\n",
       "      <td>6.464283</td>\n",
       "      <td>6.464283</td>\n",
       "      <td>6.464283</td>\n",
       "      <td>6.464283</td>\n",
       "      <td>6.464283</td>\n",
       "      <td>6.464283</td>\n",
       "      <td>6.464283</td>\n",
       "      <td>6.464283</td>\n",
       "      <td>6.464283</td>\n",
       "      <td>6.464283</td>\n",
       "    </tr>\n",
       "    <tr>\n",
       "      <th>'t Vliegertje</th>\n",
       "      <td>8.399048</td>\n",
       "      <td>8.399048</td>\n",
       "      <td>8.399048</td>\n",
       "      <td>8.399048</td>\n",
       "      <td>8.399048</td>\n",
       "      <td>8.399048</td>\n",
       "      <td>8.399048</td>\n",
       "      <td>8.399048</td>\n",
       "      <td>8.399048</td>\n",
       "      <td>8.399048</td>\n",
       "      <td>8.399048</td>\n",
       "      <td>8.399048</td>\n",
       "      <td>8.399048</td>\n",
       "      <td>8.399048</td>\n",
       "      <td>8.399048</td>\n",
       "    </tr>\n",
       "    <tr>\n",
       "      <th>'t Wethoudertje</th>\n",
       "      <td>8.272752</td>\n",
       "      <td>8.272752</td>\n",
       "      <td>8.272752</td>\n",
       "      <td>8.272752</td>\n",
       "      <td>8.272752</td>\n",
       "      <td>8.272752</td>\n",
       "      <td>8.272752</td>\n",
       "      <td>8.272752</td>\n",
       "      <td>8.272752</td>\n",
       "      <td>8.272752</td>\n",
       "      <td>8.272752</td>\n",
       "      <td>8.272752</td>\n",
       "      <td>8.272752</td>\n",
       "      <td>8.272752</td>\n",
       "      <td>8.272752</td>\n",
       "    </tr>\n",
       "    <tr>\n",
       "      <th>'t Zwaantje</th>\n",
       "      <td>6.799682</td>\n",
       "      <td>6.799682</td>\n",
       "      <td>6.799682</td>\n",
       "      <td>6.799682</td>\n",
       "      <td>6.799682</td>\n",
       "      <td>6.799682</td>\n",
       "      <td>6.799682</td>\n",
       "      <td>6.799682</td>\n",
       "      <td>6.799682</td>\n",
       "      <td>6.799682</td>\n",
       "      <td>6.799682</td>\n",
       "      <td>6.799682</td>\n",
       "      <td>6.799682</td>\n",
       "      <td>6.799682</td>\n",
       "      <td>6.799682</td>\n",
       "    </tr>\n",
       "    <tr>\n",
       "      <th>5&amp;33</th>\n",
       "      <td>7.764004</td>\n",
       "      <td>7.764004</td>\n",
       "      <td>7.764004</td>\n",
       "      <td>7.764004</td>\n",
       "      <td>7.764004</td>\n",
       "      <td>7.764004</td>\n",
       "      <td>7.764004</td>\n",
       "      <td>7.764004</td>\n",
       "      <td>7.764004</td>\n",
       "      <td>7.764004</td>\n",
       "      <td>7.764004</td>\n",
       "      <td>7.764004</td>\n",
       "      <td>7.764004</td>\n",
       "      <td>7.764004</td>\n",
       "      <td>7.764004</td>\n",
       "    </tr>\n",
       "    <tr>\n",
       "      <th>63graden Foodbar</th>\n",
       "      <td>9.328242</td>\n",
       "      <td>9.328242</td>\n",
       "      <td>9.328242</td>\n",
       "      <td>9.328242</td>\n",
       "      <td>9.328242</td>\n",
       "      <td>9.328242</td>\n",
       "      <td>9.328242</td>\n",
       "      <td>9.328242</td>\n",
       "      <td>9.328242</td>\n",
       "      <td>9.328242</td>\n",
       "      <td>9.328242</td>\n",
       "      <td>9.328242</td>\n",
       "      <td>9.328242</td>\n",
       "      <td>9.328242</td>\n",
       "      <td>9.328242</td>\n",
       "    </tr>\n",
       "    <tr>\n",
       "      <th>??Mangiancora</th>\n",
       "      <td>8.409901</td>\n",
       "      <td>8.409901</td>\n",
       "      <td>8.409901</td>\n",
       "      <td>8.409901</td>\n",
       "      <td>8.409901</td>\n",
       "      <td>8.409901</td>\n",
       "      <td>8.409901</td>\n",
       "      <td>8.409901</td>\n",
       "      <td>8.409901</td>\n",
       "      <td>8.409901</td>\n",
       "      <td>8.409901</td>\n",
       "      <td>8.409901</td>\n",
       "      <td>8.409901</td>\n",
       "      <td>8.409901</td>\n",
       "      <td>8.409901</td>\n",
       "    </tr>\n",
       "    <tr>\n",
       "      <th>@7</th>\n",
       "      <td>6.797974</td>\n",
       "      <td>6.797974</td>\n",
       "      <td>6.797974</td>\n",
       "      <td>6.797974</td>\n",
       "      <td>6.797974</td>\n",
       "      <td>6.797974</td>\n",
       "      <td>6.797974</td>\n",
       "      <td>6.797974</td>\n",
       "      <td>6.797974</td>\n",
       "      <td>6.797974</td>\n",
       "      <td>6.797974</td>\n",
       "      <td>6.797974</td>\n",
       "      <td>6.797974</td>\n",
       "      <td>6.797974</td>\n",
       "      <td>6.797974</td>\n",
       "    </tr>\n",
       "    <tr>\n",
       "      <th>A Beautiful Mess</th>\n",
       "      <td>8.984130</td>\n",
       "      <td>8.984130</td>\n",
       "      <td>8.984130</td>\n",
       "      <td>8.984130</td>\n",
       "      <td>8.984130</td>\n",
       "      <td>8.984130</td>\n",
       "      <td>8.984130</td>\n",
       "      <td>8.984130</td>\n",
       "      <td>8.984130</td>\n",
       "      <td>8.984130</td>\n",
       "      <td>8.984130</td>\n",
       "      <td>8.984130</td>\n",
       "      <td>8.984130</td>\n",
       "      <td>8.984130</td>\n",
       "      <td>8.984130</td>\n",
       "    </tr>\n",
       "    <tr>\n",
       "      <th>A Fusion</th>\n",
       "      <td>8.652320</td>\n",
       "      <td>8.652320</td>\n",
       "      <td>8.652320</td>\n",
       "      <td>8.652320</td>\n",
       "      <td>8.652320</td>\n",
       "      <td>8.652320</td>\n",
       "      <td>8.652320</td>\n",
       "      <td>8.652320</td>\n",
       "      <td>8.652320</td>\n",
       "      <td>8.652320</td>\n",
       "      <td>8.652320</td>\n",
       "      <td>8.652320</td>\n",
       "      <td>8.652320</td>\n",
       "      <td>8.652320</td>\n",
       "      <td>8.652320</td>\n",
       "    </tr>\n",
       "    <tr>\n",
       "      <th>A Tavola</th>\n",
       "      <td>7.576771</td>\n",
       "      <td>7.576771</td>\n",
       "      <td>7.576771</td>\n",
       "      <td>7.576771</td>\n",
       "      <td>7.576771</td>\n",
       "      <td>7.576771</td>\n",
       "      <td>7.576771</td>\n",
       "      <td>7.576771</td>\n",
       "      <td>7.576771</td>\n",
       "      <td>7.576771</td>\n",
       "      <td>7.576771</td>\n",
       "      <td>7.576771</td>\n",
       "      <td>7.576771</td>\n",
       "      <td>7.576771</td>\n",
       "      <td>7.576771</td>\n",
       "    </tr>\n",
       "    <tr>\n",
       "      <th>Abinish</th>\n",
       "      <td>8.125448</td>\n",
       "      <td>8.125448</td>\n",
       "      <td>8.125448</td>\n",
       "      <td>8.125448</td>\n",
       "      <td>8.125448</td>\n",
       "      <td>8.125448</td>\n",
       "      <td>8.125448</td>\n",
       "      <td>8.125448</td>\n",
       "      <td>8.125448</td>\n",
       "      <td>8.125448</td>\n",
       "      <td>8.125448</td>\n",
       "      <td>8.125448</td>\n",
       "      <td>8.125448</td>\n",
       "      <td>8.125448</td>\n",
       "      <td>8.125448</td>\n",
       "    </tr>\n",
       "    <tr>\n",
       "      <th>Absolute Taste</th>\n",
       "      <td>6.727174</td>\n",
       "      <td>6.727174</td>\n",
       "      <td>6.727174</td>\n",
       "      <td>6.727174</td>\n",
       "      <td>6.727174</td>\n",
       "      <td>6.727174</td>\n",
       "      <td>6.727174</td>\n",
       "      <td>6.727174</td>\n",
       "      <td>6.727174</td>\n",
       "      <td>6.727174</td>\n",
       "      <td>6.727174</td>\n",
       "      <td>6.727174</td>\n",
       "      <td>6.727174</td>\n",
       "      <td>6.727174</td>\n",
       "      <td>6.727174</td>\n",
       "    </tr>\n",
       "    <tr>\n",
       "      <th>Abyssinia</th>\n",
       "      <td>8.138523</td>\n",
       "      <td>8.138523</td>\n",
       "      <td>8.138523</td>\n",
       "      <td>8.138523</td>\n",
       "      <td>8.138523</td>\n",
       "      <td>8.138523</td>\n",
       "      <td>8.138523</td>\n",
       "      <td>8.138523</td>\n",
       "      <td>8.138523</td>\n",
       "      <td>8.138523</td>\n",
       "      <td>8.138523</td>\n",
       "      <td>8.138523</td>\n",
       "      <td>8.138523</td>\n",
       "      <td>8.138523</td>\n",
       "      <td>8.138523</td>\n",
       "    </tr>\n",
       "    <tr>\n",
       "      <th>Ada Lunch &amp; Restaurant</th>\n",
       "      <td>6.284733</td>\n",
       "      <td>6.284733</td>\n",
       "      <td>6.284733</td>\n",
       "      <td>6.284733</td>\n",
       "      <td>6.284733</td>\n",
       "      <td>6.284733</td>\n",
       "      <td>6.284733</td>\n",
       "      <td>6.284733</td>\n",
       "      <td>6.284733</td>\n",
       "      <td>6.284733</td>\n",
       "      <td>6.284733</td>\n",
       "      <td>6.284733</td>\n",
       "      <td>6.284733</td>\n",
       "      <td>6.284733</td>\n",
       "      <td>6.284733</td>\n",
       "    </tr>\n",
       "    <tr>\n",
       "      <th>...</th>\n",
       "      <td>...</td>\n",
       "      <td>...</td>\n",
       "      <td>...</td>\n",
       "      <td>...</td>\n",
       "      <td>...</td>\n",
       "      <td>...</td>\n",
       "      <td>...</td>\n",
       "      <td>...</td>\n",
       "      <td>...</td>\n",
       "      <td>...</td>\n",
       "      <td>...</td>\n",
       "      <td>...</td>\n",
       "      <td>...</td>\n",
       "      <td>...</td>\n",
       "      <td>...</td>\n",
       "    </tr>\n",
       "    <tr>\n",
       "      <th>Zoku Amsterdam</th>\n",
       "      <td>8.640152</td>\n",
       "      <td>8.640152</td>\n",
       "      <td>8.640152</td>\n",
       "      <td>8.640152</td>\n",
       "      <td>8.640152</td>\n",
       "      <td>8.640152</td>\n",
       "      <td>8.640152</td>\n",
       "      <td>8.640152</td>\n",
       "      <td>8.640152</td>\n",
       "      <td>8.640152</td>\n",
       "      <td>8.640152</td>\n",
       "      <td>8.640152</td>\n",
       "      <td>8.640152</td>\n",
       "      <td>8.640152</td>\n",
       "      <td>8.640152</td>\n",
       "    </tr>\n",
       "    <tr>\n",
       "      <th>Zorba de Griek</th>\n",
       "      <td>5.525032</td>\n",
       "      <td>5.525032</td>\n",
       "      <td>5.525032</td>\n",
       "      <td>5.525032</td>\n",
       "      <td>5.525032</td>\n",
       "      <td>5.525032</td>\n",
       "      <td>5.525032</td>\n",
       "      <td>5.525032</td>\n",
       "      <td>5.525032</td>\n",
       "      <td>5.525032</td>\n",
       "      <td>5.525032</td>\n",
       "      <td>5.525032</td>\n",
       "      <td>5.525032</td>\n",
       "      <td>5.525032</td>\n",
       "      <td>5.525032</td>\n",
       "    </tr>\n",
       "    <tr>\n",
       "      <th>Zouthaven</th>\n",
       "      <td>6.831181</td>\n",
       "      <td>6.831181</td>\n",
       "      <td>6.831181</td>\n",
       "      <td>6.831181</td>\n",
       "      <td>6.831181</td>\n",
       "      <td>6.831181</td>\n",
       "      <td>6.831181</td>\n",
       "      <td>6.831181</td>\n",
       "      <td>6.831181</td>\n",
       "      <td>6.831181</td>\n",
       "      <td>6.831181</td>\n",
       "      <td>6.831181</td>\n",
       "      <td>6.831181</td>\n",
       "      <td>6.831181</td>\n",
       "      <td>6.831181</td>\n",
       "    </tr>\n",
       "    <tr>\n",
       "      <th>Zuivere Koffie</th>\n",
       "      <td>6.488193</td>\n",
       "      <td>6.488193</td>\n",
       "      <td>6.488193</td>\n",
       "      <td>6.488193</td>\n",
       "      <td>6.488193</td>\n",
       "      <td>6.488193</td>\n",
       "      <td>6.488193</td>\n",
       "      <td>6.488193</td>\n",
       "      <td>6.488193</td>\n",
       "      <td>6.488193</td>\n",
       "      <td>6.488193</td>\n",
       "      <td>6.488193</td>\n",
       "      <td>6.488193</td>\n",
       "      <td>6.488193</td>\n",
       "      <td>6.488193</td>\n",
       "    </tr>\n",
       "    <tr>\n",
       "      <th>Zurich</th>\n",
       "      <td>7.465124</td>\n",
       "      <td>7.465124</td>\n",
       "      <td>7.465124</td>\n",
       "      <td>7.465124</td>\n",
       "      <td>7.465124</td>\n",
       "      <td>7.465124</td>\n",
       "      <td>7.465124</td>\n",
       "      <td>7.465124</td>\n",
       "      <td>7.465124</td>\n",
       "      <td>7.465124</td>\n",
       "      <td>7.465124</td>\n",
       "      <td>7.465124</td>\n",
       "      <td>7.465124</td>\n",
       "      <td>7.465124</td>\n",
       "      <td>7.465124</td>\n",
       "    </tr>\n",
       "    <tr>\n",
       "      <th>Zus en Zus</th>\n",
       "      <td>6.607966</td>\n",
       "      <td>6.607966</td>\n",
       "      <td>6.607966</td>\n",
       "      <td>6.607966</td>\n",
       "      <td>6.607966</td>\n",
       "      <td>6.607966</td>\n",
       "      <td>6.607966</td>\n",
       "      <td>6.607966</td>\n",
       "      <td>6.607966</td>\n",
       "      <td>6.607966</td>\n",
       "      <td>6.607966</td>\n",
       "      <td>6.607966</td>\n",
       "      <td>6.607966</td>\n",
       "      <td>6.607966</td>\n",
       "      <td>6.607966</td>\n",
       "    </tr>\n",
       "    <tr>\n",
       "      <th>Zushi</th>\n",
       "      <td>8.248916</td>\n",
       "      <td>8.248916</td>\n",
       "      <td>8.248916</td>\n",
       "      <td>8.248916</td>\n",
       "      <td>8.248916</td>\n",
       "      <td>8.248916</td>\n",
       "      <td>8.248916</td>\n",
       "      <td>8.248916</td>\n",
       "      <td>8.248916</td>\n",
       "      <td>8.248916</td>\n",
       "      <td>8.248916</td>\n",
       "      <td>8.248916</td>\n",
       "      <td>8.248916</td>\n",
       "      <td>8.248916</td>\n",
       "      <td>8.248916</td>\n",
       "    </tr>\n",
       "    <tr>\n",
       "      <th>afhaalcentrum Terang Boelan</th>\n",
       "      <td>7.981156</td>\n",
       "      <td>7.981156</td>\n",
       "      <td>7.981156</td>\n",
       "      <td>7.981156</td>\n",
       "      <td>7.981156</td>\n",
       "      <td>7.981156</td>\n",
       "      <td>7.981156</td>\n",
       "      <td>7.981156</td>\n",
       "      <td>7.981156</td>\n",
       "      <td>7.981156</td>\n",
       "      <td>7.981156</td>\n",
       "      <td>7.981156</td>\n",
       "      <td>7.981156</td>\n",
       "      <td>7.981156</td>\n",
       "      <td>7.981156</td>\n",
       "    </tr>\n",
       "    <tr>\n",
       "      <th>al Bacaro - Osteria Italiana</th>\n",
       "      <td>8.270449</td>\n",
       "      <td>8.270449</td>\n",
       "      <td>8.270449</td>\n",
       "      <td>8.270449</td>\n",
       "      <td>8.270449</td>\n",
       "      <td>8.270449</td>\n",
       "      <td>8.270449</td>\n",
       "      <td>8.270449</td>\n",
       "      <td>8.270449</td>\n",
       "      <td>8.270449</td>\n",
       "      <td>8.270449</td>\n",
       "      <td>8.270449</td>\n",
       "      <td>8.270449</td>\n",
       "      <td>8.270449</td>\n",
       "      <td>8.270449</td>\n",
       "    </tr>\n",
       "    <tr>\n",
       "      <th>café Wilskracht</th>\n",
       "      <td>7.636992</td>\n",
       "      <td>7.636992</td>\n",
       "      <td>7.636992</td>\n",
       "      <td>7.636992</td>\n",
       "      <td>7.636992</td>\n",
       "      <td>7.636992</td>\n",
       "      <td>7.636992</td>\n",
       "      <td>7.636992</td>\n",
       "      <td>7.636992</td>\n",
       "      <td>7.636992</td>\n",
       "      <td>7.636992</td>\n",
       "      <td>7.636992</td>\n",
       "      <td>7.636992</td>\n",
       "      <td>7.636992</td>\n",
       "      <td>7.636992</td>\n",
       "    </tr>\n",
       "    <tr>\n",
       "      <th>d&amp;a hummus bistro</th>\n",
       "      <td>8.295635</td>\n",
       "      <td>8.295635</td>\n",
       "      <td>8.295635</td>\n",
       "      <td>8.295635</td>\n",
       "      <td>8.295635</td>\n",
       "      <td>8.295635</td>\n",
       "      <td>8.295635</td>\n",
       "      <td>8.295635</td>\n",
       "      <td>8.295635</td>\n",
       "      <td>8.295635</td>\n",
       "      <td>8.295635</td>\n",
       "      <td>8.295635</td>\n",
       "      <td>8.295635</td>\n",
       "      <td>8.295635</td>\n",
       "      <td>8.295635</td>\n",
       "    </tr>\n",
       "    <tr>\n",
       "      <th>d'Antica</th>\n",
       "      <td>8.598777</td>\n",
       "      <td>8.598777</td>\n",
       "      <td>8.598777</td>\n",
       "      <td>8.598777</td>\n",
       "      <td>8.598777</td>\n",
       "      <td>8.598777</td>\n",
       "      <td>8.598777</td>\n",
       "      <td>8.598777</td>\n",
       "      <td>8.598777</td>\n",
       "      <td>8.598777</td>\n",
       "      <td>8.598777</td>\n",
       "      <td>8.598777</td>\n",
       "      <td>8.598777</td>\n",
       "      <td>8.598777</td>\n",
       "      <td>8.598777</td>\n",
       "    </tr>\n",
       "    <tr>\n",
       "      <th>da portare VIA Copernicusstraat</th>\n",
       "      <td>7.613385</td>\n",
       "      <td>7.613385</td>\n",
       "      <td>7.613385</td>\n",
       "      <td>7.613385</td>\n",
       "      <td>7.613385</td>\n",
       "      <td>7.613385</td>\n",
       "      <td>7.613385</td>\n",
       "      <td>7.613385</td>\n",
       "      <td>7.613385</td>\n",
       "      <td>7.613385</td>\n",
       "      <td>7.613385</td>\n",
       "      <td>7.613385</td>\n",
       "      <td>7.613385</td>\n",
       "      <td>7.613385</td>\n",
       "      <td>7.613385</td>\n",
       "    </tr>\n",
       "    <tr>\n",
       "      <th>da portare VIA Frans Halsstraat</th>\n",
       "      <td>7.407143</td>\n",
       "      <td>7.407143</td>\n",
       "      <td>7.407143</td>\n",
       "      <td>7.407143</td>\n",
       "      <td>7.407143</td>\n",
       "      <td>7.407143</td>\n",
       "      <td>7.407143</td>\n",
       "      <td>7.407143</td>\n",
       "      <td>7.407143</td>\n",
       "      <td>7.407143</td>\n",
       "      <td>7.407143</td>\n",
       "      <td>7.407143</td>\n",
       "      <td>7.407143</td>\n",
       "      <td>7.407143</td>\n",
       "      <td>7.407143</td>\n",
       "    </tr>\n",
       "    <tr>\n",
       "      <th>da portare VIA Lange Niezel</th>\n",
       "      <td>8.638193</td>\n",
       "      <td>8.638193</td>\n",
       "      <td>8.638193</td>\n",
       "      <td>8.638193</td>\n",
       "      <td>8.638193</td>\n",
       "      <td>8.638193</td>\n",
       "      <td>8.638193</td>\n",
       "      <td>8.638193</td>\n",
       "      <td>8.638193</td>\n",
       "      <td>8.638193</td>\n",
       "      <td>8.638193</td>\n",
       "      <td>8.638193</td>\n",
       "      <td>8.638193</td>\n",
       "      <td>8.638193</td>\n",
       "      <td>8.638193</td>\n",
       "    </tr>\n",
       "    <tr>\n",
       "      <th>da portare VIA Leliegracht</th>\n",
       "      <td>7.031961</td>\n",
       "      <td>7.031961</td>\n",
       "      <td>7.031961</td>\n",
       "      <td>7.031961</td>\n",
       "      <td>7.031961</td>\n",
       "      <td>7.031961</td>\n",
       "      <td>7.031961</td>\n",
       "      <td>7.031961</td>\n",
       "      <td>7.031961</td>\n",
       "      <td>7.031961</td>\n",
       "      <td>7.031961</td>\n",
       "      <td>7.031961</td>\n",
       "      <td>7.031961</td>\n",
       "      <td>7.031961</td>\n",
       "      <td>7.031961</td>\n",
       "    </tr>\n",
       "    <tr>\n",
       "      <th>da portare VIA Willemsparkweg</th>\n",
       "      <td>8.852015</td>\n",
       "      <td>8.852015</td>\n",
       "      <td>8.852015</td>\n",
       "      <td>8.852015</td>\n",
       "      <td>8.852015</td>\n",
       "      <td>8.852015</td>\n",
       "      <td>8.852015</td>\n",
       "      <td>8.852015</td>\n",
       "      <td>8.852015</td>\n",
       "      <td>8.852015</td>\n",
       "      <td>8.852015</td>\n",
       "      <td>8.852015</td>\n",
       "      <td>8.852015</td>\n",
       "      <td>8.852015</td>\n",
       "      <td>8.852015</td>\n",
       "    </tr>\n",
       "    <tr>\n",
       "      <th>de Bijenkorf Kitchen Amsterdam</th>\n",
       "      <td>7.745514</td>\n",
       "      <td>7.745514</td>\n",
       "      <td>7.745514</td>\n",
       "      <td>7.745514</td>\n",
       "      <td>7.745514</td>\n",
       "      <td>7.745514</td>\n",
       "      <td>7.745514</td>\n",
       "      <td>7.745514</td>\n",
       "      <td>7.745514</td>\n",
       "      <td>7.745514</td>\n",
       "      <td>7.745514</td>\n",
       "      <td>7.745514</td>\n",
       "      <td>7.745514</td>\n",
       "      <td>7.745514</td>\n",
       "      <td>7.745514</td>\n",
       "    </tr>\n",
       "    <tr>\n",
       "      <th>d’Vijff Vlieghen</th>\n",
       "      <td>8.491038</td>\n",
       "      <td>8.491038</td>\n",
       "      <td>8.491038</td>\n",
       "      <td>8.491038</td>\n",
       "      <td>8.491038</td>\n",
       "      <td>8.491038</td>\n",
       "      <td>8.491038</td>\n",
       "      <td>8.491038</td>\n",
       "      <td>8.491038</td>\n",
       "      <td>8.491038</td>\n",
       "      <td>8.491038</td>\n",
       "      <td>8.491038</td>\n",
       "      <td>8.491038</td>\n",
       "      <td>8.491038</td>\n",
       "      <td>8.491038</td>\n",
       "    </tr>\n",
       "    <tr>\n",
       "      <th>eetcafe Rosereijn</th>\n",
       "      <td>7.308032</td>\n",
       "      <td>7.308032</td>\n",
       "      <td>7.308032</td>\n",
       "      <td>7.308032</td>\n",
       "      <td>7.308032</td>\n",
       "      <td>7.308032</td>\n",
       "      <td>7.308032</td>\n",
       "      <td>7.308032</td>\n",
       "      <td>7.308032</td>\n",
       "      <td>7.308032</td>\n",
       "      <td>7.308032</td>\n",
       "      <td>7.308032</td>\n",
       "      <td>7.308032</td>\n",
       "      <td>7.308032</td>\n",
       "      <td>7.308032</td>\n",
       "    </tr>\n",
       "    <tr>\n",
       "      <th>l'Angolo Italiano</th>\n",
       "      <td>8.607271</td>\n",
       "      <td>8.607271</td>\n",
       "      <td>8.607271</td>\n",
       "      <td>8.607271</td>\n",
       "      <td>8.607271</td>\n",
       "      <td>8.607271</td>\n",
       "      <td>8.607271</td>\n",
       "      <td>8.607271</td>\n",
       "      <td>8.607271</td>\n",
       "      <td>8.607271</td>\n",
       "      <td>8.607271</td>\n",
       "      <td>8.607271</td>\n",
       "      <td>8.607271</td>\n",
       "      <td>8.607271</td>\n",
       "      <td>8.607271</td>\n",
       "    </tr>\n",
       "    <tr>\n",
       "      <th>la Vaca</th>\n",
       "      <td>7.079196</td>\n",
       "      <td>7.079196</td>\n",
       "      <td>7.079196</td>\n",
       "      <td>7.079196</td>\n",
       "      <td>7.079196</td>\n",
       "      <td>7.079196</td>\n",
       "      <td>7.079196</td>\n",
       "      <td>7.079196</td>\n",
       "      <td>7.079196</td>\n",
       "      <td>7.079196</td>\n",
       "      <td>7.079196</td>\n",
       "      <td>7.079196</td>\n",
       "      <td>7.079196</td>\n",
       "      <td>7.079196</td>\n",
       "      <td>7.079196</td>\n",
       "    </tr>\n",
       "    <tr>\n",
       "      <th>meneer VAN LOON</th>\n",
       "      <td>8.290694</td>\n",
       "      <td>8.290694</td>\n",
       "      <td>8.290694</td>\n",
       "      <td>8.290694</td>\n",
       "      <td>8.290694</td>\n",
       "      <td>8.290694</td>\n",
       "      <td>8.290694</td>\n",
       "      <td>8.290694</td>\n",
       "      <td>8.290694</td>\n",
       "      <td>8.290694</td>\n",
       "      <td>8.290694</td>\n",
       "      <td>8.290694</td>\n",
       "      <td>8.290694</td>\n",
       "      <td>8.290694</td>\n",
       "      <td>8.290694</td>\n",
       "    </tr>\n",
       "    <tr>\n",
       "      <th>old school  Amsterdam</th>\n",
       "      <td>8.004792</td>\n",
       "      <td>8.004792</td>\n",
       "      <td>8.004792</td>\n",
       "      <td>8.004792</td>\n",
       "      <td>8.004792</td>\n",
       "      <td>8.004792</td>\n",
       "      <td>8.004792</td>\n",
       "      <td>8.004792</td>\n",
       "      <td>8.004792</td>\n",
       "      <td>8.004792</td>\n",
       "      <td>8.004792</td>\n",
       "      <td>8.004792</td>\n",
       "      <td>8.004792</td>\n",
       "      <td>8.004792</td>\n",
       "      <td>8.004792</td>\n",
       "    </tr>\n",
       "    <tr>\n",
       "      <th>restaurant Bureau</th>\n",
       "      <td>8.610944</td>\n",
       "      <td>8.610944</td>\n",
       "      <td>8.610944</td>\n",
       "      <td>8.610944</td>\n",
       "      <td>8.610944</td>\n",
       "      <td>8.610944</td>\n",
       "      <td>8.610944</td>\n",
       "      <td>8.610944</td>\n",
       "      <td>8.610944</td>\n",
       "      <td>8.610944</td>\n",
       "      <td>8.610944</td>\n",
       "      <td>8.610944</td>\n",
       "      <td>8.610944</td>\n",
       "      <td>8.610944</td>\n",
       "      <td>8.610944</td>\n",
       "    </tr>\n",
       "    <tr>\n",
       "      <th>restaurant VLAMING</th>\n",
       "      <td>8.263952</td>\n",
       "      <td>8.263952</td>\n",
       "      <td>8.263952</td>\n",
       "      <td>8.263952</td>\n",
       "      <td>8.263952</td>\n",
       "      <td>8.263952</td>\n",
       "      <td>8.263952</td>\n",
       "      <td>8.263952</td>\n",
       "      <td>8.263952</td>\n",
       "      <td>8.263952</td>\n",
       "      <td>8.263952</td>\n",
       "      <td>8.263952</td>\n",
       "      <td>8.263952</td>\n",
       "      <td>8.263952</td>\n",
       "      <td>8.263952</td>\n",
       "    </tr>\n",
       "    <tr>\n",
       "      <th>yumi sushi</th>\n",
       "      <td>7.204716</td>\n",
       "      <td>7.204716</td>\n",
       "      <td>7.204716</td>\n",
       "      <td>7.204716</td>\n",
       "      <td>7.204716</td>\n",
       "      <td>7.204716</td>\n",
       "      <td>7.204716</td>\n",
       "      <td>7.204716</td>\n",
       "      <td>7.204716</td>\n",
       "      <td>7.204716</td>\n",
       "      <td>7.204716</td>\n",
       "      <td>7.204716</td>\n",
       "      <td>7.204716</td>\n",
       "      <td>7.204716</td>\n",
       "      <td>7.204716</td>\n",
       "    </tr>\n",
       "    <tr>\n",
       "      <th>Ô MAI</th>\n",
       "      <td>7.675162</td>\n",
       "      <td>7.675162</td>\n",
       "      <td>7.675162</td>\n",
       "      <td>7.675162</td>\n",
       "      <td>7.675162</td>\n",
       "      <td>7.675162</td>\n",
       "      <td>7.675162</td>\n",
       "      <td>7.675162</td>\n",
       "      <td>7.675162</td>\n",
       "      <td>7.675162</td>\n",
       "      <td>7.675162</td>\n",
       "      <td>7.675162</td>\n",
       "      <td>7.675162</td>\n",
       "      <td>7.675162</td>\n",
       "      <td>7.675162</td>\n",
       "    </tr>\n",
       "    <tr>\n",
       "      <th>Öz Kismet</th>\n",
       "      <td>8.784376</td>\n",
       "      <td>8.784376</td>\n",
       "      <td>8.784376</td>\n",
       "      <td>8.784376</td>\n",
       "      <td>8.784376</td>\n",
       "      <td>8.784376</td>\n",
       "      <td>8.784376</td>\n",
       "      <td>8.784376</td>\n",
       "      <td>8.784376</td>\n",
       "      <td>8.784376</td>\n",
       "      <td>8.784376</td>\n",
       "      <td>8.784376</td>\n",
       "      <td>8.784376</td>\n",
       "      <td>8.784376</td>\n",
       "      <td>8.784376</td>\n",
       "    </tr>\n",
       "    <tr>\n",
       "      <th>éénvistwéévis</th>\n",
       "      <td>8.299200</td>\n",
       "      <td>8.299200</td>\n",
       "      <td>8.299200</td>\n",
       "      <td>8.299200</td>\n",
       "      <td>8.299200</td>\n",
       "      <td>8.299200</td>\n",
       "      <td>8.299200</td>\n",
       "      <td>8.299200</td>\n",
       "      <td>8.299200</td>\n",
       "      <td>8.299200</td>\n",
       "      <td>8.299200</td>\n",
       "      <td>8.299200</td>\n",
       "      <td>8.299200</td>\n",
       "      <td>8.299200</td>\n",
       "      <td>8.299200</td>\n",
       "    </tr>\n",
       "  </tbody>\n",
       "</table>\n",
       "<p>1769 rows × 15 columns</p>\n",
       "</div>"
      ],
      "text/plain": [
       "                                 reserved_online        id  rating_service  \\\n",
       "name                                                                         \n",
       " Yoghurt Barn Amsterdam                 7.201474  7.201474        7.201474   \n",
       "&moshik                                 8.502679  8.502679        8.502679   \n",
       "'cause BEER loves FOOD                  8.033089  8.033089        8.033089   \n",
       "'t Blaauwhooft                          7.843654  7.843654        7.843654   \n",
       "'t Gasthuys                             7.257356  7.257356        7.257356   \n",
       "'t Houtskooltje                         7.602139  7.602139        7.602139   \n",
       "'t Kalfje                               8.006143  8.006143        8.006143   \n",
       "'t Kuyltje                              8.972459  8.972459        8.972459   \n",
       "'t Markerhuisje                         8.340430  8.340430        8.340430   \n",
       "'t Molenpad                             8.118890  8.118890        8.118890   \n",
       "'t Nieuwe Kafé                          6.909964  6.909964        6.909964   \n",
       "'t Oostpoortje                          7.312088  7.312088        7.312088   \n",
       "'t Paardje                              6.604502  6.604502        6.604502   \n",
       "'t Sluisje                              8.497563  8.497563        8.497563   \n",
       "'t Steakhouse                           7.733570  7.733570        7.733570   \n",
       "'t Tuinfeest                            6.464283  6.464283        6.464283   \n",
       "'t Vliegertje                           8.399048  8.399048        8.399048   \n",
       "'t Wethoudertje                         8.272752  8.272752        8.272752   \n",
       "'t Zwaantje                             6.799682  6.799682        6.799682   \n",
       "5&33                                    7.764004  7.764004        7.764004   \n",
       "63graden Foodbar                        9.328242  9.328242        9.328242   \n",
       "??Mangiancora                           8.409901  8.409901        8.409901   \n",
       "@7                                      6.797974  6.797974        6.797974   \n",
       "A Beautiful Mess                        8.984130  8.984130        8.984130   \n",
       "A Fusion                                8.652320  8.652320        8.652320   \n",
       "A Tavola                                7.576771  7.576771        7.576771   \n",
       "Abinish                                 8.125448  8.125448        8.125448   \n",
       "Absolute Taste                          6.727174  6.727174        6.727174   \n",
       "Abyssinia                               8.138523  8.138523        8.138523   \n",
       "Ada Lunch & Restaurant                  6.284733  6.284733        6.284733   \n",
       "...                                          ...       ...             ...   \n",
       "Zoku Amsterdam                          8.640152  8.640152        8.640152   \n",
       "Zorba de Griek                          5.525032  5.525032        5.525032   \n",
       "Zouthaven                               6.831181  6.831181        6.831181   \n",
       "Zuivere Koffie                          6.488193  6.488193        6.488193   \n",
       "Zurich                                  7.465124  7.465124        7.465124   \n",
       "Zus en Zus                              6.607966  6.607966        6.607966   \n",
       "Zushi                                   8.248916  8.248916        8.248916   \n",
       "afhaalcentrum Terang Boelan             7.981156  7.981156        7.981156   \n",
       "al Bacaro - Osteria Italiana            8.270449  8.270449        8.270449   \n",
       "café Wilskracht                         7.636992  7.636992        7.636992   \n",
       "d&a hummus bistro                       8.295635  8.295635        8.295635   \n",
       "d'Antica                                8.598777  8.598777        8.598777   \n",
       "da portare VIA Copernicusstraat         7.613385  7.613385        7.613385   \n",
       "da portare VIA Frans Halsstraat         7.407143  7.407143        7.407143   \n",
       "da portare VIA Lange Niezel             8.638193  8.638193        8.638193   \n",
       "da portare VIA Leliegracht              7.031961  7.031961        7.031961   \n",
       "da portare VIA Willemsparkweg           8.852015  8.852015        8.852015   \n",
       "de Bijenkorf Kitchen Amsterdam          7.745514  7.745514        7.745514   \n",
       "d’Vijff Vlieghen                        8.491038  8.491038        8.491038   \n",
       "eetcafe Rosereijn                       7.308032  7.308032        7.308032   \n",
       "l'Angolo Italiano                       8.607271  8.607271        8.607271   \n",
       "la Vaca                                 7.079196  7.079196        7.079196   \n",
       "meneer VAN LOON                         8.290694  8.290694        8.290694   \n",
       "old school  Amsterdam                   8.004792  8.004792        8.004792   \n",
       "restaurant Bureau                       8.610944  8.610944        8.610944   \n",
       "restaurant VLAMING                      8.263952  8.263952        8.263952   \n",
       "yumi sushi                              7.204716  7.204716        7.204716   \n",
       "Ô MAI                                   7.675162  7.675162        7.675162   \n",
       "Öz Kismet                               8.784376  8.784376        8.784376   \n",
       "éénvistwéévis                           8.299200  8.299200        8.299200   \n",
       "\n",
       "                                     date  rating_food  rating_decor  \\\n",
       "name                                                                   \n",
       " Yoghurt Barn Amsterdam          7.201474     7.201474      7.201474   \n",
       "&moshik                          8.502679     8.502679      8.502679   \n",
       "'cause BEER loves FOOD           8.033089     8.033089      8.033089   \n",
       "'t Blaauwhooft                   7.843654     7.843654      7.843654   \n",
       "'t Gasthuys                      7.257356     7.257356      7.257356   \n",
       "'t Houtskooltje                  7.602139     7.602139      7.602139   \n",
       "'t Kalfje                        8.006143     8.006143      8.006143   \n",
       "'t Kuyltje                       8.972459     8.972459      8.972459   \n",
       "'t Markerhuisje                  8.340430     8.340430      8.340430   \n",
       "'t Molenpad                      8.118890     8.118890      8.118890   \n",
       "'t Nieuwe Kafé                   6.909964     6.909964      6.909964   \n",
       "'t Oostpoortje                   7.312088     7.312088      7.312088   \n",
       "'t Paardje                       6.604502     6.604502      6.604502   \n",
       "'t Sluisje                       8.497563     8.497563      8.497563   \n",
       "'t Steakhouse                    7.733570     7.733570      7.733570   \n",
       "'t Tuinfeest                     6.464283     6.464283      6.464283   \n",
       "'t Vliegertje                    8.399048     8.399048      8.399048   \n",
       "'t Wethoudertje                  8.272752     8.272752      8.272752   \n",
       "'t Zwaantje                      6.799682     6.799682      6.799682   \n",
       "5&33                             7.764004     7.764004      7.764004   \n",
       "63graden Foodbar                 9.328242     9.328242      9.328242   \n",
       "??Mangiancora                    8.409901     8.409901      8.409901   \n",
       "@7                               6.797974     6.797974      6.797974   \n",
       "A Beautiful Mess                 8.984130     8.984130      8.984130   \n",
       "A Fusion                         8.652320     8.652320      8.652320   \n",
       "A Tavola                         7.576771     7.576771      7.576771   \n",
       "Abinish                          8.125448     8.125448      8.125448   \n",
       "Absolute Taste                   6.727174     6.727174      6.727174   \n",
       "Abyssinia                        8.138523     8.138523      8.138523   \n",
       "Ada Lunch & Restaurant           6.284733     6.284733      6.284733   \n",
       "...                                   ...          ...           ...   \n",
       "Zoku Amsterdam                   8.640152     8.640152      8.640152   \n",
       "Zorba de Griek                   5.525032     5.525032      5.525032   \n",
       "Zouthaven                        6.831181     6.831181      6.831181   \n",
       "Zuivere Koffie                   6.488193     6.488193      6.488193   \n",
       "Zurich                           7.465124     7.465124      7.465124   \n",
       "Zus en Zus                       6.607966     6.607966      6.607966   \n",
       "Zushi                            8.248916     8.248916      8.248916   \n",
       "afhaalcentrum Terang Boelan      7.981156     7.981156      7.981156   \n",
       "al Bacaro - Osteria Italiana     8.270449     8.270449      8.270449   \n",
       "café Wilskracht                  7.636992     7.636992      7.636992   \n",
       "d&a hummus bistro                8.295635     8.295635      8.295635   \n",
       "d'Antica                         8.598777     8.598777      8.598777   \n",
       "da portare VIA Copernicusstraat  7.613385     7.613385      7.613385   \n",
       "da portare VIA Frans Halsstraat  7.407143     7.407143      7.407143   \n",
       "da portare VIA Lange Niezel      8.638193     8.638193      8.638193   \n",
       "da portare VIA Leliegracht       7.031961     7.031961      7.031961   \n",
       "da portare VIA Willemsparkweg    8.852015     8.852015      8.852015   \n",
       "de Bijenkorf Kitchen Amsterdam   7.745514     7.745514      7.745514   \n",
       "d’Vijff Vlieghen                 8.491038     8.491038      8.491038   \n",
       "eetcafe Rosereijn                7.308032     7.308032      7.308032   \n",
       "l'Angolo Italiano                8.607271     8.607271      8.607271   \n",
       "la Vaca                          7.079196     7.079196      7.079196   \n",
       "meneer VAN LOON                  8.290694     8.290694      8.290694   \n",
       "old school  Amsterdam            8.004792     8.004792      8.004792   \n",
       "restaurant Bureau                8.610944     8.610944      8.610944   \n",
       "restaurant VLAMING               8.263952     8.263952      8.263952   \n",
       "yumi sushi                       7.204716     7.204716      7.204716   \n",
       "Ô MAI                            7.675162     7.675162      7.675162   \n",
       "Öz Kismet                        8.784376     8.784376      8.784376   \n",
       "éénvistwéévis                    8.299200     8.299200      8.299200   \n",
       "\n",
       "                                 reviewer    rating   comment  yearmonth  \\\n",
       "name                                                                       \n",
       " Yoghurt Barn Amsterdam          7.201474  7.201474  7.201474   7.201474   \n",
       "&moshik                          8.502679  8.502679  8.502679   8.502679   \n",
       "'cause BEER loves FOOD           8.033089  8.033089  8.033089   8.033089   \n",
       "'t Blaauwhooft                   7.843654  7.843654  7.843654   7.843654   \n",
       "'t Gasthuys                      7.257356  7.257356  7.257356   7.257356   \n",
       "'t Houtskooltje                  7.602139  7.602139  7.602139   7.602139   \n",
       "'t Kalfje                        8.006143  8.006143  8.006143   8.006143   \n",
       "'t Kuyltje                       8.972459  8.972459  8.972459   8.972459   \n",
       "'t Markerhuisje                  8.340430  8.340430  8.340430   8.340430   \n",
       "'t Molenpad                      8.118890  8.118890  8.118890   8.118890   \n",
       "'t Nieuwe Kafé                   6.909964  6.909964  6.909964   6.909964   \n",
       "'t Oostpoortje                   7.312088  7.312088  7.312088   7.312088   \n",
       "'t Paardje                       6.604502  6.604502  6.604502   6.604502   \n",
       "'t Sluisje                       8.497563  8.497563  8.497563   8.497563   \n",
       "'t Steakhouse                    7.733570  7.733570  7.733570   7.733570   \n",
       "'t Tuinfeest                     6.464283  6.464283  6.464283   6.464283   \n",
       "'t Vliegertje                    8.399048  8.399048  8.399048   8.399048   \n",
       "'t Wethoudertje                  8.272752  8.272752  8.272752   8.272752   \n",
       "'t Zwaantje                      6.799682  6.799682  6.799682   6.799682   \n",
       "5&33                             7.764004  7.764004  7.764004   7.764004   \n",
       "63graden Foodbar                 9.328242  9.328242  9.328242   9.328242   \n",
       "??Mangiancora                    8.409901  8.409901  8.409901   8.409901   \n",
       "@7                               6.797974  6.797974  6.797974   6.797974   \n",
       "A Beautiful Mess                 8.984130  8.984130  8.984130   8.984130   \n",
       "A Fusion                         8.652320  8.652320  8.652320   8.652320   \n",
       "A Tavola                         7.576771  7.576771  7.576771   7.576771   \n",
       "Abinish                          8.125448  8.125448  8.125448   8.125448   \n",
       "Absolute Taste                   6.727174  6.727174  6.727174   6.727174   \n",
       "Abyssinia                        8.138523  8.138523  8.138523   8.138523   \n",
       "Ada Lunch & Restaurant           6.284733  6.284733  6.284733   6.284733   \n",
       "...                                   ...       ...       ...        ...   \n",
       "Zoku Amsterdam                   8.640152  8.640152  8.640152   8.640152   \n",
       "Zorba de Griek                   5.525032  5.525032  5.525032   5.525032   \n",
       "Zouthaven                        6.831181  6.831181  6.831181   6.831181   \n",
       "Zuivere Koffie                   6.488193  6.488193  6.488193   6.488193   \n",
       "Zurich                           7.465124  7.465124  7.465124   7.465124   \n",
       "Zus en Zus                       6.607966  6.607966  6.607966   6.607966   \n",
       "Zushi                            8.248916  8.248916  8.248916   8.248916   \n",
       "afhaalcentrum Terang Boelan      7.981156  7.981156  7.981156   7.981156   \n",
       "al Bacaro - Osteria Italiana     8.270449  8.270449  8.270449   8.270449   \n",
       "café Wilskracht                  7.636992  7.636992  7.636992   7.636992   \n",
       "d&a hummus bistro                8.295635  8.295635  8.295635   8.295635   \n",
       "d'Antica                         8.598777  8.598777  8.598777   8.598777   \n",
       "da portare VIA Copernicusstraat  7.613385  7.613385  7.613385   7.613385   \n",
       "da portare VIA Frans Halsstraat  7.407143  7.407143  7.407143   7.407143   \n",
       "da portare VIA Lange Niezel      8.638193  8.638193  8.638193   8.638193   \n",
       "da portare VIA Leliegracht       7.031961  7.031961  7.031961   7.031961   \n",
       "da portare VIA Willemsparkweg    8.852015  8.852015  8.852015   8.852015   \n",
       "de Bijenkorf Kitchen Amsterdam   7.745514  7.745514  7.745514   7.745514   \n",
       "d’Vijff Vlieghen                 8.491038  8.491038  8.491038   8.491038   \n",
       "eetcafe Rosereijn                7.308032  7.308032  7.308032   7.308032   \n",
       "l'Angolo Italiano                8.607271  8.607271  8.607271   8.607271   \n",
       "la Vaca                          7.079196  7.079196  7.079196   7.079196   \n",
       "meneer VAN LOON                  8.290694  8.290694  8.290694   8.290694   \n",
       "old school  Amsterdam            8.004792  8.004792  8.004792   8.004792   \n",
       "restaurant Bureau                8.610944  8.610944  8.610944   8.610944   \n",
       "restaurant VLAMING               8.263952  8.263952  8.263952   8.263952   \n",
       "yumi sushi                       7.204716  7.204716  7.204716   7.204716   \n",
       "Ô MAI                            7.675162  7.675162  7.675162   7.675162   \n",
       "Öz Kismet                        8.784376  8.784376  8.784376   8.784376   \n",
       "éénvistwéévis                    8.299200  8.299200  8.299200   8.299200   \n",
       "\n",
       "                                     year     month  months_ago  days_ago  \\\n",
       "name                                                                        \n",
       " Yoghurt Barn Amsterdam          7.201474  7.201474    7.201474  7.201474   \n",
       "&moshik                          8.502679  8.502679    8.502679  8.502679   \n",
       "'cause BEER loves FOOD           8.033089  8.033089    8.033089  8.033089   \n",
       "'t Blaauwhooft                   7.843654  7.843654    7.843654  7.843654   \n",
       "'t Gasthuys                      7.257356  7.257356    7.257356  7.257356   \n",
       "'t Houtskooltje                  7.602139  7.602139    7.602139  7.602139   \n",
       "'t Kalfje                        8.006143  8.006143    8.006143  8.006143   \n",
       "'t Kuyltje                       8.972459  8.972459    8.972459  8.972459   \n",
       "'t Markerhuisje                  8.340430  8.340430    8.340430  8.340430   \n",
       "'t Molenpad                      8.118890  8.118890    8.118890  8.118890   \n",
       "'t Nieuwe Kafé                   6.909964  6.909964    6.909964  6.909964   \n",
       "'t Oostpoortje                   7.312088  7.312088    7.312088  7.312088   \n",
       "'t Paardje                       6.604502  6.604502    6.604502  6.604502   \n",
       "'t Sluisje                       8.497563  8.497563    8.497563  8.497563   \n",
       "'t Steakhouse                    7.733570  7.733570    7.733570  7.733570   \n",
       "'t Tuinfeest                     6.464283  6.464283    6.464283  6.464283   \n",
       "'t Vliegertje                    8.399048  8.399048    8.399048  8.399048   \n",
       "'t Wethoudertje                  8.272752  8.272752    8.272752  8.272752   \n",
       "'t Zwaantje                      6.799682  6.799682    6.799682  6.799682   \n",
       "5&33                             7.764004  7.764004    7.764004  7.764004   \n",
       "63graden Foodbar                 9.328242  9.328242    9.328242  9.328242   \n",
       "??Mangiancora                    8.409901  8.409901    8.409901  8.409901   \n",
       "@7                               6.797974  6.797974    6.797974  6.797974   \n",
       "A Beautiful Mess                 8.984130  8.984130    8.984130  8.984130   \n",
       "A Fusion                         8.652320  8.652320    8.652320  8.652320   \n",
       "A Tavola                         7.576771  7.576771    7.576771  7.576771   \n",
       "Abinish                          8.125448  8.125448    8.125448  8.125448   \n",
       "Absolute Taste                   6.727174  6.727174    6.727174  6.727174   \n",
       "Abyssinia                        8.138523  8.138523    8.138523  8.138523   \n",
       "Ada Lunch & Restaurant           6.284733  6.284733    6.284733  6.284733   \n",
       "...                                   ...       ...         ...       ...   \n",
       "Zoku Amsterdam                   8.640152  8.640152    8.640152  8.640152   \n",
       "Zorba de Griek                   5.525032  5.525032    5.525032  5.525032   \n",
       "Zouthaven                        6.831181  6.831181    6.831181  6.831181   \n",
       "Zuivere Koffie                   6.488193  6.488193    6.488193  6.488193   \n",
       "Zurich                           7.465124  7.465124    7.465124  7.465124   \n",
       "Zus en Zus                       6.607966  6.607966    6.607966  6.607966   \n",
       "Zushi                            8.248916  8.248916    8.248916  8.248916   \n",
       "afhaalcentrum Terang Boelan      7.981156  7.981156    7.981156  7.981156   \n",
       "al Bacaro - Osteria Italiana     8.270449  8.270449    8.270449  8.270449   \n",
       "café Wilskracht                  7.636992  7.636992    7.636992  7.636992   \n",
       "d&a hummus bistro                8.295635  8.295635    8.295635  8.295635   \n",
       "d'Antica                         8.598777  8.598777    8.598777  8.598777   \n",
       "da portare VIA Copernicusstraat  7.613385  7.613385    7.613385  7.613385   \n",
       "da portare VIA Frans Halsstraat  7.407143  7.407143    7.407143  7.407143   \n",
       "da portare VIA Lange Niezel      8.638193  8.638193    8.638193  8.638193   \n",
       "da portare VIA Leliegracht       7.031961  7.031961    7.031961  7.031961   \n",
       "da portare VIA Willemsparkweg    8.852015  8.852015    8.852015  8.852015   \n",
       "de Bijenkorf Kitchen Amsterdam   7.745514  7.745514    7.745514  7.745514   \n",
       "d’Vijff Vlieghen                 8.491038  8.491038    8.491038  8.491038   \n",
       "eetcafe Rosereijn                7.308032  7.308032    7.308032  7.308032   \n",
       "l'Angolo Italiano                8.607271  8.607271    8.607271  8.607271   \n",
       "la Vaca                          7.079196  7.079196    7.079196  7.079196   \n",
       "meneer VAN LOON                  8.290694  8.290694    8.290694  8.290694   \n",
       "old school  Amsterdam            8.004792  8.004792    8.004792  8.004792   \n",
       "restaurant Bureau                8.610944  8.610944    8.610944  8.610944   \n",
       "restaurant VLAMING               8.263952  8.263952    8.263952  8.263952   \n",
       "yumi sushi                       7.204716  7.204716    7.204716  7.204716   \n",
       "Ô MAI                            7.675162  7.675162    7.675162  7.675162   \n",
       "Öz Kismet                        8.784376  8.784376    8.784376  8.784376   \n",
       "éénvistwéévis                    8.299200  8.299200    8.299200  8.299200   \n",
       "\n",
       "                                 freshness  \n",
       "name                                        \n",
       " Yoghurt Barn Amsterdam           7.201474  \n",
       "&moshik                           8.502679  \n",
       "'cause BEER loves FOOD            8.033089  \n",
       "'t Blaauwhooft                    7.843654  \n",
       "'t Gasthuys                       7.257356  \n",
       "'t Houtskooltje                   7.602139  \n",
       "'t Kalfje                         8.006143  \n",
       "'t Kuyltje                        8.972459  \n",
       "'t Markerhuisje                   8.340430  \n",
       "'t Molenpad                       8.118890  \n",
       "'t Nieuwe Kafé                    6.909964  \n",
       "'t Oostpoortje                    7.312088  \n",
       "'t Paardje                        6.604502  \n",
       "'t Sluisje                        8.497563  \n",
       "'t Steakhouse                     7.733570  \n",
       "'t Tuinfeest                      6.464283  \n",
       "'t Vliegertje                     8.399048  \n",
       "'t Wethoudertje                   8.272752  \n",
       "'t Zwaantje                       6.799682  \n",
       "5&33                              7.764004  \n",
       "63graden Foodbar                  9.328242  \n",
       "??Mangiancora                     8.409901  \n",
       "@7                                6.797974  \n",
       "A Beautiful Mess                  8.984130  \n",
       "A Fusion                          8.652320  \n",
       "A Tavola                          7.576771  \n",
       "Abinish                           8.125448  \n",
       "Absolute Taste                    6.727174  \n",
       "Abyssinia                         8.138523  \n",
       "Ada Lunch & Restaurant            6.284733  \n",
       "...                                    ...  \n",
       "Zoku Amsterdam                    8.640152  \n",
       "Zorba de Griek                    5.525032  \n",
       "Zouthaven                         6.831181  \n",
       "Zuivere Koffie                    6.488193  \n",
       "Zurich                            7.465124  \n",
       "Zus en Zus                        6.607966  \n",
       "Zushi                             8.248916  \n",
       "afhaalcentrum Terang Boelan       7.981156  \n",
       "al Bacaro - Osteria Italiana      8.270449  \n",
       "café Wilskracht                   7.636992  \n",
       "d&a hummus bistro                 8.295635  \n",
       "d'Antica                          8.598777  \n",
       "da portare VIA Copernicusstraat   7.613385  \n",
       "da portare VIA Frans Halsstraat   7.407143  \n",
       "da portare VIA Lange Niezel       8.638193  \n",
       "da portare VIA Leliegracht        7.031961  \n",
       "da portare VIA Willemsparkweg     8.852015  \n",
       "de Bijenkorf Kitchen Amsterdam    7.745514  \n",
       "d’Vijff Vlieghen                  8.491038  \n",
       "eetcafe Rosereijn                 7.308032  \n",
       "l'Angolo Italiano                 8.607271  \n",
       "la Vaca                           7.079196  \n",
       "meneer VAN LOON                   8.290694  \n",
       "old school  Amsterdam             8.004792  \n",
       "restaurant Bureau                 8.610944  \n",
       "restaurant VLAMING                8.263952  \n",
       "yumi sushi                        7.204716  \n",
       "Ô MAI                             7.675162  \n",
       "Öz Kismet                         8.784376  \n",
       "éénvistwéévis                     8.299200  \n",
       "\n",
       "[1769 rows x 15 columns]"
      ]
     },
     "execution_count": 179,
     "metadata": {},
     "output_type": "execute_result"
    }
   ],
   "source": [
    "df.groupby('name').agg(rating_weigthed_freshness)"
   ]
  },
  {
   "cell_type": "code",
   "execution_count": 178,
   "metadata": {
    "scrolled": true
   },
   "outputs": [
    {
     "data": {
      "text/plain": [
       "name\n",
       " Yoghurt Barn Amsterdam            7.215789\n",
       "&moshik                            8.468508\n",
       "'cause BEER loves FOOD             8.075000\n",
       "'t Blaauwhooft                     7.905556\n",
       "'t Gasthuys                        7.280000\n",
       "'t Houtskooltje                    7.683333\n",
       "'t Kalfje                          8.000000\n",
       "'t Kuyltje                         8.960000\n",
       "'t Markerhuisje                    8.315686\n",
       "'t Molenpad                        8.118182\n",
       "'t Nieuwe Kafé                     6.966667\n",
       "'t Oostpoortje                     7.392857\n",
       "'t Paardje                         6.592857\n",
       "'t Sluisje                         8.388889\n",
       "'t Steakhouse                      7.711204\n",
       "'t Tuinfeest                       6.450000\n",
       "'t Vliegertje                      8.354148\n",
       "'t Wethoudertje                    8.182609\n",
       "'t Zwaantje                        6.793333\n",
       "5&33                               7.755696\n",
       "63graden Foodbar                   9.280769\n",
       "??Mangiancora                      8.350000\n",
       "@7                                 6.730000\n",
       "A Beautiful Mess                   9.000000\n",
       "A Fusion                           8.550000\n",
       "A Tavola                           7.581633\n",
       "Abinish                            8.083333\n",
       "Absolute Taste                     6.800000\n",
       "Abyssinia                          8.122222\n",
       "Ada Lunch & Restaurant             6.280000\n",
       "                                     ...   \n",
       "Zoku Amsterdam                     8.625000\n",
       "Zorba de Griek                     5.315000\n",
       "Zouthaven                          6.827119\n",
       "Zuivere Koffie                     6.433333\n",
       "Zurich                             7.465432\n",
       "Zus en Zus                         6.500000\n",
       "Zushi                              8.169444\n",
       "afhaalcentrum Terang Boelan        7.920000\n",
       "al Bacaro - Osteria Italiana       8.259621\n",
       "café Wilskracht                    7.500000\n",
       "d&a hummus bistro                  8.245455\n",
       "d'Antica                           8.570000\n",
       "da portare VIA Copernicusstraat    7.523077\n",
       "da portare VIA Frans Halsstraat    7.308333\n",
       "da portare VIA Lange Niezel        8.583333\n",
       "da portare VIA Leliegracht         7.090000\n",
       "da portare VIA Willemsparkweg      8.850000\n",
       "de Bijenkorf Kitchen Amsterdam     7.710000\n",
       "d’Vijff Vlieghen                   8.479452\n",
       "eetcafe Rosereijn                  7.334483\n",
       "l'Angolo Italiano                  8.567939\n",
       "la Vaca                            7.115385\n",
       "meneer VAN LOON                    8.187500\n",
       "old school  Amsterdam              8.000893\n",
       "restaurant Bureau                  8.605882\n",
       "restaurant VLAMING                 8.293750\n",
       "yumi sushi                         7.193750\n",
       "Ô MAI                              7.677778\n",
       "Öz Kismet                          8.760000\n",
       "éénvistwéévis                      8.275000\n",
       "Name: rating, Length: 1769, dtype: float64"
      ]
     },
     "execution_count": 178,
     "metadata": {},
     "output_type": "execute_result"
    }
   ],
   "source": [
    "df.groupby('name')['rating'].agg('mean')"
   ]
  },
  {
   "cell_type": "code",
   "execution_count": null,
   "metadata": {},
   "outputs": [],
   "source": []
  }
 ],
 "metadata": {
  "kernelspec": {
   "display_name": "Python 3",
   "language": "python",
   "name": "python3"
  },
  "language_info": {
   "codemirror_mode": {
    "name": "ipython",
    "version": 3
   },
   "file_extension": ".py",
   "mimetype": "text/x-python",
   "name": "python",
   "nbconvert_exporter": "python",
   "pygments_lexer": "ipython3",
   "version": "3.6.3"
  }
 },
 "nbformat": 4,
 "nbformat_minor": 2
}
