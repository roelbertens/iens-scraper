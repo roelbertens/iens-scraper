{
 "cells": [
  {
   "cell_type": "markdown",
   "metadata": {},
   "source": [
    "# Show restaurants and select the best one"
   ]
  },
  {
   "cell_type": "code",
   "execution_count": 1,
   "metadata": {
    "scrolled": false
   },
   "outputs": [],
   "source": [
    "import pandas as pd\n",
    "import numpy as np\n",
    "import pandas_gbq as gbq \n",
    "import json\n",
    "import seaborn as sns\n",
    "import matplotlib.pyplot as plt\n",
    "%matplotlib inline\n",
    "# hide warnings. `gbq.read_gbq()` gives some\n",
    "import warnings\n",
    "warnings.filterwarnings('ignore')"
   ]
  },
  {
   "cell_type": "code",
   "execution_count": 2,
   "metadata": {},
   "outputs": [],
   "source": [
    "# project specifics\n",
    "PRIVATE_KEY = '../google-credentials/gsdk-credentials.json'\n",
    "PROJECT_ID = json.load(open(PRIVATE_KEY))['project_id']"
   ]
  },
  {
   "cell_type": "code",
   "execution_count": 12,
   "metadata": {},
   "outputs": [],
   "source": [
    "# Comments\n",
    "city = 'amsterdam'\n",
    "date = '20180123'\n",
    "bq_table_comments = '_'.join(['iens.iens_comments', city, date])"
   ]
  },
  {
   "cell_type": "code",
   "execution_count": 79,
   "metadata": {},
   "outputs": [],
   "source": [
    "# Restaurants info\n",
    "city = 'amsterdam'\n",
    "date = '20171228'\n",
    "bq_table_restaurants = '_'.join(['iens.iens', city, date])"
   ]
  },
  {
   "cell_type": "markdown",
   "metadata": {},
   "source": [
    "## Reading from BigQuery"
   ]
  },
  {
   "cell_type": "markdown",
   "metadata": {},
   "source": [
    "To load a BigQuery table into a Pandas dataframe, all you need is a query, the project_id, and a way to authenticate."
   ]
  },
  {
   "cell_type": "code",
   "execution_count": 14,
   "metadata": {
    "scrolled": true
   },
   "outputs": [
    {
     "name": "stdout",
     "output_type": "stream",
     "text": [
      "Requesting query... ok.\n",
      "Job ID: job_Bag-pwTULOcXWW60r5nqxX5ssi8b\n",
      "Query running...\n",
      "Query done.\n",
      "Cache hit.\n",
      "\n",
      "Retrieving results...\n",
      "  Got page: 2; 42% done. Elapsed 13.01 s.\n",
      "  Got page: 3; 68% done. Elapsed 18.7 s.\n",
      "  Got page: 4; 86% done. Elapsed 26.89 s.\n",
      "  Got page: 5; 100% done. Elapsed 31.06 s.\n",
      "Got 94854 rows.\n",
      "\n",
      "Total time taken 32.56 s.\n",
      "Finished at 2018-03-09 13:56:37.\n"
     ]
    }
   ],
   "source": [
    "query = \"SELECT * FROM {}\".format(bq_table_comments)\n",
    "comments = gbq.read_gbq(query, project_id=PROJECT_ID, private_key=PRIVATE_KEY)"
   ]
  },
  {
   "cell_type": "code",
   "execution_count": 15,
   "metadata": {
    "scrolled": true
   },
   "outputs": [
    {
     "data": {
      "text/plain": [
       "(94854, 10)"
      ]
     },
     "execution_count": 15,
     "metadata": {},
     "output_type": "execute_result"
    }
   ],
   "source": [
    "comments.shape"
   ]
  },
  {
   "cell_type": "code",
   "execution_count": 175,
   "metadata": {
    "scrolled": true
   },
   "outputs": [
    {
     "name": "stdout",
     "output_type": "stream",
     "text": [
      "Requesting query... ok.\n",
      "Job ID: job_gPJM1kXbn2mdZhJiSY8wMvigyg9l\n",
      "Query running...\n",
      "Query done.\n",
      "Cache hit.\n",
      "\n",
      "Retrieving results...\n",
      "  Got page: 2; 100% done. Elapsed 7.91 s.\n",
      "Got 20939 rows.\n",
      "\n",
      "Total time taken 8.76 s.\n",
      "Finished at 2018-03-09 15:58:16.\n"
     ]
    }
   ],
   "source": [
    "query_restaurants = \"SELECT info.*, reviews.*, tags FROM {}\".format(bq_table_restaurants)\n",
    "restaurants = (\n",
    "    gbq\n",
    "    .read_gbq(query_restaurants, project_id=PROJECT_ID, private_key=PRIVATE_KEY)\n",
    "    .set_index('info_id')\n",
    ")   "
   ]
  },
  {
   "cell_type": "code",
   "execution_count": 176,
   "metadata": {
    "scrolled": true
   },
   "outputs": [
    {
     "data": {
      "text/plain": [
       "(20939, 24)"
      ]
     },
     "execution_count": 176,
     "metadata": {},
     "output_type": "execute_result"
    }
   ],
   "source": [
    "restaurants.shape"
   ]
  },
  {
   "cell_type": "markdown",
   "metadata": {},
   "source": [
    "## Merge duplicated restaurants (one row for each tag)"
   ]
  },
  {
   "cell_type": "code",
   "execution_count": 178,
   "metadata": {
    "scrolled": true
   },
   "outputs": [
    {
     "data": {
      "text/plain": [
       "2827"
      ]
     },
     "execution_count": 178,
     "metadata": {},
     "output_type": "execute_result"
    }
   ],
   "source": [
    "len(\n",
    "    restaurants\n",
    "    .groupby([x for x in restaurants.columns if x != 'tags'])\n",
    ")"
   ]
  },
  {
   "cell_type": "code",
   "execution_count": 139,
   "metadata": {},
   "outputs": [
    {
     "data": {
      "text/html": [
       "<div>\n",
       "<style scoped>\n",
       "    .dataframe tbody tr th:only-of-type {\n",
       "        vertical-align: middle;\n",
       "    }\n",
       "\n",
       "    .dataframe tbody tr th {\n",
       "        vertical-align: top;\n",
       "    }\n",
       "\n",
       "    .dataframe thead th {\n",
       "        text-align: right;\n",
       "    }\n",
       "</style>\n",
       "<table border=\"1\" class=\"dataframe\">\n",
       "  <thead>\n",
       "    <tr style=\"text-align: right;\">\n",
       "      <th></th>\n",
       "      <th>info_avg_price</th>\n",
       "      <th>info_city</th>\n",
       "      <th>info_country</th>\n",
       "      <th>info_house_number</th>\n",
       "      <th>info_id</th>\n",
       "      <th>info_lat</th>\n",
       "      <th>info_lon</th>\n",
       "      <th>info_name</th>\n",
       "      <th>info_postal_code</th>\n",
       "      <th>info_street</th>\n",
       "      <th>...</th>\n",
       "      <th>reviews_nr_8ratings</th>\n",
       "      <th>reviews_nr_9ratings</th>\n",
       "      <th>reviews_nr_ratings</th>\n",
       "      <th>reviews_price_quality</th>\n",
       "      <th>reviews_rating_decor</th>\n",
       "      <th>reviews_rating_food</th>\n",
       "      <th>reviews_rating_service</th>\n",
       "      <th>reviews_rating</th>\n",
       "      <th>reviews_waiting_time</th>\n",
       "      <th>tags</th>\n",
       "    </tr>\n",
       "  </thead>\n",
       "  <tbody>\n",
       "    <tr>\n",
       "      <th>14501</th>\n",
       "      <td>-1</td>\n",
       "      <td>Amsterdam</td>\n",
       "      <td>Nederland</td>\n",
       "      <td>2</td>\n",
       "      <td>324947</td>\n",
       "      <td>52.338247</td>\n",
       "      <td>4.920366</td>\n",
       "      <td>JUNIPER &amp; KIN</td>\n",
       "      <td>1096GG</td>\n",
       "      <td>Amstelvlietstraat</td>\n",
       "      <td>...</td>\n",
       "      <td>-1</td>\n",
       "      <td>-1</td>\n",
       "      <td>-1</td>\n",
       "      <td>None</td>\n",
       "      <td>-1.0</td>\n",
       "      <td>-1.0</td>\n",
       "      <td>-1.0</td>\n",
       "      <td>-1.0</td>\n",
       "      <td>None</td>\n",
       "      <td>None</td>\n",
       "    </tr>\n",
       "  </tbody>\n",
       "</table>\n",
       "<p>1 rows × 25 columns</p>\n",
       "</div>"
      ],
      "text/plain": [
       "       info_avg_price  info_city info_country info_house_number  info_id  \\\n",
       "14501              -1  Amsterdam    Nederland                 2   324947   \n",
       "\n",
       "        info_lat  info_lon      info_name info_postal_code        info_street  \\\n",
       "14501  52.338247  4.920366  JUNIPER & KIN           1096GG  Amstelvlietstraat   \n",
       "\n",
       "       ...  reviews_nr_8ratings reviews_nr_9ratings  reviews_nr_ratings  \\\n",
       "14501  ...                   -1                  -1                  -1   \n",
       "\n",
       "       reviews_price_quality  reviews_rating_decor  reviews_rating_food  \\\n",
       "14501                   None                  -1.0                 -1.0   \n",
       "\n",
       "       reviews_rating_service  reviews_rating reviews_waiting_time  tags  \n",
       "14501                    -1.0            -1.0                 None  None  \n",
       "\n",
       "[1 rows x 25 columns]"
      ]
     },
     "execution_count": 139,
     "metadata": {},
     "output_type": "execute_result"
    }
   ],
   "source": [
    "restaurants.loc[lambda r: r['tags'].isnull()]"
   ]
  },
  {
   "cell_type": "code",
   "execution_count": 179,
   "metadata": {},
   "outputs": [],
   "source": [
    "def makelist(x):\n",
    "    return list(x)"
   ]
  },
  {
   "cell_type": "code",
   "execution_count": 181,
   "metadata": {
    "scrolled": false
   },
   "outputs": [],
   "source": [
    "tag_list = (\n",
    "    restaurants\n",
    "    .groupby('info_id')\n",
    "    .agg({'tags': makelist})\n",
    ")"
   ]
  },
  {
   "cell_type": "code",
   "execution_count": 210,
   "metadata": {},
   "outputs": [],
   "source": [
    "elastic_tag_ids = (\n",
    "    pd.read_csv('../data/elasticsearch_burger_tags.csv', header=None)\n",
    "    .iloc[:,0]\n",
    ")"
   ]
  },
  {
   "cell_type": "code",
   "execution_count": 213,
   "metadata": {},
   "outputs": [],
   "source": [
    "image_tag_ids = (\n",
    "    pd.read_csv('../data/image_tags.csv', header=None)\n",
    "    .iloc[:,0]\n",
    ")"
   ]
  },
  {
   "cell_type": "code",
   "execution_count": 219,
   "metadata": {},
   "outputs": [],
   "source": [
    "existing_tag_ids = (\n",
    "    restaurants\n",
    "    .loc[lambda r: r['tags'] == 'Hamburger']\n",
    "    .index\n",
    ")"
   ]
  },
  {
   "cell_type": "code",
   "execution_count": 220,
   "metadata": {},
   "outputs": [],
   "source": [
    "restaurants_dedup = (\n",
    "    restaurants\n",
    "    .drop('tags', axis=1)\n",
    "    .drop_duplicates()\n",
    "    .assign(tags=tag_list)\n",
    "#     .assign(existing=lambda x: x['tags'].apply(lambda r: 'Hamburger' in r))\n",
    "    .assign(existing=lambda x: x.index.isin(existing_tag_ids))\n",
    "    .assign(elastic=lambda x: x.index.isin(elastic_tag_ids))\n",
    "    .assign(image=lambda x: x.index.isin(image_tag_ids))\n",
    ")"
   ]
  },
  {
   "cell_type": "markdown",
   "metadata": {},
   "source": [
    "# Top 5 for existing tags"
   ]
  },
  {
   "cell_type": "code",
   "execution_count": 222,
   "metadata": {
    "scrolled": true
   },
   "outputs": [
    {
     "data": {
      "text/html": [
       "<div>\n",
       "<style scoped>\n",
       "    .dataframe tbody tr th:only-of-type {\n",
       "        vertical-align: middle;\n",
       "    }\n",
       "\n",
       "    .dataframe tbody tr th {\n",
       "        vertical-align: top;\n",
       "    }\n",
       "\n",
       "    .dataframe thead th {\n",
       "        text-align: right;\n",
       "    }\n",
       "</style>\n",
       "<table border=\"1\" class=\"dataframe\">\n",
       "  <thead>\n",
       "    <tr style=\"text-align: right;\">\n",
       "      <th></th>\n",
       "      <th>Name</th>\n",
       "      <th>Food rating</th>\n",
       "      <th>Noise level</th>\n",
       "      <th>Price quality</th>\n",
       "      <th>Waiting time</th>\n",
       "    </tr>\n",
       "    <tr>\n",
       "      <th>info_id</th>\n",
       "      <th></th>\n",
       "      <th></th>\n",
       "      <th></th>\n",
       "      <th></th>\n",
       "      <th></th>\n",
       "    </tr>\n",
       "  </thead>\n",
       "  <tbody>\n",
       "    <tr>\n",
       "      <th>236113</th>\n",
       "      <td>café Wilskracht</td>\n",
       "      <td>8.6</td>\n",
       "      <td>Rumoerig</td>\n",
       "      <td>Gunstig</td>\n",
       "      <td>Redelijk</td>\n",
       "    </tr>\n",
       "    <tr>\n",
       "      <th>259191</th>\n",
       "      <td>Taproom</td>\n",
       "      <td>8.5</td>\n",
       "      <td>Precies goed</td>\n",
       "      <td>Gunstig</td>\n",
       "      <td>Kort</td>\n",
       "    </tr>\n",
       "    <tr>\n",
       "      <th>239743</th>\n",
       "      <td>Bistro Bij ons</td>\n",
       "      <td>8.4</td>\n",
       "      <td>Precies goed</td>\n",
       "      <td>Redelijk</td>\n",
       "      <td>Redelijk</td>\n",
       "    </tr>\n",
       "    <tr>\n",
       "      <th>241511</th>\n",
       "      <td>Burgermeester (Elandsgracht)</td>\n",
       "      <td>8.4</td>\n",
       "      <td>None</td>\n",
       "      <td>None</td>\n",
       "      <td>None</td>\n",
       "    </tr>\n",
       "    <tr>\n",
       "      <th>257669</th>\n",
       "      <td>Jack Dish</td>\n",
       "      <td>8.2</td>\n",
       "      <td>Precies goed</td>\n",
       "      <td>Redelijk</td>\n",
       "      <td>Kort</td>\n",
       "    </tr>\n",
       "  </tbody>\n",
       "</table>\n",
       "</div>"
      ],
      "text/plain": [
       "                                 Name  Food rating   Noise level  \\\n",
       "info_id                                                            \n",
       "236113                café Wilskracht          8.6      Rumoerig   \n",
       "259191                        Taproom          8.5  Precies goed   \n",
       "239743                 Bistro Bij ons          8.4  Precies goed   \n",
       "241511   Burgermeester (Elandsgracht)          8.4          None   \n",
       "257669                      Jack Dish          8.2  Precies goed   \n",
       "\n",
       "        Price quality Waiting time  \n",
       "info_id                             \n",
       "236113        Gunstig     Redelijk  \n",
       "259191        Gunstig         Kort  \n",
       "239743       Redelijk     Redelijk  \n",
       "241511           None         None  \n",
       "257669       Redelijk         Kort  "
      ]
     },
     "execution_count": 222,
     "metadata": {},
     "output_type": "execute_result"
    }
   ],
   "source": [
    "(\n",
    "    restaurants_dedup\n",
    "    .loc[lambda r: r['existing']]\n",
    "    .sort_values('reviews_rating_food', ascending=False)\n",
    "    .head()\n",
    "    [['info_name', 'reviews_rating_food', 'reviews_noise_level','reviews_price_quality', 'reviews_waiting_time']]\n",
    "    .rename(columns={'info_name': 'Name', \n",
    "                     'reviews_rating_food': 'Food rating',\n",
    "                     'reviews_price_quality': 'Price quality',\n",
    "                     'reviews_noise_level': 'Noise level',\n",
    "                     'reviews_waiting_time': 'Waiting time'})\n",
    ")"
   ]
  },
  {
   "cell_type": "markdown",
   "metadata": {},
   "source": [
    "# Elasticsearch tags"
   ]
  },
  {
   "cell_type": "code",
   "execution_count": 223,
   "metadata": {
    "scrolled": false
   },
   "outputs": [
    {
     "data": {
      "text/html": [
       "<div>\n",
       "<style scoped>\n",
       "    .dataframe tbody tr th:only-of-type {\n",
       "        vertical-align: middle;\n",
       "    }\n",
       "\n",
       "    .dataframe tbody tr th {\n",
       "        vertical-align: top;\n",
       "    }\n",
       "\n",
       "    .dataframe thead th {\n",
       "        text-align: right;\n",
       "    }\n",
       "</style>\n",
       "<table border=\"1\" class=\"dataframe\">\n",
       "  <thead>\n",
       "    <tr style=\"text-align: right;\">\n",
       "      <th></th>\n",
       "      <th>Name</th>\n",
       "      <th>Food rating</th>\n",
       "      <th>Noise level</th>\n",
       "      <th>Price quality</th>\n",
       "      <th>Waiting time</th>\n",
       "    </tr>\n",
       "    <tr>\n",
       "      <th>info_id</th>\n",
       "      <th></th>\n",
       "      <th></th>\n",
       "      <th></th>\n",
       "      <th></th>\n",
       "      <th></th>\n",
       "    </tr>\n",
       "  </thead>\n",
       "  <tbody>\n",
       "    <tr>\n",
       "      <th>256103</th>\n",
       "      <td>Bistrot des Alpes</td>\n",
       "      <td>9.4</td>\n",
       "      <td>Precies goed</td>\n",
       "      <td>Gunstig</td>\n",
       "      <td>Kort</td>\n",
       "    </tr>\n",
       "    <tr>\n",
       "      <th>252619</th>\n",
       "      <td>Ku Kitchen &amp; Bar</td>\n",
       "      <td>9.2</td>\n",
       "      <td>Rumoerig</td>\n",
       "      <td>Redelijk</td>\n",
       "      <td>Kort</td>\n",
       "    </tr>\n",
       "    <tr>\n",
       "      <th>256869</th>\n",
       "      <td>Paskamer</td>\n",
       "      <td>9.2</td>\n",
       "      <td>Precies goed</td>\n",
       "      <td>Gunstig</td>\n",
       "      <td>Kort</td>\n",
       "    </tr>\n",
       "    <tr>\n",
       "      <th>258389</th>\n",
       "      <td>Restaurant C</td>\n",
       "      <td>9.2</td>\n",
       "      <td>Precies goed</td>\n",
       "      <td>Redelijk</td>\n",
       "      <td>Kort</td>\n",
       "    </tr>\n",
       "    <tr>\n",
       "      <th>252755</th>\n",
       "      <td>DopHert</td>\n",
       "      <td>9.1</td>\n",
       "      <td>Rustig</td>\n",
       "      <td>Gunstig</td>\n",
       "      <td>Kort</td>\n",
       "    </tr>\n",
       "  </tbody>\n",
       "</table>\n",
       "</div>"
      ],
      "text/plain": [
       "                      Name  Food rating   Noise level Price quality  \\\n",
       "info_id                                                               \n",
       "256103   Bistrot des Alpes          9.4  Precies goed       Gunstig   \n",
       "252619    Ku Kitchen & Bar          9.2      Rumoerig      Redelijk   \n",
       "256869            Paskamer          9.2  Precies goed       Gunstig   \n",
       "258389        Restaurant C          9.2  Precies goed      Redelijk   \n",
       "252755             DopHert          9.1        Rustig       Gunstig   \n",
       "\n",
       "        Waiting time  \n",
       "info_id               \n",
       "256103          Kort  \n",
       "252619          Kort  \n",
       "256869          Kort  \n",
       "258389          Kort  \n",
       "252755          Kort  "
      ]
     },
     "execution_count": 223,
     "metadata": {},
     "output_type": "execute_result"
    }
   ],
   "source": [
    "(\n",
    "    restaurants_dedup\n",
    "    .loc[lambda r: r['elastic']]\n",
    "    .sort_values('reviews_rating_food', ascending=False)\n",
    "    .head()\n",
    "    [['info_name', 'reviews_rating_food', 'reviews_noise_level','reviews_price_quality', 'reviews_waiting_time']]\n",
    "    .rename(columns={'info_name': 'Name', \n",
    "                     'reviews_rating_food': 'Food rating',\n",
    "                     'reviews_price_quality': 'Price quality',\n",
    "                     'reviews_noise_level': 'Noise level',\n",
    "                     'reviews_waiting_time': 'Waiting time'})\n",
    ")"
   ]
  },
  {
   "cell_type": "markdown",
   "metadata": {},
   "source": [
    "# Image search tags"
   ]
  },
  {
   "cell_type": "code",
   "execution_count": 224,
   "metadata": {
    "scrolled": false
   },
   "outputs": [
    {
     "data": {
      "text/html": [
       "<div>\n",
       "<style scoped>\n",
       "    .dataframe tbody tr th:only-of-type {\n",
       "        vertical-align: middle;\n",
       "    }\n",
       "\n",
       "    .dataframe tbody tr th {\n",
       "        vertical-align: top;\n",
       "    }\n",
       "\n",
       "    .dataframe thead th {\n",
       "        text-align: right;\n",
       "    }\n",
       "</style>\n",
       "<table border=\"1\" class=\"dataframe\">\n",
       "  <thead>\n",
       "    <tr style=\"text-align: right;\">\n",
       "      <th></th>\n",
       "      <th>Name</th>\n",
       "      <th>Food rating</th>\n",
       "      <th>Noise level</th>\n",
       "      <th>Price quality</th>\n",
       "      <th>Waiting time</th>\n",
       "    </tr>\n",
       "    <tr>\n",
       "      <th>info_id</th>\n",
       "      <th></th>\n",
       "      <th></th>\n",
       "      <th></th>\n",
       "      <th></th>\n",
       "      <th></th>\n",
       "    </tr>\n",
       "  </thead>\n",
       "  <tbody>\n",
       "    <tr>\n",
       "      <th>221081</th>\n",
       "      <td>De Oranjerie</td>\n",
       "      <td>9.4</td>\n",
       "      <td>Rustig</td>\n",
       "      <td>Gunstig</td>\n",
       "      <td>Kort</td>\n",
       "    </tr>\n",
       "    <tr>\n",
       "      <th>349537</th>\n",
       "      <td>Tuin van Zuid</td>\n",
       "      <td>9.1</td>\n",
       "      <td>Rustig</td>\n",
       "      <td>Erg gunstig</td>\n",
       "      <td>Redelijk</td>\n",
       "    </tr>\n",
       "    <tr>\n",
       "      <th>261591</th>\n",
       "      <td>Amstel Brasserie</td>\n",
       "      <td>9.0</td>\n",
       "      <td>Rustig</td>\n",
       "      <td>Gunstig</td>\n",
       "      <td>Kort</td>\n",
       "    </tr>\n",
       "    <tr>\n",
       "      <th>267687</th>\n",
       "      <td>De Kleine Kaart</td>\n",
       "      <td>9.0</td>\n",
       "      <td>Precies goed</td>\n",
       "      <td>Gunstig</td>\n",
       "      <td>Kort</td>\n",
       "    </tr>\n",
       "    <tr>\n",
       "      <th>243935</th>\n",
       "      <td>Bistrot Neuf</td>\n",
       "      <td>8.9</td>\n",
       "      <td>Precies goed</td>\n",
       "      <td>Gunstig</td>\n",
       "      <td>Kort</td>\n",
       "    </tr>\n",
       "  </tbody>\n",
       "</table>\n",
       "</div>"
      ],
      "text/plain": [
       "                     Name  Food rating   Noise level Price quality  \\\n",
       "info_id                                                              \n",
       "221081       De Oranjerie          9.4        Rustig       Gunstig   \n",
       "349537      Tuin van Zuid          9.1        Rustig   Erg gunstig   \n",
       "261591   Amstel Brasserie          9.0        Rustig       Gunstig   \n",
       "267687    De Kleine Kaart          9.0  Precies goed       Gunstig   \n",
       "243935       Bistrot Neuf          8.9  Precies goed       Gunstig   \n",
       "\n",
       "        Waiting time  \n",
       "info_id               \n",
       "221081          Kort  \n",
       "349537      Redelijk  \n",
       "261591          Kort  \n",
       "267687          Kort  \n",
       "243935          Kort  "
      ]
     },
     "execution_count": 224,
     "metadata": {},
     "output_type": "execute_result"
    }
   ],
   "source": [
    "(\n",
    "    restaurants_dedup\n",
    "    .loc[lambda r: r['image']]\n",
    "    .sort_values('reviews_rating_food', ascending=False)\n",
    "    .head()\n",
    "    [['info_name', 'reviews_rating_food', 'reviews_noise_level','reviews_price_quality', 'reviews_waiting_time']]\n",
    "    .rename(columns={'info_name': 'Name', \n",
    "                     'reviews_rating_food': 'Food rating',\n",
    "                     'reviews_price_quality': 'Price quality',\n",
    "                     'reviews_noise_level': 'Noise level',\n",
    "                     'reviews_waiting_time': 'Waiting time'})\n",
    ")"
   ]
  },
  {
   "cell_type": "markdown",
   "metadata": {},
   "source": [
    "# Venn diagram"
   ]
  },
  {
   "cell_type": "code",
   "execution_count": 225,
   "metadata": {
    "scrolled": false
   },
   "outputs": [
    {
     "data": {
      "text/plain": [
       "Text(0.5,1,'Different sources for hamburger tags')"
      ]
     },
     "execution_count": 225,
     "metadata": {},
     "output_type": "execute_result"
    },
    {
     "data": {
      "image/png": "[encoded data removed]",
      "text/plain": [
       "<matplotlib.figure.Figure at 0x1a117ef320>"
      ]
     },
     "metadata": {},
     "output_type": "display_data"
    }
   ],
   "source": [
    "from matplotlib_venn import venn3\n",
    "venn3([set(existing_tag_ids), set(elastic_tag_ids), set(image_tag_ids)], \n",
    "      set_labels = ('Existing tags', 'Elasticsearch tags', 'Image tags'))\n",
    "plt.title(\"Different sources for hamburger tags\", fontsize=16)"
   ]
  },
  {
   "cell_type": "code",
   "execution_count": 226,
   "metadata": {},
   "outputs": [
    {
     "data": {
      "text/html": [
       "<div>\n",
       "<style scoped>\n",
       "    .dataframe tbody tr th:only-of-type {\n",
       "        vertical-align: middle;\n",
       "    }\n",
       "\n",
       "    .dataframe tbody tr th {\n",
       "        vertical-align: top;\n",
       "    }\n",
       "\n",
       "    .dataframe thead th {\n",
       "        text-align: right;\n",
       "    }\n",
       "</style>\n",
       "<table border=\"1\" class=\"dataframe\">\n",
       "  <thead>\n",
       "    <tr style=\"text-align: right;\">\n",
       "      <th></th>\n",
       "      <th>info_avg_price</th>\n",
       "      <th>info_city</th>\n",
       "      <th>info_country</th>\n",
       "      <th>info_house_number</th>\n",
       "      <th>info_lat</th>\n",
       "      <th>info_lon</th>\n",
       "      <th>info_name</th>\n",
       "      <th>info_postal_code</th>\n",
       "      <th>info_street</th>\n",
       "      <th>reviews_distinction</th>\n",
       "      <th>...</th>\n",
       "      <th>reviews_price_quality</th>\n",
       "      <th>reviews_rating_decor</th>\n",
       "      <th>reviews_rating_food</th>\n",
       "      <th>reviews_rating_service</th>\n",
       "      <th>reviews_rating</th>\n",
       "      <th>reviews_waiting_time</th>\n",
       "      <th>tags</th>\n",
       "      <th>existing</th>\n",
       "      <th>elastic</th>\n",
       "      <th>image</th>\n",
       "    </tr>\n",
       "    <tr>\n",
       "      <th>info_id</th>\n",
       "      <th></th>\n",
       "      <th></th>\n",
       "      <th></th>\n",
       "      <th></th>\n",
       "      <th></th>\n",
       "      <th></th>\n",
       "      <th></th>\n",
       "      <th></th>\n",
       "      <th></th>\n",
       "      <th></th>\n",
       "      <th></th>\n",
       "      <th></th>\n",
       "      <th></th>\n",
       "      <th></th>\n",
       "      <th></th>\n",
       "      <th></th>\n",
       "      <th></th>\n",
       "      <th></th>\n",
       "      <th></th>\n",
       "      <th></th>\n",
       "      <th></th>\n",
       "    </tr>\n",
       "  </thead>\n",
       "  <tbody>\n",
       "    <tr>\n",
       "      <th>259191</th>\n",
       "      <td>25</td>\n",
       "      <td>Amsterdam</td>\n",
       "      <td>Nederland</td>\n",
       "      <td>Vijzelstraat</td>\n",
       "      <td>52.359863</td>\n",
       "      <td>4.89126</td>\n",
       "      <td>Taproom</td>\n",
       "      <td>1017 HT</td>\n",
       "      <td>Nieuwe</td>\n",
       "      <td>Fantastisch</td>\n",
       "      <td>...</td>\n",
       "      <td>Gunstig</td>\n",
       "      <td>8.3</td>\n",
       "      <td>8.5</td>\n",
       "      <td>8.9</td>\n",
       "      <td>8.5</td>\n",
       "      <td>Kort</td>\n",
       "      <td>[BBQ/grill, Terras, Romantisch, Aan het water,...</td>\n",
       "      <td>True</td>\n",
       "      <td>True</td>\n",
       "      <td>True</td>\n",
       "    </tr>\n",
       "  </tbody>\n",
       "</table>\n",
       "<p>1 rows × 27 columns</p>\n",
       "</div>"
      ],
      "text/plain": [
       "         info_avg_price  info_city info_country info_house_number   info_lat  \\\n",
       "info_id                                                                        \n",
       "259191               25  Amsterdam    Nederland      Vijzelstraat  52.359863   \n",
       "\n",
       "         info_lon info_name info_postal_code info_street reviews_distinction  \\\n",
       "info_id                                                                        \n",
       "259191    4.89126   Taproom          1017 HT      Nieuwe         Fantastisch   \n",
       "\n",
       "         ...   reviews_price_quality  reviews_rating_decor  \\\n",
       "info_id  ...                                                 \n",
       "259191   ...                 Gunstig                   8.3   \n",
       "\n",
       "         reviews_rating_food  reviews_rating_service  reviews_rating  \\\n",
       "info_id                                                                \n",
       "259191                   8.5                     8.9             8.5   \n",
       "\n",
       "         reviews_waiting_time  \\\n",
       "info_id                         \n",
       "259191                   Kort   \n",
       "\n",
       "                                                      tags existing  elastic  \\\n",
       "info_id                                                                        \n",
       "259191   [BBQ/grill, Terras, Romantisch, Aan het water,...     True     True   \n",
       "\n",
       "         image  \n",
       "info_id         \n",
       "259191    True  \n",
       "\n",
       "[1 rows x 27 columns]"
      ]
     },
     "execution_count": 226,
     "metadata": {},
     "output_type": "execute_result"
    }
   ],
   "source": [
    "(\n",
    "    restaurants_dedup\n",
    "    .loc[lambda r: r['image'] & r['elastic'] & r['existing']]\n",
    ")"
   ]
  },
  {
   "cell_type": "markdown",
   "metadata": {},
   "source": [
    "# Plot on map"
   ]
  },
  {
   "cell_type": "code",
   "execution_count": 246,
   "metadata": {},
   "outputs": [],
   "source": [
    "import collections\n",
    "Coords = collections.namedtuple('Coordinates', 'lat lon')\n",
    "coords_gdd = Coords(lat=52.352379, lon=4.912933)"
   ]
  },
  {
   "cell_type": "code",
   "execution_count": 247,
   "metadata": {},
   "outputs": [],
   "source": [
    "import geopy.distance\n",
    "import folium\n",
    "from folium.features import DivIcon"
   ]
  },
  {
   "cell_type": "code",
   "execution_count": 269,
   "metadata": {},
   "outputs": [],
   "source": [
    "def plot_map(df, coords_center, range_in_km=1, min_rating=8, zoom_start=15):\n",
    "    m = folium.Map(location=list(coords_center), zoom_start=zoom_start)\n",
    "\n",
    "    for idx, row in df.iterrows():\n",
    "        if row['reviews_rating_food'] < min_rating:\n",
    "            continue\n",
    "        if geopy.distance.vincenty(coords_center, (row['info_lat'], row['info_lon'])).km > range_in_km:\n",
    "            continue\n",
    "        for tag_type, color in zip(['existing', 'elastic', 'image'], ['#DDB997', '#99C799', '#99B7DA']):\n",
    "            if row[tag_type]:\n",
    "                folium.map.Marker([row['info_lat'], row['info_lon']], \n",
    "                                  icon=DivIcon(html=f'<div title=\"{row.info_name}\", style=\"font-size: 15pt; display: inline-block; background-color: white; border-width: thick; border-style: solid; border-color:{color}\";>{row.reviews_rating_food}</div>')\n",
    "                                 ).add_to(m)\n",
    "\n",
    "    folium.map.Marker(\n",
    "        list(coords_center),\n",
    "        icon=DivIcon(\n",
    "            html='<div style=\"font-size: 15pt; display: inline-block; background-color:#5DBCD2; color:white; border-width: thin; border-style: solid; border-color:#5DBCD2\"> GDD </div>',\n",
    "            )\n",
    "        ).add_to(m)\n",
    "    return m"
   ]
  },
  {
   "cell_type": "code",
   "execution_count": 276,
   "metadata": {
    "scrolled": false
   },
   "outputs": [
    {
     "data": {
      "text/html": [
       "<div style=\"width:100%;\"><div style=\"position:relative;width:100%;height:0;padding-bottom:60%;\"><iframe src=\"data:text/html;charset=utf-8;base64,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\" style=\"position:absolute;width:100%;height:100%;left:0;top:0;border:none !important;\" allowfullscreen webkitallowfullscreen mozallowfullscreen></iframe></div></div>"
      ],
      "text/plain": [
       "<folium.folium.Map at 0x1a176b3080>"
      ]
     },
     "execution_count": 276,
     "metadata": {},
     "output_type": "execute_result"
    }
   ],
   "source": [
    "# Hoover over rating with mouse for restaurant name\n",
    "plot_map(restaurants_dedup, coords_gdd, range_in_km=5, min_rating=9)"
   ]
  },
  {
   "cell_type": "code",
   "execution_count": null,
   "metadata": {},
   "outputs": [],
   "source": []
  }
 ],
 "metadata": {
  "kernelspec": {
   "display_name": "Python 3",
   "language": "python",
   "name": "python3"
  },
  "language_info": {
   "codemirror_mode": {
    "name": "ipython",
    "version": 3
   },
   "file_extension": ".py",
   "mimetype": "text/x-python",
   "name": "python",
   "nbconvert_exporter": "python",
   "pygments_lexer": "ipython3",
   "version": "3.6.3"
  }
 },
 "nbformat": 4,
 "nbformat_minor": 2
}
