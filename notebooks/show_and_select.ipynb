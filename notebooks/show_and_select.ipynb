{
 "cells": [
  {
   "cell_type": "markdown",
   "metadata": {},
   "source": [
    "# Show restaurants and select the best one"
   ]
  },
  {
   "cell_type": "code",
   "execution_count": null,
   "metadata": {},
   "outputs": [],
   "source": [
    "import pandas as pd\n",
    "import numpy as np\n",
    "import seaborn as sns\n",
    "import matplotlib.pyplot as plt\n",
    "%matplotlib inline\n",
    "# hide warnings. `gbq.read_gbq()` gives some\n",
    "import warnings\n",
    "warnings.filterwarnings('ignore')\n",
    "\n",
    "import sys\n",
    "sys.path.append('../scrape_save_search')\n",
    "\n",
    "import load_data"
   ]
  },
  {
   "cell_type": "code",
   "execution_count": null,
   "metadata": {},
   "outputs": [],
   "source": [
    "comments = load_data.load_comments()"
   ]
  },
  {
   "cell_type": "code",
   "execution_count": null,
   "metadata": {
    "scrolled": false
   },
   "outputs": [],
   "source": [
    "restaurants, existing_tag_ids, elastic_tag_ids, image_tag_ids = load_data.load_restaurants()"
   ]
  },
  {
   "cell_type": "code",
   "execution_count": null,
   "metadata": {},
   "outputs": [],
   "source": [
    "restaurants.shape"
   ]
  },
  {
   "cell_type": "markdown",
   "metadata": {},
   "source": [
    "# Top 5 for existing tags"
   ]
  },
  {
   "cell_type": "code",
   "execution_count": null,
   "metadata": {
    "scrolled": true
   },
   "outputs": [],
   "source": [
    "(\n",
    "    restaurants\n",
    "    .loc[lambda r: r['existing']]\n",
    "    [['Name', 'Food rating', 'Price quality','Noise level', 'Waiting time']]\n",
    "    .head()\n",
    ")"
   ]
  },
  {
   "cell_type": "markdown",
   "metadata": {},
   "source": [
    "# Elasticsearch tags"
   ]
  },
  {
   "cell_type": "code",
   "execution_count": null,
   "metadata": {
    "scrolled": false
   },
   "outputs": [],
   "source": [
    "(\n",
    "    restaurants\n",
    "    .loc[lambda r: r['elastic']]\n",
    "    [['Name', 'Food rating', 'Price quality', 'Noise level', 'Waiting time']]\n",
    "    .head()\n",
    ")"
   ]
  },
  {
   "cell_type": "markdown",
   "metadata": {},
   "source": [
    "# Image search tags"
   ]
  },
  {
   "cell_type": "code",
   "execution_count": null,
   "metadata": {
    "scrolled": false
   },
   "outputs": [],
   "source": [
    "(\n",
    "    restaurants\n",
    "    .loc[lambda r: r['image']]\n",
    "    [['Name', 'Food rating', 'Price quality', 'Noise level', 'Waiting time']]\n",
    "    .head()\n",
    ")"
   ]
  },
  {
   "cell_type": "markdown",
   "metadata": {},
   "source": [
    "# Venn diagram"
   ]
  },
  {
   "cell_type": "code",
   "execution_count": null,
   "metadata": {
    "scrolled": false
   },
   "outputs": [],
   "source": [
    "from matplotlib_venn import venn3\n",
    "venn3([set(existing_tag_ids), set(elastic_tag_ids), set(image_tag_ids)], \n",
    "      set_labels = ('Existing tags', 'Elasticsearch tags', 'Image tags'))\n",
    "plt.title(\"Different sources for hamburger tags\", fontsize=16);"
   ]
  },
  {
   "cell_type": "code",
   "execution_count": null,
   "metadata": {},
   "outputs": [],
   "source": [
    "(\n",
    "    restaurants\n",
    "    .loc[lambda r: r['image'] & r['elastic'] & r['existing']]\n",
    ")"
   ]
  },
  {
   "cell_type": "markdown",
   "metadata": {},
   "source": [
    "# Plot on map"
   ]
  },
  {
   "cell_type": "code",
   "execution_count": null,
   "metadata": {},
   "outputs": [],
   "source": [
    "import collections\n",
    "Coords = collections.namedtuple('Coordinates', 'lat lon')\n",
    "coords_gdd = Coords(lat=52.352379, lon=4.912933)"
   ]
  },
  {
   "cell_type": "code",
   "execution_count": null,
   "metadata": {},
   "outputs": [],
   "source": [
    "import geopy.distance\n",
    "import folium\n",
    "from folium.features import DivIcon"
   ]
  },
  {
   "cell_type": "code",
   "execution_count": null,
   "metadata": {},
   "outputs": [],
   "source": [
    "def plot_map(df, coords_center, range_in_km=1, min_rating=8, zoom_start=15):\n",
    "    m = folium.Map(location=list(coords_center), zoom_start=zoom_start)\n",
    "    df = df.rename(columns={'Food rating': 'Food_rating'})\n",
    "    for idx, row in df.iterrows():\n",
    "        if row['Food_rating'] < min_rating:\n",
    "            continue\n",
    "        if geopy.distance.vincenty(coords_center, (row['info_lat'], row['info_lon'])).km > range_in_km:\n",
    "            continue\n",
    "        for tag_type, color in zip(['existing', 'elastic', 'image'], ['#DDB997', '#99C799', '#99B7DA']):\n",
    "            if row[tag_type]:\n",
    "                folium.map.Marker([row['info_lat'], row['info_lon']], \n",
    "                                  icon=DivIcon(html=f'<div title=\"{row.Name}\", style=\"font-size: 15pt; display: inline-block; background-color: white; border-style: solid; padding:2px; border-color:{color}\";>{row.Food_rating}</div>')\n",
    "                                 ).add_to(m)\n",
    "\n",
    "    folium.map.Marker(\n",
    "        list(coords_center),\n",
    "        icon=DivIcon(\n",
    "            html='<div style=\"font-size: 15pt; display: inline-block; background-color:#5DBCD2; color:white;  border-style: solid; border-color:#5DBCD2\"> GDD </div>',\n",
    "            )\n",
    "        ).add_to(m)\n",
    "    return m"
   ]
  },
  {
   "cell_type": "code",
   "execution_count": null,
   "metadata": {
    "scrolled": false
   },
   "outputs": [],
   "source": [
    "# Hoover over rating with mouse for restaurant name\n",
    "plot_map(restaurants, coords_gdd, range_in_km=5, min_rating=9)"
   ]
  },
  {
   "cell_type": "code",
   "execution_count": null,
   "metadata": {},
   "outputs": [],
   "source": []
  }
 ],
 "metadata": {
  "kernelspec": {
   "display_name": "Python 3",
   "language": "python",
   "name": "python3"
  },
  "language_info": {
   "codemirror_mode": {
    "name": "ipython",
    "version": 3
   },
   "file_extension": ".py",
   "mimetype": "text/x-python",
   "name": "python",
   "nbconvert_exporter": "python",
   "pygments_lexer": "ipython3",
   "version": "3.6.3"
  }
 },
 "nbformat": 4,
 "nbformat_minor": 2
}
