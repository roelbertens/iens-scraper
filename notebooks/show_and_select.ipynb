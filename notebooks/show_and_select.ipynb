{
 "cells": [
  {
   "cell_type": "markdown",
   "metadata": {},
   "source": [
    "# Show restaurants and select the best one"
   ]
  },
  {
   "cell_type": "code",
   "execution_count": 1,
   "metadata": {},
   "outputs": [],
   "source": [
    "import pandas as pd\n",
    "import numpy as np\n",
    "import seaborn as sns\n",
    "import matplotlib.pyplot as plt\n",
    "%matplotlib inline\n",
    "# hide warnings. `gbq.read_gbq()` gives some\n",
    "import warnings\n",
    "warnings.filterwarnings('ignore')\n",
    "\n",
    "import sys\n",
    "sys.path.append('../scrape_save_search')\n",
    "\n",
    "import load_data"
   ]
  },
  {
   "cell_type": "code",
   "execution_count": 2,
   "metadata": {},
   "outputs": [
    {
     "name": "stdout",
     "output_type": "stream",
     "text": [
      "Requesting query... ok.\n",
      "Job ID: job_3e-Hq3pItK3z0HmbIPJeOiqChfBP\n",
      "Query running...\n",
      "Query done.\n",
      "Cache hit.\n",
      "\n",
      "Retrieving results...\n",
      "  Got page: 2; 42% done. Elapsed 11.08 s.\n",
      "  Got page: 3; 68% done. Elapsed 17.55 s.\n",
      "  Got page: 4; 86% done. Elapsed 23.33 s.\n",
      "  Got page: 5; 100% done. Elapsed 27.37 s.\n",
      "Got 94854 rows.\n",
      "\n",
      "Total time taken 28.98 s.\n",
      "Finished at 2018-03-19 22:02:47.\n"
     ]
    }
   ],
   "source": [
    "comments = load_data.load_comments()"
   ]
  },
  {
   "cell_type": "code",
   "execution_count": 3,
   "metadata": {
    "scrolled": false
   },
   "outputs": [
    {
     "name": "stdout",
     "output_type": "stream",
     "text": [
      "Requesting query... ok.\n",
      "Job ID: job_VqsO5sUZ_TNrUVH5NmReKfdpAdIq\n",
      "Query running...\n",
      "Query done.\n",
      "Cache hit.\n",
      "\n",
      "Retrieving results...\n",
      "  Got page: 2; 100% done. Elapsed 7.18 s.\n",
      "Got 20939 rows.\n",
      "\n",
      "Total time taken 7.99 s.\n",
      "Finished at 2018-03-19 22:02:55.\n"
     ]
    }
   ],
   "source": [
    "restaurants, existing_tag_ids, elastic_tag_ids, image_tag_ids = load_data.load_restaurants()"
   ]
  },
  {
   "cell_type": "code",
   "execution_count": 4,
   "metadata": {},
   "outputs": [
    {
     "data": {
      "text/plain": [
       "(2827, 26)"
      ]
     },
     "execution_count": 4,
     "metadata": {},
     "output_type": "execute_result"
    }
   ],
   "source": [
    "restaurants.shape"
   ]
  },
  {
   "cell_type": "markdown",
   "metadata": {},
   "source": [
    "# Top 5 for existing tags"
   ]
  },
  {
   "cell_type": "code",
   "execution_count": 5,
   "metadata": {
    "scrolled": true
   },
   "outputs": [
    {
     "data": {
      "text/html": [
       "<div>\n",
       "<style scoped>\n",
       "    .dataframe tbody tr th:only-of-type {\n",
       "        vertical-align: middle;\n",
       "    }\n",
       "\n",
       "    .dataframe tbody tr th {\n",
       "        vertical-align: top;\n",
       "    }\n",
       "\n",
       "    .dataframe thead th {\n",
       "        text-align: right;\n",
       "    }\n",
       "</style>\n",
       "<table border=\"1\" class=\"dataframe\">\n",
       "  <thead>\n",
       "    <tr style=\"text-align: right;\">\n",
       "      <th></th>\n",
       "      <th>Name</th>\n",
       "      <th>Food rating</th>\n",
       "      <th>Price quality</th>\n",
       "      <th>Noise level</th>\n",
       "      <th>Waiting time</th>\n",
       "    </tr>\n",
       "    <tr>\n",
       "      <th>info_id</th>\n",
       "      <th></th>\n",
       "      <th></th>\n",
       "      <th></th>\n",
       "      <th></th>\n",
       "      <th></th>\n",
       "    </tr>\n",
       "  </thead>\n",
       "  <tbody>\n",
       "    <tr>\n",
       "      <th>236113</th>\n",
       "      <td>café Wilskracht</td>\n",
       "      <td>8.6</td>\n",
       "      <td>Gunstig</td>\n",
       "      <td>Rumoerig</td>\n",
       "      <td>Redelijk</td>\n",
       "    </tr>\n",
       "    <tr>\n",
       "      <th>259191</th>\n",
       "      <td>Taproom</td>\n",
       "      <td>8.5</td>\n",
       "      <td>Gunstig</td>\n",
       "      <td>Precies goed</td>\n",
       "      <td>Kort</td>\n",
       "    </tr>\n",
       "    <tr>\n",
       "      <th>241511</th>\n",
       "      <td>Burgermeester (Elandsgracht)</td>\n",
       "      <td>8.4</td>\n",
       "      <td>None</td>\n",
       "      <td>None</td>\n",
       "      <td>None</td>\n",
       "    </tr>\n",
       "    <tr>\n",
       "      <th>239743</th>\n",
       "      <td>Bistro Bij ons</td>\n",
       "      <td>8.4</td>\n",
       "      <td>Redelijk</td>\n",
       "      <td>Precies goed</td>\n",
       "      <td>Redelijk</td>\n",
       "    </tr>\n",
       "    <tr>\n",
       "      <th>257669</th>\n",
       "      <td>Jack Dish</td>\n",
       "      <td>8.2</td>\n",
       "      <td>Redelijk</td>\n",
       "      <td>Precies goed</td>\n",
       "      <td>Kort</td>\n",
       "    </tr>\n",
       "  </tbody>\n",
       "</table>\n",
       "</div>"
      ],
      "text/plain": [
       "                                 Name  Food rating Price quality  \\\n",
       "info_id                                                            \n",
       "236113                café Wilskracht          8.6       Gunstig   \n",
       "259191                        Taproom          8.5       Gunstig   \n",
       "241511   Burgermeester (Elandsgracht)          8.4          None   \n",
       "239743                 Bistro Bij ons          8.4      Redelijk   \n",
       "257669                      Jack Dish          8.2      Redelijk   \n",
       "\n",
       "          Noise level Waiting time  \n",
       "info_id                             \n",
       "236113       Rumoerig     Redelijk  \n",
       "259191   Precies goed         Kort  \n",
       "241511           None         None  \n",
       "239743   Precies goed     Redelijk  \n",
       "257669   Precies goed         Kort  "
      ]
     },
     "execution_count": 5,
     "metadata": {},
     "output_type": "execute_result"
    }
   ],
   "source": [
    "(\n",
    "    restaurants\n",
    "    .loc[lambda r: r['existing']]\n",
    "    [['Name', 'Food rating', 'Price quality','Noise level', 'Waiting time']]\n",
    "    .head()\n",
    ")"
   ]
  },
  {
   "cell_type": "markdown",
   "metadata": {},
   "source": [
    "# Elasticsearch tags"
   ]
  },
  {
   "cell_type": "code",
   "execution_count": 6,
   "metadata": {
    "scrolled": false
   },
   "outputs": [
    {
     "data": {
      "text/html": [
       "<div>\n",
       "<style scoped>\n",
       "    .dataframe tbody tr th:only-of-type {\n",
       "        vertical-align: middle;\n",
       "    }\n",
       "\n",
       "    .dataframe tbody tr th {\n",
       "        vertical-align: top;\n",
       "    }\n",
       "\n",
       "    .dataframe thead th {\n",
       "        text-align: right;\n",
       "    }\n",
       "</style>\n",
       "<table border=\"1\" class=\"dataframe\">\n",
       "  <thead>\n",
       "    <tr style=\"text-align: right;\">\n",
       "      <th></th>\n",
       "      <th>Name</th>\n",
       "      <th>Food rating</th>\n",
       "      <th>Price quality</th>\n",
       "      <th>Noise level</th>\n",
       "      <th>Waiting time</th>\n",
       "    </tr>\n",
       "    <tr>\n",
       "      <th>info_id</th>\n",
       "      <th></th>\n",
       "      <th></th>\n",
       "      <th></th>\n",
       "      <th></th>\n",
       "      <th></th>\n",
       "    </tr>\n",
       "  </thead>\n",
       "  <tbody>\n",
       "    <tr>\n",
       "      <th>256103</th>\n",
       "      <td>Bistrot des Alpes</td>\n",
       "      <td>9.4</td>\n",
       "      <td>Gunstig</td>\n",
       "      <td>Precies goed</td>\n",
       "      <td>Kort</td>\n",
       "    </tr>\n",
       "    <tr>\n",
       "      <th>258389</th>\n",
       "      <td>Restaurant C</td>\n",
       "      <td>9.2</td>\n",
       "      <td>Redelijk</td>\n",
       "      <td>Precies goed</td>\n",
       "      <td>Kort</td>\n",
       "    </tr>\n",
       "    <tr>\n",
       "      <th>256869</th>\n",
       "      <td>Paskamer</td>\n",
       "      <td>9.2</td>\n",
       "      <td>Gunstig</td>\n",
       "      <td>Precies goed</td>\n",
       "      <td>Kort</td>\n",
       "    </tr>\n",
       "    <tr>\n",
       "      <th>252619</th>\n",
       "      <td>Ku Kitchen &amp; Bar</td>\n",
       "      <td>9.2</td>\n",
       "      <td>Redelijk</td>\n",
       "      <td>Rumoerig</td>\n",
       "      <td>Kort</td>\n",
       "    </tr>\n",
       "    <tr>\n",
       "      <th>248589</th>\n",
       "      <td>&amp;moshik</td>\n",
       "      <td>9.1</td>\n",
       "      <td>Redelijk</td>\n",
       "      <td>Precies goed</td>\n",
       "      <td>Kort</td>\n",
       "    </tr>\n",
       "  </tbody>\n",
       "</table>\n",
       "</div>"
      ],
      "text/plain": [
       "                      Name  Food rating Price quality   Noise level  \\\n",
       "info_id                                                               \n",
       "256103   Bistrot des Alpes          9.4       Gunstig  Precies goed   \n",
       "258389        Restaurant C          9.2      Redelijk  Precies goed   \n",
       "256869            Paskamer          9.2       Gunstig  Precies goed   \n",
       "252619    Ku Kitchen & Bar          9.2      Redelijk      Rumoerig   \n",
       "248589             &moshik          9.1      Redelijk  Precies goed   \n",
       "\n",
       "        Waiting time  \n",
       "info_id               \n",
       "256103          Kort  \n",
       "258389          Kort  \n",
       "256869          Kort  \n",
       "252619          Kort  \n",
       "248589          Kort  "
      ]
     },
     "execution_count": 6,
     "metadata": {},
     "output_type": "execute_result"
    }
   ],
   "source": [
    "(\n",
    "    restaurants\n",
    "    .loc[lambda r: r['elastic']]\n",
    "    [['Name', 'Food rating', 'Price quality', 'Noise level', 'Waiting time']]\n",
    "    .head()\n",
    ")"
   ]
  },
  {
   "cell_type": "markdown",
   "metadata": {},
   "source": [
    "# Image search tags"
   ]
  },
  {
   "cell_type": "code",
   "execution_count": 7,
   "metadata": {
    "scrolled": false
   },
   "outputs": [
    {
     "data": {
      "text/html": [
       "<div>\n",
       "<style scoped>\n",
       "    .dataframe tbody tr th:only-of-type {\n",
       "        vertical-align: middle;\n",
       "    }\n",
       "\n",
       "    .dataframe tbody tr th {\n",
       "        vertical-align: top;\n",
       "    }\n",
       "\n",
       "    .dataframe thead th {\n",
       "        text-align: right;\n",
       "    }\n",
       "</style>\n",
       "<table border=\"1\" class=\"dataframe\">\n",
       "  <thead>\n",
       "    <tr style=\"text-align: right;\">\n",
       "      <th></th>\n",
       "      <th>Name</th>\n",
       "      <th>Food rating</th>\n",
       "      <th>Price quality</th>\n",
       "      <th>Noise level</th>\n",
       "      <th>Waiting time</th>\n",
       "    </tr>\n",
       "    <tr>\n",
       "      <th>info_id</th>\n",
       "      <th></th>\n",
       "      <th></th>\n",
       "      <th></th>\n",
       "      <th></th>\n",
       "      <th></th>\n",
       "    </tr>\n",
       "  </thead>\n",
       "  <tbody>\n",
       "    <tr>\n",
       "      <th>221081</th>\n",
       "      <td>De Oranjerie</td>\n",
       "      <td>9.4</td>\n",
       "      <td>Gunstig</td>\n",
       "      <td>Rustig</td>\n",
       "      <td>Kort</td>\n",
       "    </tr>\n",
       "    <tr>\n",
       "      <th>349537</th>\n",
       "      <td>Tuin van Zuid</td>\n",
       "      <td>9.1</td>\n",
       "      <td>Erg gunstig</td>\n",
       "      <td>Rustig</td>\n",
       "      <td>Redelijk</td>\n",
       "    </tr>\n",
       "    <tr>\n",
       "      <th>261591</th>\n",
       "      <td>Amstel Brasserie</td>\n",
       "      <td>9.0</td>\n",
       "      <td>Gunstig</td>\n",
       "      <td>Rustig</td>\n",
       "      <td>Kort</td>\n",
       "    </tr>\n",
       "    <tr>\n",
       "      <th>267687</th>\n",
       "      <td>De Kleine Kaart</td>\n",
       "      <td>9.0</td>\n",
       "      <td>Gunstig</td>\n",
       "      <td>Precies goed</td>\n",
       "      <td>Kort</td>\n",
       "    </tr>\n",
       "    <tr>\n",
       "      <th>243935</th>\n",
       "      <td>Bistrot Neuf</td>\n",
       "      <td>8.9</td>\n",
       "      <td>Gunstig</td>\n",
       "      <td>Precies goed</td>\n",
       "      <td>Kort</td>\n",
       "    </tr>\n",
       "  </tbody>\n",
       "</table>\n",
       "</div>"
      ],
      "text/plain": [
       "                     Name  Food rating Price quality   Noise level  \\\n",
       "info_id                                                              \n",
       "221081       De Oranjerie          9.4       Gunstig        Rustig   \n",
       "349537      Tuin van Zuid          9.1   Erg gunstig        Rustig   \n",
       "261591   Amstel Brasserie          9.0       Gunstig        Rustig   \n",
       "267687    De Kleine Kaart          9.0       Gunstig  Precies goed   \n",
       "243935       Bistrot Neuf          8.9       Gunstig  Precies goed   \n",
       "\n",
       "        Waiting time  \n",
       "info_id               \n",
       "221081          Kort  \n",
       "349537      Redelijk  \n",
       "261591          Kort  \n",
       "267687          Kort  \n",
       "243935          Kort  "
      ]
     },
     "execution_count": 7,
     "metadata": {},
     "output_type": "execute_result"
    }
   ],
   "source": [
    "(\n",
    "    restaurants\n",
    "    .loc[lambda r: r['image']]\n",
    "    [['Name', 'Food rating', 'Price quality', 'Noise level', 'Waiting time']]\n",
    "    .head()\n",
    ")"
   ]
  },
  {
   "cell_type": "markdown",
   "metadata": {},
   "source": [
    "# Venn diagram"
   ]
  },
  {
   "cell_type": "code",
   "execution_count": 8,
   "metadata": {
    "scrolled": false
   },
   "outputs": [
    {
     "data": {
      "text/plain": [
       "Text(0.5,1,'Different sources for hamburger tags')"
      ]
     },
     "execution_count": 8,
     "metadata": {},
     "output_type": "execute_result"
    },
    {
     "data": {
      "image/png": "[encoded data removed]",
      "text/plain": [
       "<matplotlib.figure.Figure at 0x1a16aa8358>"
      ]
     },
     "metadata": {},
     "output_type": "display_data"
    }
   ],
   "source": [
    "from matplotlib_venn import venn3\n",
    "venn3([set(existing_tag_ids), set(elastic_tag_ids), set(image_tag_ids)], \n",
    "      set_labels = ('Existing tags', 'Elasticsearch tags', 'Image tags'))\n",
    "plt.title(\"Different sources for hamburger tags\", fontsize=16)"
   ]
  },
  {
   "cell_type": "code",
   "execution_count": 9,
   "metadata": {},
   "outputs": [
    {
     "data": {
      "text/html": [
       "<div>\n",
       "<style scoped>\n",
       "    .dataframe tbody tr th:only-of-type {\n",
       "        vertical-align: middle;\n",
       "    }\n",
       "\n",
       "    .dataframe tbody tr th {\n",
       "        vertical-align: top;\n",
       "    }\n",
       "\n",
       "    .dataframe thead th {\n",
       "        text-align: right;\n",
       "    }\n",
       "</style>\n",
       "<table border=\"1\" class=\"dataframe\">\n",
       "  <thead>\n",
       "    <tr style=\"text-align: right;\">\n",
       "      <th></th>\n",
       "      <th>info_avg_price</th>\n",
       "      <th>info_city</th>\n",
       "      <th>info_country</th>\n",
       "      <th>info_house_number</th>\n",
       "      <th>info_lat</th>\n",
       "      <th>info_lon</th>\n",
       "      <th>Name</th>\n",
       "      <th>info_postal_code</th>\n",
       "      <th>info_street</th>\n",
       "      <th>reviews_distinction</th>\n",
       "      <th>...</th>\n",
       "      <th>reviews_nr_ratings</th>\n",
       "      <th>Price quality</th>\n",
       "      <th>reviews_rating_decor</th>\n",
       "      <th>Food rating</th>\n",
       "      <th>reviews_rating_service</th>\n",
       "      <th>reviews_rating</th>\n",
       "      <th>Waiting time</th>\n",
       "      <th>existing</th>\n",
       "      <th>elastic</th>\n",
       "      <th>image</th>\n",
       "    </tr>\n",
       "    <tr>\n",
       "      <th>info_id</th>\n",
       "      <th></th>\n",
       "      <th></th>\n",
       "      <th></th>\n",
       "      <th></th>\n",
       "      <th></th>\n",
       "      <th></th>\n",
       "      <th></th>\n",
       "      <th></th>\n",
       "      <th></th>\n",
       "      <th></th>\n",
       "      <th></th>\n",
       "      <th></th>\n",
       "      <th></th>\n",
       "      <th></th>\n",
       "      <th></th>\n",
       "      <th></th>\n",
       "      <th></th>\n",
       "      <th></th>\n",
       "      <th></th>\n",
       "      <th></th>\n",
       "      <th></th>\n",
       "    </tr>\n",
       "  </thead>\n",
       "  <tbody>\n",
       "    <tr>\n",
       "      <th>259191</th>\n",
       "      <td>25</td>\n",
       "      <td>Amsterdam</td>\n",
       "      <td>Nederland</td>\n",
       "      <td>Vijzelstraat</td>\n",
       "      <td>52.359863</td>\n",
       "      <td>4.89126</td>\n",
       "      <td>Taproom</td>\n",
       "      <td>1017 HT</td>\n",
       "      <td>Nieuwe</td>\n",
       "      <td>Fantastisch</td>\n",
       "      <td>...</td>\n",
       "      <td>32</td>\n",
       "      <td>Gunstig</td>\n",
       "      <td>8.3</td>\n",
       "      <td>8.5</td>\n",
       "      <td>8.9</td>\n",
       "      <td>8.5</td>\n",
       "      <td>Kort</td>\n",
       "      <td>True</td>\n",
       "      <td>True</td>\n",
       "      <td>True</td>\n",
       "    </tr>\n",
       "  </tbody>\n",
       "</table>\n",
       "<p>1 rows × 26 columns</p>\n",
       "</div>"
      ],
      "text/plain": [
       "         info_avg_price  info_city info_country info_house_number   info_lat  \\\n",
       "info_id                                                                        \n",
       "259191               25  Amsterdam    Nederland      Vijzelstraat  52.359863   \n",
       "\n",
       "         info_lon     Name info_postal_code info_street reviews_distinction  \\\n",
       "info_id                                                                       \n",
       "259191    4.89126  Taproom          1017 HT      Nieuwe         Fantastisch   \n",
       "\n",
       "         ...   reviews_nr_ratings  Price quality  reviews_rating_decor  \\\n",
       "info_id  ...                                                             \n",
       "259191   ...                   32        Gunstig                   8.3   \n",
       "\n",
       "         Food rating  reviews_rating_service  reviews_rating  Waiting time  \\\n",
       "info_id                                                                      \n",
       "259191           8.5                     8.9             8.5          Kort   \n",
       "\n",
       "        existing  elastic  image  \n",
       "info_id                           \n",
       "259191      True     True   True  \n",
       "\n",
       "[1 rows x 26 columns]"
      ]
     },
     "execution_count": 9,
     "metadata": {},
     "output_type": "execute_result"
    }
   ],
   "source": [
    "(\n",
    "    restaurants\n",
    "    .loc[lambda r: r['image'] & r['elastic'] & r['existing']]\n",
    ")"
   ]
  },
  {
   "cell_type": "markdown",
   "metadata": {},
   "source": [
    "# Plot on map"
   ]
  },
  {
   "cell_type": "code",
   "execution_count": 10,
   "metadata": {},
   "outputs": [],
   "source": [
    "import collections\n",
    "Coords = collections.namedtuple('Coordinates', 'lat lon')\n",
    "coords_gdd = Coords(lat=52.352379, lon=4.912933)"
   ]
  },
  {
   "cell_type": "code",
   "execution_count": 11,
   "metadata": {},
   "outputs": [],
   "source": [
    "import geopy.distance\n",
    "import folium\n",
    "from folium.features import DivIcon"
   ]
  },
  {
   "cell_type": "code",
   "execution_count": 12,
   "metadata": {},
   "outputs": [],
   "source": [
    "def plot_map(df, coords_center, range_in_km=1, min_rating=8, zoom_start=15):\n",
    "    m = folium.Map(location=list(coords_center), zoom_start=zoom_start)\n",
    "    df = df.rename(columns={'Food rating': 'Food_rating'})\n",
    "    for idx, row in df.iterrows():\n",
    "        if row['Food_rating'] < min_rating:\n",
    "            continue\n",
    "        if geopy.distance.vincenty(coords_center, (row['info_lat'], row['info_lon'])).km > range_in_km:\n",
    "            continue\n",
    "        for tag_type, color in zip(['existing', 'elastic', 'image'], ['#DDB997', '#99C799', '#99B7DA']):\n",
    "            if row[tag_type]:\n",
    "                folium.map.Marker([row['info_lat'], row['info_lon']], \n",
    "                                  icon=DivIcon(html=f'<div title=\"{row.Name}\", style=\"font-size: 15pt; display: inline-block; background-color: white; border-width: thick; border-style: solid; border-color:{color}\";>{row.Food_rating}</div>')\n",
    "                                 ).add_to(m)\n",
    "\n",
    "    folium.map.Marker(\n",
    "        list(coords_center),\n",
    "        icon=DivIcon(\n",
    "            html='<div style=\"font-size: 15pt; display: inline-block; background-color:#5DBCD2; color:white; border-width: thin; border-style: solid; border-color:#5DBCD2\"> GDD </div>',\n",
    "            )\n",
    "        ).add_to(m)\n",
    "    return m"
   ]
  },
  {
   "cell_type": "code",
   "execution_count": 13,
   "metadata": {
    "scrolled": false
   },
   "outputs": [
    {
     "data": {
      "text/html": [
       "<div style=\"width:100%;\"><div style=\"position:relative;width:100%;height:0;padding-bottom:60%;\"><iframe src=\"data:text/html;charset=utf-8;base64,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\" style=\"position:absolute;width:100%;height:100%;left:0;top:0;border:none !important;\" allowfullscreen webkitallowfullscreen mozallowfullscreen></iframe></div></div>"
      ],
      "text/plain": [
       "<folium.folium.Map at 0x1a170d8a90>"
      ]
     },
     "execution_count": 13,
     "metadata": {},
     "output_type": "execute_result"
    }
   ],
   "source": [
    "# Hoover over rating with mouse for restaurant name\n",
    "plot_map(restaurants, coords_gdd, range_in_km=5, min_rating=9)"
   ]
  },
  {
   "cell_type": "code",
   "execution_count": null,
   "metadata": {},
   "outputs": [],
   "source": []
  }
 ],
 "metadata": {
  "kernelspec": {
   "display_name": "Python 3",
   "language": "python",
   "name": "python3"
  },
  "language_info": {
   "codemirror_mode": {
    "name": "ipython",
    "version": 3
   },
   "file_extension": ".py",
   "mimetype": "text/x-python",
   "name": "python",
   "nbconvert_exporter": "python",
   "pygments_lexer": "ipython3",
   "version": "3.6.3"
  }
 },
 "nbformat": 4,
 "nbformat_minor": 2
}
