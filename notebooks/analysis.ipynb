{
 "cells": [
  {
   "cell_type": "markdown",
   "metadata": {},
   "source": [
    "# Analysis of restaurant reviews"
   ]
  },
  {
   "cell_type": "markdown",
   "metadata": {},
   "source": [
    "In this notebook we analyze restaurant reviews for a city and a specific date."
   ]
  },
  {
   "cell_type": "markdown",
   "metadata": {},
   "source": [
    "In case gbq is not working you might need to update the python api client library:\n",
    "\n",
    "```bash\n",
    "sudo pip install --upgrade google-api-python-client\n",
    "```"
   ]
  },
  {
   "cell_type": "code",
   "execution_count": null,
   "metadata": {
    "scrolled": false
   },
   "outputs": [],
   "source": [
    "import re\n",
    "import pandas as pd\n",
    "import numpy as np\n",
    "import seaborn as sns\n",
    "import matplotlib.pyplot as plt\n",
    "%matplotlib inline\n",
    "from scipy import stats\n",
    "\n",
    "# hide warnings. `gbq.read_gbq()` gives some\n",
    "import warnings\n",
    "warnings.filterwarnings('ignore')\n",
    "\n",
    "import sys\n",
    "sys.path.append('../scrape_save_search')\n",
    "import load_data"
   ]
  },
  {
   "cell_type": "code",
   "execution_count": null,
   "metadata": {},
   "outputs": [],
   "source": [
    "comments = load_data.load_comments()"
   ]
  },
  {
   "cell_type": "code",
   "execution_count": null,
   "metadata": {
    "scrolled": false
   },
   "outputs": [],
   "source": [
    "restaurants, existing_tag_ids, elastic_tag_ids, image_tag_ids = load_data.load_restaurants(rename_cols=False)"
   ]
  },
  {
   "cell_type": "code",
   "execution_count": null,
   "metadata": {},
   "outputs": [],
   "source": [
    "comments['date'] = pd.to_datetime(comments['date'])\n",
    "comments['yearmonth'] = comments['date'].dt.strftime('%Y-%m')\n",
    "comments['year'] = comments['date'].dt.year\n",
    "comments['month'] = comments['date'].dt.month"
   ]
  },
  {
   "cell_type": "markdown",
   "metadata": {},
   "source": [
    "# Pretty cols"
   ]
  },
  {
   "cell_type": "code",
   "execution_count": null,
   "metadata": {},
   "outputs": [],
   "source": [
    "restaurants.columns = [x[5:] if 'info_' in x else x for x in restaurants.columns]"
   ]
  },
  {
   "cell_type": "code",
   "execution_count": null,
   "metadata": {
    "scrolled": true
   },
   "outputs": [],
   "source": [
    "# Nice column names to plot some example data\n",
    "restaurants_head = restaurants[['name', 'lat', 'lon', 'country', 'city', 'postal_code', 'street', 'house_number', \n",
    "                                'reviews_noise_level', 'reviews_waiting_time', 'reviews_nr_ratings']].head()\n",
    "restaurants_head.columns = ['Name', 'Lat', 'Lon', 'Country', 'City', 'Postal code', 'Street', 'House number',\n",
    "                            'Noise level', 'Waiting time', 'Number of ratings']\n",
    "restaurants_head"
   ]
  },
  {
   "cell_type": "markdown",
   "metadata": {},
   "source": [
    "## Reviewers"
   ]
  },
  {
   "cell_type": "code",
   "execution_count": null,
   "metadata": {
    "scrolled": false
   },
   "outputs": [],
   "source": [
    "ax = comments.groupby('reviewer').size().value_counts().sort_index()[:15].plot.bar(figsize=(12,4), rot=45)\n",
    "ax.set_title('Number of reviewers that wrote \"X\" reviews')\n",
    "ax.set_xlabel('Number of reviews')\n",
    "ax.set_ylabel('Number of reviewers');"
   ]
  },
  {
   "cell_type": "markdown",
   "metadata": {},
   "source": [
    "## Overall review ratings"
   ]
  },
  {
   "cell_type": "code",
   "execution_count": null,
   "metadata": {
    "scrolled": true
   },
   "outputs": [],
   "source": [
    "def plot_rating_bars(s: pd.Series, rating_type=float):\n",
    "    ax = s.astype(rating_type).value_counts().sort_index().plot.bar(color='b', figsize=(12,4), rot=45)\n",
    "    ax.set_title('Distribution of ratings')\n",
    "    ax.set_xlabel('Rating')\n",
    "    ax.set_ylabel('Number of reviews');"
   ]
  },
  {
   "cell_type": "code",
   "execution_count": null,
   "metadata": {
    "scrolled": true
   },
   "outputs": [],
   "source": [
    "plot_rating_bars(comments.rating)"
   ]
  },
  {
   "cell_type": "markdown",
   "metadata": {},
   "source": [
    "## Reviewer that use specific word"
   ]
  },
  {
   "cell_type": "code",
   "execution_count": null,
   "metadata": {},
   "outputs": [],
   "source": [
    "word = 'slecht'\n",
    "comments[word] = (\n",
    "    comments\n",
    "    .apply(lambda x: sum(1 for match in re.finditer(r\"\\b\"+re.escape(word)+r\"\\b\", x.comment)), axis='columns')\n",
    ")"
   ]
  },
  {
   "cell_type": "markdown",
   "metadata": {},
   "source": [
    "For the regex we use \\b to indicate a [word boundary](https://www.regular-expressions.info/wordboundaries.html)"
   ]
  },
  {
   "cell_type": "code",
   "execution_count": null,
   "metadata": {},
   "outputs": [],
   "source": [
    "def search_for_word(word, df, minimum_number_of_occurences=1):\n",
    "    df[word] = df.apply(lambda x: \n",
    "                        sum(1 for match in re.finditer(r\"\\b\"+re.escape(word)+r\"\\b\" , x.comment)), axis='columns')\n",
    "    df_word = df[df[word] >= minimum_number_of_occurences]\n",
    "    print(f'Total reviews with {minimum_number_of_occurences} times the word {word}: {len(df_word)}' +\n",
    "          f'\\nTotal review overall: {len(df)}')\n",
    "    plot_rating_bars(df_word.rating, rating_type=int)\n",
    "    return df_word"
   ]
  },
  {
   "cell_type": "code",
   "execution_count": null,
   "metadata": {},
   "outputs": [],
   "source": [
    "slecht_1 = search_for_word('slecht', comments, minimum_number_of_occurences=1)"
   ]
  },
  {
   "cell_type": "code",
   "execution_count": null,
   "metadata": {
    "scrolled": true
   },
   "outputs": [],
   "source": [
    "slecht_2 = search_for_word('slecht', comments, minimum_number_of_occurences=2)"
   ]
  },
  {
   "cell_type": "code",
   "execution_count": null,
   "metadata": {},
   "outputs": [],
   "source": [
    "# compare the distributions with chisquare\n",
    "def compare_ratings(values_a, values_b):\n",
    "    distributions = []\n",
    "    for values in [values_a, values_b]:\n",
    "        counts = values.rating.astype(int).value_counts().sort_index() \n",
    "        distributions.append(counts / sum(counts) * 100)\n",
    "    print(stats.chisquare(distributions[1], distributions[0]))\n",
    "    print(stats.chisquare(distributions[0], distributions[1]))"
   ]
  },
  {
   "cell_type": "code",
   "execution_count": null,
   "metadata": {},
   "outputs": [],
   "source": [
    "compare_ratings(slecht_1, slecht_2)"
   ]
  },
  {
   "cell_type": "markdown",
   "metadata": {},
   "source": [
    "## More use of the word 'lekker' does not increase score"
   ]
  },
  {
   "cell_type": "code",
   "execution_count": null,
   "metadata": {
    "scrolled": true
   },
   "outputs": [],
   "source": [
    "lekker_1 = search_for_word('lekker', comments)"
   ]
  },
  {
   "cell_type": "code",
   "execution_count": null,
   "metadata": {
    "scrolled": true
   },
   "outputs": [],
   "source": [
    "lekker_2 = search_for_word('lekker', comments, minimum_number_of_occurences=2)"
   ]
  },
  {
   "cell_type": "code",
   "execution_count": null,
   "metadata": {},
   "outputs": [],
   "source": [
    "compare_ratings(lekker_1, lekker_2)"
   ]
  },
  {
   "cell_type": "markdown",
   "metadata": {},
   "source": [
    "## Average ratings per reviewer"
   ]
  },
  {
   "cell_type": "code",
   "execution_count": null,
   "metadata": {},
   "outputs": [],
   "source": [
    "comments_mean_count_rating = comments.groupby('reviewer').agg({'rating': ['mean', 'count']})"
   ]
  },
  {
   "cell_type": "code",
   "execution_count": null,
   "metadata": {
    "scrolled": false
   },
   "outputs": [],
   "source": [
    "# Reviewers die alleen onvoldoendes geven\n",
    "comments_mean_count_rating[comments_mean_count_rating[('rating', 'mean')] < 5.5].shape"
   ]
  },
  {
   "cell_type": "code",
   "execution_count": null,
   "metadata": {
    "scrolled": false
   },
   "outputs": [],
   "source": [
    "# Reviewers die alleen onvoldoendes geven (en meer dan 1 rating hebben gegeven)\n",
    "comments_mean_count_rating[(comments_mean_count_rating[('rating', 'count')] > 1) & (comments_mean_count_rating[('rating', 'mean')] < 5.5)].shape"
   ]
  },
  {
   "cell_type": "markdown",
   "metadata": {},
   "source": [
    "## Reviewer with most reviews"
   ]
  },
  {
   "cell_type": "code",
   "execution_count": null,
   "metadata": {},
   "outputs": [],
   "source": [
    "comments_cnt = comments.groupby('reviewer').count()\n",
    "top_reviewer = comments_cnt[comments_cnt.name == comments_cnt.name.max()].index[0]\n",
    "top_reviewer"
   ]
  },
  {
   "cell_type": "code",
   "execution_count": null,
   "metadata": {
    "scrolled": true
   },
   "outputs": [],
   "source": [
    "# Wat voor scores geeft deze reviewer\n",
    "comments[comments.reviewer == top_reviewer].rating.astype(int).value_counts().sort_index().plot.bar(color='b');"
   ]
  },
  {
   "cell_type": "code",
   "execution_count": null,
   "metadata": {
    "scrolled": true
   },
   "outputs": [],
   "source": [
    "# In welke jaren gaf hij zijn reviews\n",
    "comments[comments.reviewer == top_reviewer].date.dt.year.value_counts().sort_index().plot.bar(color='b');"
   ]
  },
  {
   "cell_type": "markdown",
   "metadata": {},
   "source": [
    "# Reviews over time"
   ]
  },
  {
   "cell_type": "code",
   "execution_count": null,
   "metadata": {
    "scrolled": false
   },
   "outputs": [],
   "source": [
    "# totaal aantal reviews per jaar\n",
    "comments.date.dt.year.value_counts().sort_index().plot.bar(color='b');"
   ]
  },
  {
   "cell_type": "code",
   "execution_count": null,
   "metadata": {
    "scrolled": false
   },
   "outputs": [],
   "source": [
    "fig, ax = plt.subplots(1,1)\n",
    "\n",
    "for name, grp in (\n",
    "    comments\n",
    "    .assign(nr_reviews=1)\n",
    "    .groupby(['year', 'month'])\n",
    "    .agg({'nr_reviews' : sum})\n",
    "    .groupby('year')\n",
    "):\n",
    "    grp.nr_reviews.plot(figsize=(16,6), title='Number of reviews per month', label=name, ax=ax) \n",
    "\n",
    "ax.set_xlabel('Month')\n",
    "ax.set_xticks(range(12))\n",
    "ax.set_xticklabels(range(1,13))\n",
    "ax.legend();"
   ]
  },
  {
   "cell_type": "markdown",
   "metadata": {},
   "source": [
    "# Average rating over time: rating increases over time!"
   ]
  },
  {
   "cell_type": "code",
   "execution_count": null,
   "metadata": {
    "scrolled": false
   },
   "outputs": [],
   "source": [
    "fig, ax = plt.subplots(1,1)\n",
    "\n",
    "for name, grp in (\n",
    "    comments\n",
    "    .groupby(['year', 'month'])\n",
    "    .agg({'rating' : np.mean})\n",
    "    .groupby('year')\n",
    "):\n",
    "    grp.rating.plot(figsize=(16,6), title='Average rating per month', label=name, ax=ax) \n",
    "\n",
    "ax.set_xlabel('Month')\n",
    "ax.set_xticks(range(12))\n",
    "ax.set_xticklabels(range(1,13))\n",
    "ax.legend();"
   ]
  },
  {
   "cell_type": "markdown",
   "metadata": {},
   "source": [
    "## Average price distribution"
   ]
  },
  {
   "cell_type": "code",
   "execution_count": null,
   "metadata": {
    "scrolled": false
   },
   "outputs": [],
   "source": [
    "sns.distplot(restaurants.query('avg_price != -1')['avg_price']);"
   ]
  }
 ],
 "metadata": {
  "kernelspec": {
   "display_name": "Python 3",
   "language": "python",
   "name": "python3"
  },
  "language_info": {
   "codemirror_mode": {
    "name": "ipython",
    "version": 3
   },
   "file_extension": ".py",
   "mimetype": "text/x-python",
   "name": "python",
   "nbconvert_exporter": "python",
   "pygments_lexer": "ipython3",
   "version": "3.6.3"
  }
 },
 "nbformat": 4,
 "nbformat_minor": 2
}
