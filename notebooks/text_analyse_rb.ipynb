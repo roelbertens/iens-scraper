{
 "cells": [
  {
   "cell_type": "markdown",
   "metadata": {},
   "source": [
    "# Text analysis of restaurant reviews\n",
    "## Find hamburgers!"
   ]
  },
  {
   "cell_type": "markdown",
   "metadata": {},
   "source": [
    "In this notebook we analyze the Iens restaurant reviews for a city and a specific date."
   ]
  },
  {
   "cell_type": "markdown",
   "metadata": {},
   "source": [
    "In case gbq is not working you might need to update the python api client library:\n",
    "\n",
    "```bash\n",
    "sudo pip install --upgrade google-api-python-client\n",
    "```"
   ]
  },
  {
   "cell_type": "code",
   "execution_count": 1,
   "metadata": {
    "scrolled": false
   },
   "outputs": [],
   "source": [
    "import pandas as pd\n",
    "import numpy as np\n",
    "import pandas_gbq as gbq \n",
    "import json\n",
    "import seaborn as sns\n",
    "import matplotlib.pyplot as plt\n",
    "%matplotlib inline\n",
    "# hide warnings. `gbq.read_gbq()` gives some\n",
    "import warnings\n",
    "warnings.filterwarnings('ignore')"
   ]
  },
  {
   "cell_type": "code",
   "execution_count": 78,
   "metadata": {},
   "outputs": [],
   "source": [
    "from pprint import pprint"
   ]
  },
  {
   "cell_type": "code",
   "execution_count": 2,
   "metadata": {},
   "outputs": [],
   "source": [
    "# project specifics\n",
    "PRIVATE_KEY = '../google-credentials/gsdk-credentials.json'\n",
    "PROJECT_ID = json.load(open(PRIVATE_KEY))['project_id']"
   ]
  },
  {
   "cell_type": "code",
   "execution_count": 3,
   "metadata": {},
   "outputs": [],
   "source": [
    "# dataset specifics\n",
    "city = 'amsterdam'\n",
    "date = '20180123'\n",
    "bq_table = '_'.join(['iens.iens_comments', city, date])"
   ]
  },
  {
   "cell_type": "code",
   "execution_count": 4,
   "metadata": {},
   "outputs": [
    {
     "name": "stdout",
     "output_type": "stream",
     "text": [
      "  datasetId  \r\n",
      " ----------- \r\n",
      "  iens       \r\n",
      "  tinkering  \r\n"
     ]
    }
   ],
   "source": [
    "!bq ls"
   ]
  },
  {
   "cell_type": "code",
   "execution_count": 5,
   "metadata": {},
   "outputs": [
    {
     "name": "stdout",
     "output_type": "stream",
     "text": [
      "              tableId                Type    Labels   Time Partitioning  \r\n",
      " ---------------------------------- ------- -------- ------------------- \r\n",
      "  iens_amsterdam_20171107            TABLE                               \r\n",
      "  iens_amsterdam_20171201            TABLE                               \r\n",
      "  iens_amsterdam_20171228            TABLE                               \r\n",
      "  iens_amsterdam_20180123            TABLE                               \r\n",
      "  iens_comments_amsterdam_20171228   TABLE                               \r\n",
      "  iens_comments_amsterdam_20180123   TABLE                               \r\n",
      "  iens_comments_diemen_20171227      TABLE                               \r\n",
      "  iens_diemen_20171201               TABLE                               \r\n",
      "  iens_diemen_20171227               TABLE                               \r\n"
     ]
    }
   ],
   "source": [
    "!bq ls iens\n"
   ]
  },
  {
   "cell_type": "code",
   "execution_count": 6,
   "metadata": {},
   "outputs": [],
   "source": [
    "# dataset specifics (restaurants info)\n",
    "bq_table_restaurants = '_'.join(['iens.iens', city, date])"
   ]
  },
  {
   "cell_type": "markdown",
   "metadata": {},
   "source": [
    "## Reading from BigQuery"
   ]
  },
  {
   "cell_type": "markdown",
   "metadata": {},
   "source": [
    "To load a BigQuery table into a Pandas dataframe, all you need is a query, the project_id, and a way to authenticate."
   ]
  },
  {
   "cell_type": "code",
   "execution_count": 7,
   "metadata": {
    "scrolled": true
   },
   "outputs": [
    {
     "name": "stdout",
     "output_type": "stream",
     "text": [
      "Requesting query... ok.\n",
      "Job ID: job_oKzLBusOwV2X60TQCvCWJNVKwg5p\n",
      "Query running...\n",
      "Query done.\n",
      "Processed: 46.4 MB\n",
      "Standard price: $0.00 USD\n",
      "\n",
      "Retrieving results...\n",
      "  Got page: 1; 18% done. Elapsed 10.91 s.\n",
      "  Got page: 2; 42% done. Elapsed 17.49 s.\n",
      "  Got page: 3; 68% done. Elapsed 24.47 s.\n",
      "  Got page: 4; 86% done. Elapsed 31.05 s.\n",
      "  Got page: 5; 100% done. Elapsed 35.4 s.\n",
      "Got 94854 rows.\n",
      "\n",
      "Total time taken 36.86 s.\n",
      "Finished at 2018-01-24 09:16:31.\n"
     ]
    }
   ],
   "source": [
    "query = \"SELECT * FROM {}\".format(bq_table)\n",
    "\n",
    "df = gbq.read_gbq(query, project_id=PROJECT_ID, private_key=PRIVATE_KEY)"
   ]
  },
  {
   "cell_type": "code",
   "execution_count": 8,
   "metadata": {
    "scrolled": true
   },
   "outputs": [
    {
     "data": {
      "text/plain": [
       "(94854, 10)"
      ]
     },
     "execution_count": 8,
     "metadata": {},
     "output_type": "execute_result"
    }
   ],
   "source": [
    "df.shape"
   ]
  },
  {
   "cell_type": "markdown",
   "metadata": {},
   "source": [
    "# Analysis"
   ]
  },
  {
   "cell_type": "code",
   "execution_count": 9,
   "metadata": {
    "scrolled": false
   },
   "outputs": [],
   "source": [
    "df['date'] = pd.to_datetime(df['date'])\n",
    "df['yearmonth'] = df['date'].dt.strftime('%Y-%m')\n",
    "df['year'] = df['date'].dt.strftime('%y')\n",
    "df['month'] = df['date'].dt.strftime('%m')"
   ]
  },
  {
   "cell_type": "code",
   "execution_count": 10,
   "metadata": {
    "scrolled": true
   },
   "outputs": [
    {
     "data": {
      "text/html": [
       "<div>\n",
       "<style scoped>\n",
       "    .dataframe tbody tr th:only-of-type {\n",
       "        vertical-align: middle;\n",
       "    }\n",
       "\n",
       "    .dataframe tbody tr th {\n",
       "        vertical-align: top;\n",
       "    }\n",
       "\n",
       "    .dataframe thead th {\n",
       "        text-align: right;\n",
       "    }\n",
       "</style>\n",
       "<table border=\"1\" class=\"dataframe\">\n",
       "  <thead>\n",
       "    <tr style=\"text-align: right;\">\n",
       "      <th></th>\n",
       "      <th>0</th>\n",
       "      <th>1</th>\n",
       "      <th>2</th>\n",
       "      <th>3</th>\n",
       "      <th>4</th>\n",
       "    </tr>\n",
       "  </thead>\n",
       "  <tbody>\n",
       "    <tr>\n",
       "      <th>name</th>\n",
       "      <td>Brasserie Van Dam</td>\n",
       "      <td>Kapitein Zeppos</td>\n",
       "      <td>Kapitein Zeppos</td>\n",
       "      <td>Kapitein Zeppos</td>\n",
       "      <td>Kapitein Zeppos</td>\n",
       "    </tr>\n",
       "    <tr>\n",
       "      <th>reserved_online</th>\n",
       "      <td>False</td>\n",
       "      <td>False</td>\n",
       "      <td>False</td>\n",
       "      <td>False</td>\n",
       "      <td>False</td>\n",
       "    </tr>\n",
       "    <tr>\n",
       "      <th>id</th>\n",
       "      <td>219761</td>\n",
       "      <td>220017</td>\n",
       "      <td>220017</td>\n",
       "      <td>220017</td>\n",
       "      <td>220017</td>\n",
       "    </tr>\n",
       "    <tr>\n",
       "      <th>rating_service</th>\n",
       "      <td>7</td>\n",
       "      <td>8</td>\n",
       "      <td>8</td>\n",
       "      <td>8</td>\n",
       "      <td>7</td>\n",
       "    </tr>\n",
       "    <tr>\n",
       "      <th>date</th>\n",
       "      <td>2015-07-08 00:00:00</td>\n",
       "      <td>2015-09-10 00:00:00</td>\n",
       "      <td>2012-09-25 00:00:00</td>\n",
       "      <td>2014-02-18 00:00:00</td>\n",
       "      <td>2013-07-06 00:00:00</td>\n",
       "    </tr>\n",
       "    <tr>\n",
       "      <th>rating_food</th>\n",
       "      <td>9</td>\n",
       "      <td>8</td>\n",
       "      <td>8</td>\n",
       "      <td>8</td>\n",
       "      <td>8</td>\n",
       "    </tr>\n",
       "    <tr>\n",
       "      <th>rating_decor</th>\n",
       "      <td>8</td>\n",
       "      <td>9</td>\n",
       "      <td>9</td>\n",
       "      <td>9</td>\n",
       "      <td>10</td>\n",
       "    </tr>\n",
       "    <tr>\n",
       "      <th>reviewer</th>\n",
       "      <td>Ben K.</td>\n",
       "      <td>Chili C.</td>\n",
       "      <td>Peter S.</td>\n",
       "      <td>Mart S.</td>\n",
       "      <td>peter1979 .</td>\n",
       "    </tr>\n",
       "    <tr>\n",
       "      <th>rating</th>\n",
       "      <td>8.3</td>\n",
       "      <td>8.3</td>\n",
       "      <td>8.3</td>\n",
       "      <td>8.3</td>\n",
       "      <td>8.3</td>\n",
       "    </tr>\n",
       "    <tr>\n",
       "      <th>comment</th>\n",
       "      <td>Vooraf Vitello tonnato gegeten, was een verras...</td>\n",
       "      <td>Voor ons bezoek aan de Kleine Komedie nog even...</td>\n",
       "      <td>Tja de ervaringen hieronder wisselen nogal, en...</td>\n",
       "      <td>alsje  het niet weet loop je er zo aan voorbij...</td>\n",
       "      <td>Leuk restaurantje in een steegje met een heel ...</td>\n",
       "    </tr>\n",
       "    <tr>\n",
       "      <th>yearmonth</th>\n",
       "      <td>2015-07</td>\n",
       "      <td>2015-09</td>\n",
       "      <td>2012-09</td>\n",
       "      <td>2014-02</td>\n",
       "      <td>2013-07</td>\n",
       "    </tr>\n",
       "    <tr>\n",
       "      <th>year</th>\n",
       "      <td>15</td>\n",
       "      <td>15</td>\n",
       "      <td>12</td>\n",
       "      <td>14</td>\n",
       "      <td>13</td>\n",
       "    </tr>\n",
       "    <tr>\n",
       "      <th>month</th>\n",
       "      <td>07</td>\n",
       "      <td>09</td>\n",
       "      <td>09</td>\n",
       "      <td>02</td>\n",
       "      <td>07</td>\n",
       "    </tr>\n",
       "  </tbody>\n",
       "</table>\n",
       "</div>"
      ],
      "text/plain": [
       "                                                                 0  \\\n",
       "name                                             Brasserie Van Dam   \n",
       "reserved_online                                              False   \n",
       "id                                                          219761   \n",
       "rating_service                                                   7   \n",
       "date                                           2015-07-08 00:00:00   \n",
       "rating_food                                                      9   \n",
       "rating_decor                                                     8   \n",
       "reviewer                                                    Ben K.   \n",
       "rating                                                         8.3   \n",
       "comment          Vooraf Vitello tonnato gegeten, was een verras...   \n",
       "yearmonth                                                  2015-07   \n",
       "year                                                            15   \n",
       "month                                                           07   \n",
       "\n",
       "                                                                 1  \\\n",
       "name                                               Kapitein Zeppos   \n",
       "reserved_online                                              False   \n",
       "id                                                          220017   \n",
       "rating_service                                                   8   \n",
       "date                                           2015-09-10 00:00:00   \n",
       "rating_food                                                      8   \n",
       "rating_decor                                                     9   \n",
       "reviewer                                                  Chili C.   \n",
       "rating                                                         8.3   \n",
       "comment          Voor ons bezoek aan de Kleine Komedie nog even...   \n",
       "yearmonth                                                  2015-09   \n",
       "year                                                            15   \n",
       "month                                                           09   \n",
       "\n",
       "                                                                 2  \\\n",
       "name                                               Kapitein Zeppos   \n",
       "reserved_online                                              False   \n",
       "id                                                          220017   \n",
       "rating_service                                                   8   \n",
       "date                                           2012-09-25 00:00:00   \n",
       "rating_food                                                      8   \n",
       "rating_decor                                                     9   \n",
       "reviewer                                                  Peter S.   \n",
       "rating                                                         8.3   \n",
       "comment          Tja de ervaringen hieronder wisselen nogal, en...   \n",
       "yearmonth                                                  2012-09   \n",
       "year                                                            12   \n",
       "month                                                           09   \n",
       "\n",
       "                                                                 3  \\\n",
       "name                                               Kapitein Zeppos   \n",
       "reserved_online                                              False   \n",
       "id                                                          220017   \n",
       "rating_service                                                   8   \n",
       "date                                           2014-02-18 00:00:00   \n",
       "rating_food                                                      8   \n",
       "rating_decor                                                     9   \n",
       "reviewer                                                   Mart S.   \n",
       "rating                                                         8.3   \n",
       "comment          alsje  het niet weet loop je er zo aan voorbij...   \n",
       "yearmonth                                                  2014-02   \n",
       "year                                                            14   \n",
       "month                                                           02   \n",
       "\n",
       "                                                                 4  \n",
       "name                                               Kapitein Zeppos  \n",
       "reserved_online                                              False  \n",
       "id                                                          220017  \n",
       "rating_service                                                   7  \n",
       "date                                           2013-07-06 00:00:00  \n",
       "rating_food                                                      8  \n",
       "rating_decor                                                    10  \n",
       "reviewer                                               peter1979 .  \n",
       "rating                                                         8.3  \n",
       "comment          Leuk restaurantje in een steegje met een heel ...  \n",
       "yearmonth                                                  2013-07  \n",
       "year                                                            13  \n",
       "month                                                           07  "
      ]
     },
     "execution_count": 10,
     "metadata": {},
     "output_type": "execute_result"
    }
   ],
   "source": [
    "df.head().T"
   ]
  },
  {
   "cell_type": "markdown",
   "metadata": {},
   "source": [
    "# Elastic search"
   ]
  },
  {
   "cell_type": "markdown",
   "metadata": {},
   "source": [
    "To run Elasticsearch as a service:\n",
    "+ `brew tap homebrew/services`\n",
    "+ `brew services start elasticsearch`\n",
    "\n",
    "You can check that it's up-and-running by examining the logs:\n",
    "+ `tail -n 15 /usr/local/var/log/elasticsearch.log`\n"
   ]
  },
  {
   "cell_type": "code",
   "execution_count": 13,
   "metadata": {},
   "outputs": [],
   "source": [
    "from elasticsearch import Elasticsearch\n",
    "es = Elasticsearch([{'host': 'localhost', 'port': 9200}])"
   ]
  },
  {
   "cell_type": "code",
   "execution_count": 110,
   "metadata": {},
   "outputs": [
    {
     "data": {
      "text/plain": [
       "True"
      ]
     },
     "execution_count": 110,
     "metadata": {},
     "output_type": "execute_result"
    }
   ],
   "source": [
    "es.ping()"
   ]
  },
  {
   "cell_type": "code",
   "execution_count": 111,
   "metadata": {
    "scrolled": true
   },
   "outputs": [
    {
     "name": "stdout",
     "output_type": "stream",
     "text": [
      "timestamp cluster            status node.total\n",
      "12:30:38  elasticsearch_roel yellow          1\n",
      "\n"
     ]
    }
   ],
   "source": [
    "res = es.cat.health(v=True, h=['timestamp', 'cluster', 'status', 'node.total'])\n",
    "print(res)"
   ]
  },
  {
   "cell_type": "code",
   "execution_count": 143,
   "metadata": {
    "scrolled": false
   },
   "outputs": [
    {
     "name": "stdout",
     "output_type": "stream",
     "text": [
      "health status index                uuid                   pri rep docs.count docs.deleted store.size pri.store.size\n",
      "yellow open   the_times_of_sklearn tKyiTez1RpK9mAb9YcHpjg   5   1      11314            0     18.4mb         18.4mb\n",
      "yellow open   real_estate_listings OSxmQmoOQtu9dh4AcFBFNg   5   1          0            0      1.2kb          1.2kb\n",
      "\n"
     ]
    }
   ],
   "source": [
    "print(es.cat.indices(v=True))"
   ]
  },
  {
   "cell_type": "code",
   "execution_count": 142,
   "metadata": {},
   "outputs": [
    {
     "data": {
      "text/plain": [
       "{'acknowledged': True}"
      ]
     },
     "execution_count": 142,
     "metadata": {},
     "output_type": "execute_result"
    }
   ],
   "source": [
    "es.indices.delete(index='iens_comments')"
   ]
  },
  {
   "cell_type": "code",
   "execution_count": 144,
   "metadata": {},
   "outputs": [],
   "source": [
    "hyphens_and_apostrophes_strip = {\n",
    "    \"hyphens_and_apostrophes_strip\": {\n",
    "        \"type\": \"mapping\",\n",
    "        \"mappings\": [ \n",
    "            \"- => ' '\",\n",
    "            \"' => \"\n",
    "        ]\n",
    "    }\n",
    "}"
   ]
  },
  {
   "cell_type": "code",
   "execution_count": 145,
   "metadata": {},
   "outputs": [],
   "source": [
    "dutch_stop = {\n",
    "    \"dutch_stop\": {\n",
    "        \"type\": \"stop\",\n",
    "        \"stopwords\": \"_dutch_\"\n",
    "    }\n",
    "}"
   ]
  },
  {
   "cell_type": "code",
   "execution_count": 146,
   "metadata": {},
   "outputs": [],
   "source": [
    "analyzer = {\n",
    "    \"iens_comments_analyzer\": {\n",
    "        \"type\":           \"custom\",\n",
    "        \"char_filter\":  [ \"hyphens_and_apostrophes_strip\" ],\n",
    "        \"tokenizer\":      \"standard\",\n",
    "        \"filter\":       [ \"lowercase\", \"dutch_stop\", \"asciifolding\" ]\n",
    "    }\n",
    "}"
   ]
  },
  {
   "cell_type": "code",
   "execution_count": 117,
   "metadata": {},
   "outputs": [
    {
     "data": {
      "text/plain": [
       "{'acknowledged': True, 'shards_acknowledged': True}"
      ]
     },
     "execution_count": 117,
     "metadata": {},
     "output_type": "execute_result"
    }
   ],
   "source": [
    "es.indices.create(index='iens_comments', ignore=400)\n",
    "\n",
    "es.indices.close(index='iens_comments')\n",
    "\n",
    "es.indices.put_settings(\n",
    "    index='iens_comments', \n",
    "    body={\n",
    "        \"analysis\": {\n",
    "            \"char_filter\": hyphens_and_apostrophes_strip,\n",
    "            \"filter\": dutch_stop,\n",
    "            \"analyzer\": analyzer\n",
    "        }\n",
    "    }\n",
    ")\n",
    "\n",
    "es.indices.open(index='iens_comments')"
   ]
  },
  {
   "cell_type": "code",
   "execution_count": 119,
   "metadata": {
    "scrolled": true
   },
   "outputs": [
    {
     "data": {
      "text/plain": [
       "{'acknowledged': True}"
      ]
     },
     "execution_count": 119,
     "metadata": {},
     "output_type": "execute_result"
    }
   ],
   "source": [
    "es.indices.put_mapping(\n",
    "    index='iens_comments',\n",
    "    update_all_types=True,\n",
    "    doc_type='article',\n",
    "    body={\n",
    "        \"properties\": {\n",
    "            \"comment\": {\n",
    "                \"type\": \"text\",\n",
    "                \"analyzer\": \"iens_comments_analyzer\"\n",
    "            },\n",
    "            \"name\": {\n",
    "                \"type\": \"text\"            \n",
    "            },\n",
    "        }\n",
    "    }\n",
    ")"
   ]
  },
  {
   "cell_type": "code",
   "execution_count": 132,
   "metadata": {
    "scrolled": true
   },
   "outputs": [
    {
     "name": "stdout",
     "output_type": "stream",
     "text": [
      "{'article': {'properties': {'comment': {'analyzer': 'iens_comments_analyzer',\n",
      "                                        'type': 'text'},\n",
      "                            'name': {'type': 'text'}}}}\n"
     ]
    }
   ],
   "source": [
    "pprint(\n",
    "    es.indices.get_mapping(index='iens_comments')['iens_comments']['mappings']\n",
    ")"
   ]
  },
  {
   "cell_type": "code",
   "execution_count": 133,
   "metadata": {
    "scrolled": true
   },
   "outputs": [
    {
     "name": "stdout",
     "output_type": "stream",
     "text": [
      "health status index                uuid                   pri rep docs.count docs.deleted store.size pri.store.size\n",
      "yellow open   the_times_of_sklearn tKyiTez1RpK9mAb9YcHpjg   5   1      11314            0     18.4mb         18.4mb\n",
      "yellow open   real_estate_listings OSxmQmoOQtu9dh4AcFBFNg   5   1          0            0      1.2kb          1.2kb\n",
      "yellow open   iens_comments        fadEUh-rTJulFe_cpFGXpg   5   1      94854            0     43.3mb         43.3mb\n",
      "\n"
     ]
    }
   ],
   "source": [
    "print(es.cat.indices(v=True))"
   ]
  },
  {
   "cell_type": "code",
   "execution_count": 147,
   "metadata": {},
   "outputs": [
    {
     "data": {
      "text/plain": [
       "{'comment': 'Vooraf Vitello tonnato gegeten, was een verrassing, want eigenlijk niet alleen mooi op smaak, maar bijv ook gefrituurde kappertjes erop. Daarna hamburger met gegrilde groenten gehad. Mooi vlees, goed gemaakt, anders dan andere burgers, kortom ook prima. Wel grote portie, maar dat is geen nadeel. Bediening was prima: aardig maar gereserveerd. Geen arrogantie gezien, wel een trotse werknemer die het fijn vond dat het elke avond wel vol zit.',\n",
       " 'name': 'Brasserie Van Dam'}"
      ]
     },
     "execution_count": 147,
     "metadata": {},
     "output_type": "execute_result"
    }
   ],
   "source": [
    "src"
   ]
  },
  {
   "cell_type": "code",
   "execution_count": 122,
   "metadata": {},
   "outputs": [],
   "source": [
    "from elasticsearch.helpers import parallel_bulk\n",
    "def generate_actions(n_comments):    \n",
    "    for i in range(n_comments):\n",
    "        src = {\n",
    "            'comment': df.loc[i, 'comment'],\n",
    "            'name': df.loc[i, 'name'],\n",
    "#             'rating': df.loc[i, 'rating_food']    \n",
    "        }\n",
    "\n",
    "        yield {\n",
    "            '_op_type': 'index',\n",
    "            '_source': src \n",
    "        }"
   ]
  },
  {
   "cell_type": "code",
   "execution_count": 123,
   "metadata": {},
   "outputs": [],
   "source": [
    "for success, info in parallel_bulk(\n",
    "    client=es, \n",
    "    actions=generate_actions(len(df)),\n",
    "    index='iens_comments', \n",
    "    doc_type='article',\n",
    "    thread_count=4):\n",
    "    if not success: print('Document insertion failed', info)"
   ]
  },
  {
   "cell_type": "code",
   "execution_count": 126,
   "metadata": {
    "scrolled": false
   },
   "outputs": [
    {
     "name": "stdout",
     "output_type": "stream",
     "text": [
      "health status index                uuid                   pri rep docs.count docs.deleted store.size pri.store.size\n",
      "yellow open   the_times_of_sklearn tKyiTez1RpK9mAb9YcHpjg   5   1      11314            0     18.4mb         18.4mb\n",
      "yellow open   real_estate_listings OSxmQmoOQtu9dh4AcFBFNg   5   1          0            0      1.2kb          1.2kb\n",
      "yellow open   iens_comments        fadEUh-rTJulFe_cpFGXpg   5   1      94854            0     43.3mb         43.3mb\n",
      "\n"
     ]
    }
   ],
   "source": [
    "print(es.cat.indices(v=True))"
   ]
  },
  {
   "cell_type": "code",
   "execution_count": 125,
   "metadata": {
    "scrolled": true
   },
   "outputs": [
    {
     "name": "stdout",
     "output_type": "stream",
     "text": [
      "{'_shards': {'failed': 0, 'skipped': 0, 'successful': 5, 'total': 5},\n",
      " 'hits': {'hits': [{'_id': 'KivyJ2EB_DuYwroOnjFz',\n",
      "                    '_index': 'iens_comments',\n",
      "                    '_score': 1.0,\n",
      "                    '_source': {'comment': 'Bij Zeppos vooraf de vongole, '\n",
      "                                           \"mosselen en gamba's op Portugese \"\n",
      "                                           'wijze gegeten en daarna de vis van '\n",
      "                                           'de dag. Het voorgerecht was om '\n",
      "                                           'mijn vingers bij af te likken. '\n",
      "                                           'Mijn tafelgenote had een kip met '\n",
      "                                           'rozemarijn en aardappeltjes en die '\n",
      "                                           'was ook erg lekker. De huiswijn is '\n",
      "                                           'meer dan goed. Toe hadden we een '\n",
      "                                           'chocoladesoufflé en een crème '\n",
      "                                           'brûlée  Hebben wij wel vaker hier '\n",
      "                                           'gegeten en de bediening is altijd '\n",
      "                                           'even snel, vriendelijk en '\n",
      "                                           'charmant. Zowel het cafe als het '\n",
      "                                           'restaurant zijn erg gezellig '\n",
      "                                           'ingericht en het is er altijd '\n",
      "                                           'aangenaam druk.',\n",
      "                                'name': 'Kapitein Zeppos'},\n",
      "                    '_type': 'article'},\n",
      "                   {'_id': 'LSvyJ2EB_DuYwroOnjFz',\n",
      "                    '_index': 'iens_comments',\n",
      "                    '_score': 1.0,\n",
      "                    '_source': {'comment': 'Favoriete sushibar, ook van de '\n",
      "                                           'kinderen. Op de lopende band komen '\n",
      "                                           'allemaal zalige Japanse gerechten '\n",
      "                                           'voorbij. Het is erg moeilijk om je '\n",
      "                                           'in te houden. Enige probleem is '\n",
      "                                           'dan dat je aan het eind van de '\n",
      "                                           'avond een grote stapel kommetjes '\n",
      "                                           'hebt, die je nog moet betalen. '\n",
      "                                           'Maar zalig is het zeker!',\n",
      "                                'name': 'Zushi'},\n",
      "                    '_type': 'article'},\n",
      "                   {'_id': 'MyvyJ2EB_DuYwroOnjFz',\n",
      "                    '_index': 'iens_comments',\n",
      "                    '_score': 1.0,\n",
      "                    '_source': {'comment': 'Iedere keer dat wij hier zitten, '\n",
      "                                           'verbaas ik me erover, dat dit '\n",
      "                                           'restaurant niet afgeladen vol zit. '\n",
      "                                           'Van alle Afrikaanse landen '\n",
      "                                           'serveert Walia Ibex het lekkerste '\n",
      "                                           'eten en ook nog warm! Ieder '\n",
      "                                           'gerecht geurig, bereid in zijn '\n",
      "                                           'eigen kruiden, zodat alles een '\n",
      "                                           'eigen identiteit krijgt. Voor een '\n",
      "                                           'schappelijke prijs eet je hier een '\n",
      "                                           'godenmaal. Tip: bestel bij de '\n",
      "                                           \"maaltijd zo'n heerlijk bananen- of \"\n",
      "                                           'kokosbiertje. Wie van zoet houdt, '\n",
      "                                           'zal de honingwijn ook kunnen '\n",
      "                                           'waarderen, maar mijn smaak was het '\n",
      "                                           'niet. De eigenaar is zeer correct '\n",
      "                                           'en geeft goede adviezen. Het '\n",
      "                                           'decor? Kleurrijk en gezellig, niet '\n",
      "                                           'erg confortabel, maar dat vergeet '\n",
      "                                           'je door het goede eten.',\n",
      "                                'name': 'Walia Ibex'},\n",
      "                    '_type': 'article'},\n",
      "                   {'_id': 'QyvyJ2EB_DuYwroOnjFz',\n",
      "                    '_index': 'iens_comments',\n",
      "                    '_score': 1.0,\n",
      "                    '_source': {'comment': 'Midden op de Leidsestraat, tussen '\n",
      "                                           'de toeristen, zit dit Vietnamese '\n",
      "                                           \"restaurant. Niet zo'n toeristen \"\n",
      "                                           'ding, maar gewoon toch het gevoel '\n",
      "                                           'van een echt restaurant met het '\n",
      "                                           'belangrijkste: heerlijk eten! :-)  '\n",
      "                                           'Wij waren echt verrast. Als '\n",
      "                                           'Amsterdammer zou ik hier zeker '\n",
      "                                           'weer terug komen!! En er zijn maar '\n",
      "                                           'weinig (geen?) tenten op deze '\n",
      "                                           'locatie waar ik dat van kan '\n",
      "                                           'zeggen! Toppertje dus! Een echte '\n",
      "                                           'aanbeveler!',\n",
      "                                'name': 'Saigon Caphe'},\n",
      "                    '_type': 'article'},\n",
      "                   {'_id': 'RivyJ2EB_DuYwroOnjFz',\n",
      "                    '_index': 'iens_comments',\n",
      "                    '_score': 1.0,\n",
      "                    '_source': {'comment': 'Heerlijk eten, goede service, '\n",
      "                                           'aardig personeel. Erg gezellig '\n",
      "                                           'decor ook. Kon alleen niet pinnen '\n",
      "                                           'maar dit schijnt een tijdelijk '\n",
      "                                           'probleem te zijn',\n",
      "                                'name': 'India Roti Room'},\n",
      "                    '_type': 'article'},\n",
      "                   {'_id': 'TCvyJ2EB_DuYwroOnjFz',\n",
      "                    '_index': 'iens_comments',\n",
      "                    '_score': 1.0,\n",
      "                    '_source': {'comment': 'Fan van dit bruine cafe in '\n",
      "                                           'Amsterdam. Heerlijk gegeten: '\n",
      "                                           'entrecote en kaasfondue. Leuk om '\n",
      "                                           'zelf een beetje op een plaat te '\n",
      "                                           'bakken en de kaasfondue is top. '\n",
      "                                           'Het zit altijd propvol (je zit '\n",
      "                                           'vaak met onbekende aan een tafel) '\n",
      "                                           'bediening is druk, maar wel leuk! '\n",
      "                                           'Dessert is niet de moeite waard, '\n",
      "                                           'ik werk alleen zo veel calorieen '\n",
      "                                           'naar binnen als het zelf gemaakt '\n",
      "                                           'en vers is en helaas was dat niet '\n",
      "                                           'geval. Ondanks dat, altijd leuk.',\n",
      "                                'name': 'Café Bern'},\n",
      "                    '_type': 'article'},\n",
      "                   {'_id': 'TSvyJ2EB_DuYwroOnjFz',\n",
      "                    '_index': 'iens_comments',\n",
      "                    '_score': 1.0,\n",
      "                    '_source': {'comment': 'Cafe Bern... Nostalgie. Echt een '\n",
      "                                           'instituut in de stad. De '\n",
      "                                           'kaasfondue was weer heerlijk, net '\n",
      "                                           'als de salade die we er bij namen. '\n",
      "                                           'De nieuwe tijdelijke lokatie vond '\n",
      "                                           'ik eigenlijk erg leuk. Service als '\n",
      "                                           'altijd vriendelijk, en ze laten je '\n",
      "                                           'lekker met rust. Blijft een '\n",
      "                                           'aanrader.',\n",
      "                                'name': 'Café Bern'},\n",
      "                    '_type': 'article'},\n",
      "                   {'_id': 'TivyJ2EB_DuYwroOnjFz',\n",
      "                    '_index': 'iens_comments',\n",
      "                    '_score': 1.0,\n",
      "                    '_source': {'comment': 'De kaasfondue is altijd top bij '\n",
      "                                           'Bern, net als de bonensla en de '\n",
      "                                           'entrecote. Vooral wanneer het koud '\n",
      "                                           'wordt is dit echt the place to be! '\n",
      "                                           'gelukkig wordt de tent verbouwd, '\n",
      "                                           'het zag er al verjaard uit. Maar '\n",
      "                                           'voor het eten, al is de kaart '\n",
      "                                           'simpel, blijf ik toch steeds '\n",
      "                                           'terugkomen',\n",
      "                                'name': 'Café Bern'},\n",
      "                    '_type': 'article'},\n",
      "                   {'_id': 'UivyJ2EB_DuYwroOnjFz',\n",
      "                    '_index': 'iens_comments',\n",
      "                    '_score': 1.0,\n",
      "                    '_source': {'comment': 'Mooie ligging, goede keuken.   '\n",
      "                                           'Onze bediening op de '\n",
      "                                           'bovenverdieping was uitstekend : '\n",
      "                                           'vriendelijke jongedame, zeer '\n",
      "                                           'attentvol en goed ter tale.  De '\n",
      "                                           'maître verdient ook een pluim !  '\n",
      "                                           'Enige nadeel : altijd druk, dus '\n",
      "                                           'ook geluidsoverlast...',\n",
      "                                'name': 'De Belhamel'},\n",
      "                    '_type': 'article'},\n",
      "                   {'_id': 'WivyJ2EB_DuYwroOnjFz',\n",
      "                    '_index': 'iens_comments',\n",
      "                    '_score': 1.0,\n",
      "                    '_source': {'comment': 'Buiten zitten aan het water, of '\n",
      "                                           'meteen voor het restaurant maakt '\n",
      "                                           'deze ervaring (in de zomer als het '\n",
      "                                           'warm genoeg is natuurlijk) extra '\n",
      "                                           'speciaal. Lekkere kaart, goed '\n",
      "                                           'eten, super ambiance.',\n",
      "                                'name': 'De Belhamel'},\n",
      "                    '_type': 'article'}],\n",
      "          'max_score': 1.0,\n",
      "          'total': 82590},\n",
      " 'timed_out': False,\n",
      " 'took': 5}\n"
     ]
    }
   ],
   "source": [
    "res = es.search(index='iens_comments')\n",
    "pprint(res)"
   ]
  },
  {
   "cell_type": "code",
   "execution_count": 127,
   "metadata": {},
   "outputs": [],
   "source": [
    "test_phrase = 'Wij hebben heerlijk gegeten bij Yamazato en een hele leuke avond gehad.'"
   ]
  },
  {
   "cell_type": "code",
   "execution_count": 128,
   "metadata": {},
   "outputs": [
    {
     "name": "stdout",
     "output_type": "stream",
     "text": [
      "wij\n",
      "heerlijk\n",
      "gegeten\n",
      "yamazato\n",
      "hele\n",
      "leuke\n",
      "avond\n",
      "gehad\n"
     ]
    }
   ],
   "source": [
    "res = es.indices.analyze(\n",
    "    index='iens_comments',\n",
    "    body={'analyzer': 'iens_comments_analyzer', 'text': test_phrase}\n",
    ")\n",
    "\n",
    "for token in res['tokens']:\n",
    "    print(token['token'])"
   ]
  },
  {
   "cell_type": "code",
   "execution_count": 139,
   "metadata": {
    "scrolled": true
   },
   "outputs": [],
   "source": [
    "res = es.search(\n",
    "    index='iens_comments', \n",
    "    doc_type='article',\n",
    "    body={\n",
    "        \"query\": {\n",
    "            \"match\": {\n",
    "                \"comment\": \"hamburger\"\n",
    "            }\n",
    "        }\n",
    "    }\n",
    ")"
   ]
  },
  {
   "cell_type": "code",
   "execution_count": 140,
   "metadata": {},
   "outputs": [
    {
     "name": "stdout",
     "output_type": "stream",
     "text": [
      "Score:  7.956767\n",
      "{ 'comment': 'Prima gegeten, hebben gekozen voor het broodje hamburger, was '\n",
      "             'lekker! Er zat patat bij (staat niet op de menukaart bij '\n",
      "             'hamburger), hamburger was een beste hap, dessert was ook geen '\n",
      "             'ruimte meer voor    Hele vriendelijke bediening!',\n",
      "  'name': 'Holland Casino Amsterdam'}\n",
      "Score:  7.6797304\n",
      "{ 'comment': 'Normaal gesproken zou ik een slechte eet ervaring niet zo graag '\n",
      "             'via het internet verspreiden. Echter soms zijn er van die '\n",
      "             'momenten, dat je iets uit frustratie wel doet. Ik heb vanavond '\n",
      "             'een hamburger gehaald bij Burgerlijk. Na een kwartier buiten te '\n",
      "             'hebben gewacht ben ik naar binnen gegaan om te vragen of mijn '\n",
      "             'hamburger al bijna klaar zou zijn. Helaas waren ze nog niet '\n",
      "             'begonnen.    Snel werd mijn hamburger in elkaar geduwd, en 10 '\n",
      "             'minuten later stond ik buiten, om mijn hamburger later thuis op '\n",
      "             'te kunnen eten. Eenmaal thuis aangekomen was de hamburger al in '\n",
      "             '2 stukken gebroken, en zat er naast vele verbrande stukken geen '\n",
      "             'lekkere smaak aan. De frietjes waren prima, maar bij een '\n",
      "             'hamburgertent verwacht ik toch echt wel een lekkere hamburger... '\n",
      "             'Om over de prijs maar niet te praten...',\n",
      "  'name': 'Burgerlijk Amsterdams'}\n",
      "Score:  7.6174836\n",
      "{ 'comment': 'Heerlijke hamburger, zoals een hamburger zijn moet. Lastig eten '\n",
      "             'zo dik was de burger.Alles is vers gemaakt op het moment van '\n",
      "             'bestellen. Niet de goedkoopste hamburger. Maar wel de lekkerste '\n",
      "             'die we in tijden gegeten hebben. Ze hebben er verschillende op '\n",
      "             'de kaart staan. wij hadden de Daddy.',\n",
      "  'name': 'The Butcher (Foodhallen)'}\n",
      "Score:  7.6090674\n",
      "{ 'comment': 'Tja, wat kan je beoordelen aan een hamburger? Iedereen denkt aan '\n",
      "             'McDonalds als je het over hamburgers hebt maar dit is werkelijk '\n",
      "             'waar een hele andere wereld. Deze hamburger is groot, wordt vers '\n",
      "             'gemaakt (je ziet het gehakt langzaam een hamburger worden onder '\n",
      "             'de vaardige handen van de kok) en je kan kiezen uit diverse '\n",
      "             'toppings. De hamburgersaus is ook super. Na een hamburger van de '\n",
      "             'Burger Bar is er geen weg meer terug, nooit meer Burger King, '\n",
      "             'nooit meer McDonalds.',\n",
      "  'name': 'Burger Bar (Warmoesstraat)'}\n",
      "Score:  7.5702653\n",
      "{ 'comment': 'Een Hamburger eten die vers voor je wordt gemaakt waar je bij '\n",
      "             'staat, dat kan bij de Burgermeester! Wij hebben zondag middag '\n",
      "             'als lunch na een avondje stappen heerlijk genoten van een '\n",
      "             'hamburger kalfsvlees met daar bovenop de saus van tonijn( '\n",
      "             'Vitello Tonnato hamburger).  Heerlijk. Hier word je blij van.',\n",
      "  'name': 'Burgermeester (Elandsgracht)'}\n",
      "Score:  7.557839\n",
      "{ 'comment': 'GEEN AANRADER Bij hamburger krijg je bolletje met hamburger. '\n",
      "             'Geen saus,Sla,Tomaat,Ui enzo. Saus moet je kopen voor €1...',\n",
      "  'name': 'Five Bells'}\n",
      "Score:  7.5468154\n",
      "{ 'comment': 'Erg lekkere hamburger hier gegeten, the daddy. Vlees was sappig '\n",
      "             'van binnen. De garneringen op de hamburger waren erg lekker '\n",
      "             '(bacon, bbq saus, tomaat, sla), niet teveel saus, niet te sterke '\n",
      "             'kruiden, gewoon erg lekker. 11 euro voor een hamburger klinkt '\n",
      "             \"niet goedkoop, maar na zo'n hamburger hoef je eigenlijk niet \"\n",
      "             'meer te eten, dus daarmee weer erg goed aan de prijs.',\n",
      "  'name': 'The Butcher'}\n",
      "Score:  7.499098\n",
      "{ 'comment': \"We waren met z'n drieën, en aten een pasta met zeevruchten, \"\n",
      "             'hamburger en vega hamburger. De zeevruchten hadden wat te lang '\n",
      "             'opgestaan, de hamburger was prima, de vega hamburger was '\n",
      "             'redelijk. De friet is lekker! Na het hoofdgerecht moesten we '\n",
      "             'zelf vragen om een dessertkaart, en ook daarna een serveerster '\n",
      "             'aanschieten om te bestellen. Dus dat had wel wat beter gekund. '\n",
      "             'Maar al met al goed gegeten, mooi restaurant op een mooie plek.',\n",
      "  'name': 'Bar Lempicka'}\n",
      "Score:  7.386622\n",
      "{ 'comment': 'Hamburger menu gegeten. Prima hamburger van Angus Beef, veel '\n",
      "             'mals vlees, lekkere patat en salade. Vriendelijke bediening.',\n",
      "  'name': 'Angus Burger'}\n",
      "Score:  7.26325\n",
      "{ 'comment': 'Heerlijk gegeten, super sfeer. Zelf jouw hamburger samenstellen '\n",
      "             'of een reeds samengestelde hamburger.   Tap aan de tafel voor '\n",
      "             'een heerlijk biertje. Maar ook keus uit heel veel andere '\n",
      "             'biertjes.',\n",
      "  'name': 'Bar-B'}\n"
     ]
    }
   ],
   "source": [
    "for document in res['hits']['hits']:\n",
    "    print('Score: ', document['_score'])\n",
    "    pprint(document['_source'], indent=2)"
   ]
  },
  {
   "cell_type": "code",
   "execution_count": 141,
   "metadata": {
    "scrolled": true
   },
   "outputs": [
    {
     "data": {
      "text/plain": [
       "{'_shards': {'failed': 0, 'skipped': 0, 'successful': 5, 'total': 5},\n",
       " 'hits': {'hits': [{'_id': 'kizyJ2EB_DuYwroOsCti',\n",
       "    '_index': 'iens_comments',\n",
       "    '_score': 0.0,\n",
       "    '_source': {'comment': \"Gezellig geluncht met collega, voordat we naar de Horecava gingen. Heerlijke sappige hamburger op een lekker vers broodje. We hadden de 'classic' genomen en de samenstelling/ingredienten van de hamburger was perfect. Ook de frietjes met de verse kruiden waren verrassend lekker. Goede prijs/kwaliteit verhouding op een leuke locatie. Dame van de bediening was bijzonder vriendelijk.\",\n",
       "     'name': 'Thrill Grill (Amsterdam Zuid)'},\n",
       "    '_type': 'article'},\n",
       "   {'_id': 'xCzyJ2EB_DuYwroOsDCf',\n",
       "    '_index': 'iens_comments',\n",
       "    '_score': 0.0,\n",
       "    '_source': {'comment': 'Normaal neem ik de biefstuk met frietjes en salade. Wat erg lekker en mals is. Nu had ik een hamburger en dat was heel erg lekker. Voor 10 euro een hamburger op vers brood, een kleine salade erbij. Het was erg smaakvol.  Salade die wij erbij besteld hebben, vindt ik vooral lekker door de dressing.  Bediening is vriendelijk en snel. Gezellig, drukke restaurant. Zonder reservering hebben wij op een zaterdagavond wel 45 minuten gewacht. Maar dat was het wel waard.',\n",
       "     'name': 'Loetje Oost'},\n",
       "    '_type': 'article'},\n",
       "   {'_id': 'LizyJ2EB_DuYwroOsDLO',\n",
       "    '_index': 'iens_comments',\n",
       "    '_score': 0.0,\n",
       "    '_source': {'comment': 'Eindelijk een plek waar men agave siroop standard ter beschikking heeft. Voor een zoetekauw als ik, die het niet op suiker heeft, is dit perfect. Maar dit terzijde.   Koffie, broodje hamburger (160gr), en verschillende groente/fruit smoothies geprobeerd. Ik vind de kwaliteit en smaak verrassend goed. Wellicht zijn de prijzen wat hoog, maar ik vind dat je waar voor je geld krijgt. De bediening scoort voor mij wat lager, ondanks de vriendelijkheid, niet altijd even efficient naar mijn mening. Kan nieuwigheid zijn?',\n",
       "     'name': 'C T Coffee & Coconuts'},\n",
       "    '_type': 'article'},\n",
       "   {'_id': 'bizyJ2EB_DuYwroOsTk-',\n",
       "    '_index': 'iens_comments',\n",
       "    '_score': 0.0,\n",
       "    '_source': {'comment': 'Prima restaurant. Aardige bediening. Kleine (ah) kaart, kangaroe spiesje was lekker, pompoensalade wat weinig pompoen, hamburger goed, kangaroe steak ook. Lekkere chocolade taart.',\n",
       "     'name': 'Drovers Dog Amsterdam Oost'},\n",
       "    '_type': 'article'},\n",
       "   {'_id': 'GyzyJ2EB_DuYwroOsTo-',\n",
       "    '_index': 'iens_comments',\n",
       "    '_score': 0.0,\n",
       "    '_source': {'comment': 'Via ah actie bij Grand Café Lokaal terechtgekomen. Leuk om dmv dit soort acties restaurantjes te ontdekken. We hadden om 17:30u een tafel. We kregen een tafel aan het raam. Van de buitenkant ziet het restaurant er niet ontzettend aantrekkelijk uit (drukke straat) maar binnen is het erg leuk ingericht. We kregen de ah menukaart te zien, maar mochten ook kiezen van de gewone menukaart. We hebben allebei de carpaccio genomen. Dit was een erg lekker voorgerecht. Daarna hadden we de entrecote en de new york style hamburger. De entrecote was heerlijk, alleen klein detail: iets meer zoete aardappel puree serveren. De hamburger met verse? friet was ook erg lekker. Als nagerecht hadden we een choco taart punt en een red velvet punt. Allebei machtig maar het waard om te bestellen!   De bediening was ook zeer vriendelijk, kwamen soms wat druk over maar geen klagen!   Een echte aanrader voor wie eens wat anders wilt proberen.',\n",
       "     'name': 'Lokaal'},\n",
       "    '_type': 'article'},\n",
       "   {'_id': 'KSzyJ2EB_DuYwroOsTo-',\n",
       "    '_index': 'iens_comments',\n",
       "    '_score': 0.0,\n",
       "    '_source': {'comment': 'Wij kwamen van ver en vonden de service erg goed. Netjes en vriendelijke bediening. Vooraf hadden we Gambas (lekker pittig zoals het hoort) daarna een Hamburger met Jalapeno smaakte erg goed (maar wel een grote portie!). Als afsluiter Red velvet erg lekker!. De verlichting was wel wat aan de felle kant maar dat is dan ook de enige opmerkingen. Gewoon een goede plek om lekker even wat te eten!!',\n",
       "     'name': 'Lokaal'},\n",
       "    '_type': 'article'},\n",
       "   {'_id': 'xSzyJ2EB_DuYwroOsTyx',\n",
       "    '_index': 'iens_comments',\n",
       "    '_score': 0.0,\n",
       "    '_source': {'comment': 'Gisteravond gegeten en het eten is hier heerlijk. Het menu is heel gevarieerd: van een veganistische schotel met pastinaak en wortel met een apart sausje (wel heel lekker) tot een simpele biologische hamburger. Leuke mix tussen toegankelijk en apart (in de goede manier van het woord) dus.   De bediening is lief en behulpzaam, maar niet heel professioneel. Er werden wat dingen vergeten en soms werden dingen een beetje klunzig aagepakt. Vooraf had ik echter op de site gelezen dat Studio K volledig wordt gerund door vrijwilligers/studenten en daarom deerde het ons ook niet zoveel, ze doen in ieder geval oprecht hun best.   Het decor is interessant, het restaurant bestaat geloof ik uit 2 delen en het is leuk ingericht. Er is een open keuken, het is leuk om de koks aan het werk te zien. De stoelen zitten niet allemaal even comfortabel maar je hebt echt het gevoel in iemands huiskamer terecht te zijn gekomen. Je zit dicht op de andere gasten dus dat moet je niet vervelend vinden (wij vonden het leuk). Gister bleek er een of ander dance gebeuren plaats te vinden waardoor het wat drukker was dan normaal, maar we hebben er geen last van gehad. Het was wel wat rumoerig, daar moet je van houden.   Kortom, een hele leuke tent met lekker eten en lieve medewerkers. Een mooi pand en zeker een aanwinst voor Amsterdam-Oost. Wij komen terug!',\n",
       "     'name': 'Studio/K'},\n",
       "    '_type': 'article'},\n",
       "   {'_id': 'SCzyJ2EB_DuYwroOsT_Q',\n",
       "    '_index': 'iens_comments',\n",
       "    '_score': 0.0,\n",
       "    '_source': {'comment': 'Op een zonnige zaterdag hier gegeten met twee volwassenen en twee kinderen. Het terras zat stampvol. Binnen was nog plek genoeg. Bediening was aardig en snel. Twee keer hamburger en twee keer kip besteld. Heerlijk! Sappige kip, goed gekruid. Ook nog een hapje hamburger geproefd, evenzo lekker. We gaan hier zeker naar terug.',\n",
       "     'name': 'De Biertuin'},\n",
       "    '_type': 'article'},\n",
       "   {'_id': 'mCzyJ2EB_DuYwroOsT_Q',\n",
       "    '_index': 'iens_comments',\n",
       "    '_score': 0.0,\n",
       "    '_source': {'comment': \"Gezellige cafe! Lekkere pizza's, maar ook wel eens een hamburger gegeten die ook zeker aan te raden is. Bediening is prima en het is er vaak erg gezellig. Kom zeker weer 'ns langs.\",\n",
       "     'name': 'Café Zouk'},\n",
       "    '_type': 'article'},\n",
       "   {'_id': 'HCzyJ2EB_DuYwroOskIK',\n",
       "    '_index': 'iens_comments',\n",
       "    '_score': 0.0,\n",
       "    '_source': {'comment': \"Als je zin hebt in een lekkere hamburger bestel dan hier een 'Mannenburger'! De vegaburger viel ook goed bij de vegetarische gasten. Prima bediening, wel erg krap en warm waar wij zaten (met een grote groep).  De pubquiz is ook leuk en gezellig!\",\n",
       "     'name': 'Cafe Kostverloren'},\n",
       "    '_type': 'article'}],\n",
       "  'max_score': 0.0,\n",
       "  'total': 1103},\n",
       " 'timed_out': False,\n",
       " 'took': 28}"
      ]
     },
     "execution_count": 141,
     "metadata": {},
     "output_type": "execute_result"
    }
   ],
   "source": [
    "res = es.search(\n",
    "    index='iens_comments', \n",
    "    doc_type='article',\n",
    "    body={\n",
    "        \"query\": {\n",
    "            \"bool\": {\n",
    "                \"filter\": {\n",
    "                    \"term\": {\n",
    "                        \"comment\": \"hamburger\"\n",
    "                    }\n",
    "                }\n",
    "            }\n",
    "        }\n",
    "    }\n",
    ")\n",
    "res"
   ]
  },
  {
   "cell_type": "markdown",
   "metadata": {},
   "source": [
    "## TODO: kijk hoeveel % van reviews iets over hamburgers zegt"
   ]
  },
  {
   "cell_type": "code",
   "execution_count": null,
   "metadata": {},
   "outputs": [],
   "source": []
  }
 ],
 "metadata": {
  "kernelspec": {
   "display_name": "Python 3",
   "language": "python",
   "name": "python3"
  },
  "language_info": {
   "codemirror_mode": {
    "name": "ipython",
    "version": 3
   },
   "file_extension": ".py",
   "mimetype": "text/x-python",
   "name": "python",
   "nbconvert_exporter": "python",
   "pygments_lexer": "ipython3",
   "version": "3.6.3"
  }
 },
 "nbformat": 4,
 "nbformat_minor": 2
}
