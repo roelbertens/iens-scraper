{
 "cells": [
  {
   "cell_type": "markdown",
   "metadata": {},
   "source": [
    "# Text analysis of restaurant reviews\n",
    "## Find hamburgers!"
   ]
  },
  {
   "cell_type": "markdown",
   "metadata": {},
   "source": [
    "In this notebook we analyze the Iens restaurant reviews for a city and a specific date."
   ]
  },
  {
   "cell_type": "markdown",
   "metadata": {},
   "source": [
    "In case gbq is not working you might need to update the python api client library:\n",
    "\n",
    "```bash\n",
    "sudo pip install --upgrade google-api-python-client\n",
    "```"
   ]
  },
  {
   "cell_type": "code",
   "execution_count": 1,
   "metadata": {
    "scrolled": false
   },
   "outputs": [],
   "source": [
    "import pandas as pd\n",
    "import numpy as np\n",
    "import pandas_gbq as gbq \n",
    "import json\n",
    "import seaborn as sns\n",
    "import matplotlib.pyplot as plt\n",
    "%matplotlib inline\n",
    "# hide warnings. `gbq.read_gbq()` gives some\n",
    "import warnings\n",
    "warnings.filterwarnings('ignore')"
   ]
  },
  {
   "cell_type": "code",
   "execution_count": 2,
   "metadata": {},
   "outputs": [],
   "source": [
    "from pprint import pprint"
   ]
  },
  {
   "cell_type": "code",
   "execution_count": 3,
   "metadata": {},
   "outputs": [],
   "source": [
    "# project specifics\n",
    "PRIVATE_KEY = '../google-credentials/gsdk-credentials.json'\n",
    "PROJECT_ID = json.load(open(PRIVATE_KEY))['project_id']"
   ]
  },
  {
   "cell_type": "code",
   "execution_count": 4,
   "metadata": {},
   "outputs": [],
   "source": [
    "# dataset specifics\n",
    "city = 'amsterdam'\n",
    "date = '20180123'\n",
    "bq_table = '_'.join(['iens.iens_comments', city, date])"
   ]
  },
  {
   "cell_type": "code",
   "execution_count": 5,
   "metadata": {},
   "outputs": [
    {
     "name": "stdout",
     "output_type": "stream",
     "text": [
      "\n",
      "\n",
      "Updates are available for some Cloud SDK components.  To install them,\n",
      "please run:\n",
      "  $ gcloud components update\n",
      "\n",
      "  datasetId  \n",
      " ----------- \n",
      "  iens       \n",
      "  tinkering  \n"
     ]
    }
   ],
   "source": [
    "!bq ls"
   ]
  },
  {
   "cell_type": "code",
   "execution_count": 6,
   "metadata": {},
   "outputs": [
    {
     "name": "stdout",
     "output_type": "stream",
     "text": [
      "              tableId                Type    Labels   Time Partitioning  \r\n",
      " ---------------------------------- ------- -------- ------------------- \r\n",
      "  iens_amsterdam_20171107            TABLE                               \r\n",
      "  iens_amsterdam_20171201            TABLE                               \r\n",
      "  iens_amsterdam_20171228            TABLE                               \r\n",
      "  iens_amsterdam_20180123            TABLE                               \r\n",
      "  iens_amsterdam_20180124            TABLE                               \r\n",
      "  iens_comments_amsterdam_20171228   TABLE                               \r\n",
      "  iens_comments_amsterdam_20180123   TABLE                               \r\n",
      "  iens_comments_diemen_20171227      TABLE                               \r\n",
      "  iens_diemen_20171201               TABLE                               \r\n",
      "  iens_diemen_20171227               TABLE                               \r\n",
      "  iens_dongen_20180124               TABLE                               \r\n"
     ]
    }
   ],
   "source": [
    "!bq ls iens\n"
   ]
  },
  {
   "cell_type": "code",
   "execution_count": 7,
   "metadata": {},
   "outputs": [],
   "source": [
    "# dataset specifics (restaurants info)\n",
    "bq_table_restaurants = '_'.join(['iens.iens', city, date])"
   ]
  },
  {
   "cell_type": "markdown",
   "metadata": {},
   "source": [
    "## Reading from BigQuery"
   ]
  },
  {
   "cell_type": "markdown",
   "metadata": {},
   "source": [
    "To load a BigQuery table into a Pandas dataframe, all you need is a query, the project_id, and a way to authenticate."
   ]
  },
  {
   "cell_type": "code",
   "execution_count": 8,
   "metadata": {
    "scrolled": true
   },
   "outputs": [
    {
     "name": "stdout",
     "output_type": "stream",
     "text": [
      "Requesting query... ok.\n",
      "Job ID: job_869TiF3yIvm0Uqxi2DRbVgR3-B6U\n",
      "Query running...\n",
      "Query done.\n",
      "Processed: 46.4 MB\n",
      "Standard price: $0.00 USD\n",
      "\n",
      "Retrieving results...\n",
      "  Got page: 1; 18% done. Elapsed 13.42 s.\n",
      "  Got page: 2; 42% done. Elapsed 20.39 s.\n",
      "  Got page: 3; 68% done. Elapsed 26.13 s.\n",
      "  Got page: 4; 86% done. Elapsed 31.92 s.\n",
      "  Got page: 5; 100% done. Elapsed 36.14 s.\n",
      "Got 94854 rows.\n",
      "\n",
      "Total time taken 37.59 s.\n",
      "Finished at 2018-01-26 10:00:02.\n"
     ]
    }
   ],
   "source": [
    "query = \"SELECT * FROM {}\".format(bq_table)\n",
    "\n",
    "df = gbq.read_gbq(query, project_id=PROJECT_ID, private_key=PRIVATE_KEY)"
   ]
  },
  {
   "cell_type": "code",
   "execution_count": 9,
   "metadata": {
    "scrolled": true
   },
   "outputs": [
    {
     "data": {
      "text/plain": [
       "(94854, 10)"
      ]
     },
     "execution_count": 9,
     "metadata": {},
     "output_type": "execute_result"
    }
   ],
   "source": [
    "df.shape"
   ]
  },
  {
   "cell_type": "markdown",
   "metadata": {},
   "source": [
    "# Analysis"
   ]
  },
  {
   "cell_type": "code",
   "execution_count": 10,
   "metadata": {
    "scrolled": false
   },
   "outputs": [],
   "source": [
    "df['date'] = pd.to_datetime(df['date'])\n",
    "df['yearmonth'] = df['date'].dt.strftime('%Y-%m')\n",
    "df['year'] = df['date'].dt.strftime('%y')\n",
    "df['month'] = df['date'].dt.strftime('%m')"
   ]
  },
  {
   "cell_type": "code",
   "execution_count": 11,
   "metadata": {
    "scrolled": false
   },
   "outputs": [
    {
     "data": {
      "text/html": [
       "<div>\n",
       "<style scoped>\n",
       "    .dataframe tbody tr th:only-of-type {\n",
       "        vertical-align: middle;\n",
       "    }\n",
       "\n",
       "    .dataframe tbody tr th {\n",
       "        vertical-align: top;\n",
       "    }\n",
       "\n",
       "    .dataframe thead th {\n",
       "        text-align: right;\n",
       "    }\n",
       "</style>\n",
       "<table border=\"1\" class=\"dataframe\">\n",
       "  <thead>\n",
       "    <tr style=\"text-align: right;\">\n",
       "      <th></th>\n",
       "      <th>0</th>\n",
       "      <th>1</th>\n",
       "      <th>2</th>\n",
       "      <th>3</th>\n",
       "      <th>4</th>\n",
       "    </tr>\n",
       "  </thead>\n",
       "  <tbody>\n",
       "    <tr>\n",
       "      <th>name</th>\n",
       "      <td>Brasserie Van Dam</td>\n",
       "      <td>Kapitein Zeppos</td>\n",
       "      <td>Kapitein Zeppos</td>\n",
       "      <td>Kapitein Zeppos</td>\n",
       "      <td>Kapitein Zeppos</td>\n",
       "    </tr>\n",
       "    <tr>\n",
       "      <th>reserved_online</th>\n",
       "      <td>False</td>\n",
       "      <td>False</td>\n",
       "      <td>False</td>\n",
       "      <td>False</td>\n",
       "      <td>False</td>\n",
       "    </tr>\n",
       "    <tr>\n",
       "      <th>id</th>\n",
       "      <td>219761</td>\n",
       "      <td>220017</td>\n",
       "      <td>220017</td>\n",
       "      <td>220017</td>\n",
       "      <td>220017</td>\n",
       "    </tr>\n",
       "    <tr>\n",
       "      <th>rating_service</th>\n",
       "      <td>7</td>\n",
       "      <td>8</td>\n",
       "      <td>8</td>\n",
       "      <td>8</td>\n",
       "      <td>7</td>\n",
       "    </tr>\n",
       "    <tr>\n",
       "      <th>date</th>\n",
       "      <td>2015-07-08 00:00:00</td>\n",
       "      <td>2015-09-10 00:00:00</td>\n",
       "      <td>2012-09-25 00:00:00</td>\n",
       "      <td>2014-02-18 00:00:00</td>\n",
       "      <td>2013-07-06 00:00:00</td>\n",
       "    </tr>\n",
       "    <tr>\n",
       "      <th>rating_food</th>\n",
       "      <td>9</td>\n",
       "      <td>8</td>\n",
       "      <td>8</td>\n",
       "      <td>8</td>\n",
       "      <td>8</td>\n",
       "    </tr>\n",
       "    <tr>\n",
       "      <th>rating_decor</th>\n",
       "      <td>8</td>\n",
       "      <td>9</td>\n",
       "      <td>9</td>\n",
       "      <td>9</td>\n",
       "      <td>10</td>\n",
       "    </tr>\n",
       "    <tr>\n",
       "      <th>reviewer</th>\n",
       "      <td>Ben K.</td>\n",
       "      <td>Chili C.</td>\n",
       "      <td>Peter S.</td>\n",
       "      <td>Mart S.</td>\n",
       "      <td>peter1979 .</td>\n",
       "    </tr>\n",
       "    <tr>\n",
       "      <th>rating</th>\n",
       "      <td>8.3</td>\n",
       "      <td>8.3</td>\n",
       "      <td>8.3</td>\n",
       "      <td>8.3</td>\n",
       "      <td>8.3</td>\n",
       "    </tr>\n",
       "    <tr>\n",
       "      <th>comment</th>\n",
       "      <td>Vooraf Vitello tonnato gegeten, was een verras...</td>\n",
       "      <td>Voor ons bezoek aan de Kleine Komedie nog even...</td>\n",
       "      <td>Tja de ervaringen hieronder wisselen nogal, en...</td>\n",
       "      <td>alsje  het niet weet loop je er zo aan voorbij...</td>\n",
       "      <td>Leuk restaurantje in een steegje met een heel ...</td>\n",
       "    </tr>\n",
       "    <tr>\n",
       "      <th>yearmonth</th>\n",
       "      <td>2015-07</td>\n",
       "      <td>2015-09</td>\n",
       "      <td>2012-09</td>\n",
       "      <td>2014-02</td>\n",
       "      <td>2013-07</td>\n",
       "    </tr>\n",
       "    <tr>\n",
       "      <th>year</th>\n",
       "      <td>15</td>\n",
       "      <td>15</td>\n",
       "      <td>12</td>\n",
       "      <td>14</td>\n",
       "      <td>13</td>\n",
       "    </tr>\n",
       "    <tr>\n",
       "      <th>month</th>\n",
       "      <td>07</td>\n",
       "      <td>09</td>\n",
       "      <td>09</td>\n",
       "      <td>02</td>\n",
       "      <td>07</td>\n",
       "    </tr>\n",
       "  </tbody>\n",
       "</table>\n",
       "</div>"
      ],
      "text/plain": [
       "                                                                 0  \\\n",
       "name                                             Brasserie Van Dam   \n",
       "reserved_online                                              False   \n",
       "id                                                          219761   \n",
       "rating_service                                                   7   \n",
       "date                                           2015-07-08 00:00:00   \n",
       "rating_food                                                      9   \n",
       "rating_decor                                                     8   \n",
       "reviewer                                                    Ben K.   \n",
       "rating                                                         8.3   \n",
       "comment          Vooraf Vitello tonnato gegeten, was een verras...   \n",
       "yearmonth                                                  2015-07   \n",
       "year                                                            15   \n",
       "month                                                           07   \n",
       "\n",
       "                                                                 1  \\\n",
       "name                                               Kapitein Zeppos   \n",
       "reserved_online                                              False   \n",
       "id                                                          220017   \n",
       "rating_service                                                   8   \n",
       "date                                           2015-09-10 00:00:00   \n",
       "rating_food                                                      8   \n",
       "rating_decor                                                     9   \n",
       "reviewer                                                  Chili C.   \n",
       "rating                                                         8.3   \n",
       "comment          Voor ons bezoek aan de Kleine Komedie nog even...   \n",
       "yearmonth                                                  2015-09   \n",
       "year                                                            15   \n",
       "month                                                           09   \n",
       "\n",
       "                                                                 2  \\\n",
       "name                                               Kapitein Zeppos   \n",
       "reserved_online                                              False   \n",
       "id                                                          220017   \n",
       "rating_service                                                   8   \n",
       "date                                           2012-09-25 00:00:00   \n",
       "rating_food                                                      8   \n",
       "rating_decor                                                     9   \n",
       "reviewer                                                  Peter S.   \n",
       "rating                                                         8.3   \n",
       "comment          Tja de ervaringen hieronder wisselen nogal, en...   \n",
       "yearmonth                                                  2012-09   \n",
       "year                                                            12   \n",
       "month                                                           09   \n",
       "\n",
       "                                                                 3  \\\n",
       "name                                               Kapitein Zeppos   \n",
       "reserved_online                                              False   \n",
       "id                                                          220017   \n",
       "rating_service                                                   8   \n",
       "date                                           2014-02-18 00:00:00   \n",
       "rating_food                                                      8   \n",
       "rating_decor                                                     9   \n",
       "reviewer                                                   Mart S.   \n",
       "rating                                                         8.3   \n",
       "comment          alsje  het niet weet loop je er zo aan voorbij...   \n",
       "yearmonth                                                  2014-02   \n",
       "year                                                            14   \n",
       "month                                                           02   \n",
       "\n",
       "                                                                 4  \n",
       "name                                               Kapitein Zeppos  \n",
       "reserved_online                                              False  \n",
       "id                                                          220017  \n",
       "rating_service                                                   7  \n",
       "date                                           2013-07-06 00:00:00  \n",
       "rating_food                                                      8  \n",
       "rating_decor                                                    10  \n",
       "reviewer                                               peter1979 .  \n",
       "rating                                                         8.3  \n",
       "comment          Leuk restaurantje in een steegje met een heel ...  \n",
       "yearmonth                                                  2013-07  \n",
       "year                                                            13  \n",
       "month                                                           07  "
      ]
     },
     "execution_count": 11,
     "metadata": {},
     "output_type": "execute_result"
    }
   ],
   "source": [
    "df.head().T"
   ]
  },
  {
   "cell_type": "code",
   "execution_count": 18,
   "metadata": {},
   "outputs": [
    {
     "data": {
      "text/plain": [
       "array([ 9,  8, 10,  7,  1,  2,  4,  3,  5,  6])"
      ]
     },
     "execution_count": 18,
     "metadata": {},
     "output_type": "execute_result"
    }
   ],
   "source": [
    "df.rating_food.unique()"
   ]
  },
  {
   "cell_type": "markdown",
   "metadata": {},
   "source": [
    "# Elastic search"
   ]
  },
  {
   "cell_type": "markdown",
   "metadata": {},
   "source": [
    "To run Elasticsearch as a service:\n",
    "+ `brew tap homebrew/services`\n",
    "+ `brew services start elasticsearch`\n",
    "\n",
    "You can check that it's up-and-running by examining the logs:\n",
    "+ `tail -n 15 /usr/local/var/log/elasticsearch.log`\n"
   ]
  },
  {
   "cell_type": "code",
   "execution_count": 19,
   "metadata": {},
   "outputs": [],
   "source": [
    "from elasticsearch import Elasticsearch\n",
    "es = Elasticsearch([{'host': 'localhost', 'port': 9200}])"
   ]
  },
  {
   "cell_type": "code",
   "execution_count": 20,
   "metadata": {},
   "outputs": [
    {
     "data": {
      "text/plain": [
       "True"
      ]
     },
     "execution_count": 20,
     "metadata": {},
     "output_type": "execute_result"
    }
   ],
   "source": [
    "es.ping()"
   ]
  },
  {
   "cell_type": "code",
   "execution_count": 21,
   "metadata": {
    "scrolled": true
   },
   "outputs": [
    {
     "name": "stdout",
     "output_type": "stream",
     "text": [
      "timestamp cluster            status node.total\n",
      "10:15:26  elasticsearch_roel yellow          1\n",
      "\n"
     ]
    }
   ],
   "source": [
    "res = es.cat.health(v=True, h=['timestamp', 'cluster', 'status', 'node.total'])\n",
    "print(res)"
   ]
  },
  {
   "cell_type": "code",
   "execution_count": 79,
   "metadata": {
    "scrolled": false
   },
   "outputs": [
    {
     "name": "stdout",
     "output_type": "stream",
     "text": [
      "health status index         uuid                   pri rep docs.count docs.deleted store.size pri.store.size\n",
      "yellow open   iens_comments U46WzTepTeuJm7Wnro1TXw   5   1      94854            0    178.7mb        178.7mb\n",
      "\n"
     ]
    }
   ],
   "source": [
    "print(es.cat.indices(v=True))"
   ]
  },
  {
   "cell_type": "code",
   "execution_count": 85,
   "metadata": {},
   "outputs": [
    {
     "data": {
      "text/plain": [
       "{'acknowledged': True}"
      ]
     },
     "execution_count": 85,
     "metadata": {},
     "output_type": "execute_result"
    }
   ],
   "source": [
    "es.indices.delete(index='iens_comments', ignore=404)"
   ]
  },
  {
   "cell_type": "code",
   "execution_count": 86,
   "metadata": {},
   "outputs": [],
   "source": [
    "hyphens_and_apostrophes_strip = {\n",
    "    \"hyphens_and_apostrophes_strip\": {\n",
    "        \"type\": \"mapping\",\n",
    "        \"mappings\": [ \n",
    "            \"- => ' '\",\n",
    "            \"' => \"\n",
    "        ]\n",
    "    }\n",
    "}"
   ]
  },
  {
   "cell_type": "code",
   "execution_count": 87,
   "metadata": {},
   "outputs": [],
   "source": [
    "dutch_stop = {\n",
    "    \"dutch_stop\": {\n",
    "        \"type\": \"stop\",\n",
    "        \"stopwords\": \"_dutch_\"\n",
    "    }\n",
    "}"
   ]
  },
  {
   "cell_type": "code",
   "execution_count": 88,
   "metadata": {},
   "outputs": [],
   "source": [
    "ngram_tokenizer = {\n",
    "    \"ngram_tokenizer\": {\n",
    "        \"type\": \"ngram\",\n",
    "        \"min_gram\": 2,\n",
    "        \"max_gram\": 3\n",
    "    }\n",
    "}"
   ]
  },
  {
   "cell_type": "code",
   "execution_count": 89,
   "metadata": {},
   "outputs": [],
   "source": [
    "analyzer = {\n",
    "    \"iens_comments_analyzer\": {\n",
    "        \"type\":           \"custom\",\n",
    "        \"char_filter\":  [ \"hyphens_and_apostrophes_strip\" ],\n",
    "        \"tokenizer\":      \"ngram_tokenizer\", #\"standard\",\n",
    "        \"filter\":       [ \"lowercase\", \"dutch_stop\", \"asciifolding\" ]\n",
    "    }\n",
    "}   "
   ]
  },
  {
   "cell_type": "code",
   "execution_count": 90,
   "metadata": {},
   "outputs": [
    {
     "data": {
      "text/plain": [
       "{'acknowledged': True, 'shards_acknowledged': True}"
      ]
     },
     "execution_count": 90,
     "metadata": {},
     "output_type": "execute_result"
    }
   ],
   "source": [
    "es.indices.create(index='iens_comments', ignore=400)\n",
    "\n",
    "es.indices.close(index='iens_comments')\n",
    "\n",
    "es.indices.put_settings(\n",
    "    index='iens_comments', \n",
    "    body={\n",
    "        \"analysis\": {\n",
    "            \"char_filter\": hyphens_and_apostrophes_strip,\n",
    "            \"tokenizer\": ngram_tokenizer,\n",
    "            \"filter\": dutch_stop,\n",
    "            \"analyzer\": analyzer\n",
    "        }\n",
    "    }\n",
    ")\n",
    "\n",
    "es.indices.open(index='iens_comments')"
   ]
  },
  {
   "cell_type": "code",
   "execution_count": 91,
   "metadata": {
    "scrolled": true
   },
   "outputs": [
    {
     "data": {
      "text/plain": [
       "{'acknowledged': True}"
      ]
     },
     "execution_count": 91,
     "metadata": {},
     "output_type": "execute_result"
    }
   ],
   "source": [
    "es.indices.put_mapping(\n",
    "    index='iens_comments',\n",
    "    update_all_types=True,\n",
    "    doc_type='iens_review',\n",
    "    body={\n",
    "        \"properties\": {\n",
    "            \"comment\": {\n",
    "                \"type\": \"text\",\n",
    "                \"analyzer\": \"iens_comments_analyzer\"\n",
    "            },\n",
    "            \"name\": {\n",
    "                \"type\": \"keyword\"            \n",
    "            },\n",
    "            \"rating\": {\n",
    "                \"type\": \"integer\"\n",
    "            }\n",
    "        }\n",
    "    }\n",
    ")"
   ]
  },
  {
   "cell_type": "code",
   "execution_count": 92,
   "metadata": {
    "scrolled": true
   },
   "outputs": [
    {
     "name": "stdout",
     "output_type": "stream",
     "text": [
      "{'iens_review': {'properties': {'comment': {'analyzer': 'iens_comments_analyzer',\n",
      "                                            'type': 'text'},\n",
      "                                'name': {'type': 'keyword'},\n",
      "                                'rating': {'type': 'integer'}}}}\n"
     ]
    }
   ],
   "source": [
    "pprint(\n",
    "    es.indices.get_mapping(index='iens_comments')['iens_comments']['mappings']\n",
    ")"
   ]
  },
  {
   "cell_type": "code",
   "execution_count": 93,
   "metadata": {
    "scrolled": true
   },
   "outputs": [
    {
     "name": "stdout",
     "output_type": "stream",
     "text": [
      "health status index         uuid                   pri rep docs.count docs.deleted store.size pri.store.size\n",
      "yellow open   iens_comments ZVNOEkiJQXaq2ysH3OdorA   5   1          0            0      1.1kb          1.1kb\n",
      "\n"
     ]
    }
   ],
   "source": [
    "print(es.cat.indices(v=True))"
   ]
  },
  {
   "cell_type": "code",
   "execution_count": 95,
   "metadata": {},
   "outputs": [],
   "source": [
    "from elasticsearch.helpers import parallel_bulk\n",
    "def generate_actions(n_comments):    \n",
    "    for i in range(n_comments):\n",
    "        src = {\n",
    "            'comment': df.loc[i, 'comment'],\n",
    "            'name': df.loc[i, 'name'],\n",
    "            'rating': int(df.loc[i, 'rating_food'])  \n",
    "        }\n",
    "\n",
    "        yield {\n",
    "            '_op_type': 'index',\n",
    "            '_source': src \n",
    "        }"
   ]
  },
  {
   "cell_type": "code",
   "execution_count": 96,
   "metadata": {
    "scrolled": false
   },
   "outputs": [],
   "source": [
    "for success, info in parallel_bulk(\n",
    "    client=es, \n",
    "    actions=generate_actions(len(df)),\n",
    "    index='iens_comments', \n",
    "    doc_type='iens_review',\n",
    "    thread_count=4):\n",
    "    if not success: print('Document insertion failed', info)"
   ]
  },
  {
   "cell_type": "code",
   "execution_count": 121,
   "metadata": {
    "scrolled": false
   },
   "outputs": [
    {
     "name": "stdout",
     "output_type": "stream",
     "text": [
      "health status index         uuid                   pri rep docs.count docs.deleted store.size pri.store.size\n",
      "yellow open   iens_comments ZVNOEkiJQXaq2ysH3OdorA   5   1      94854            0    180.9mb        180.9mb\n",
      "\n"
     ]
    }
   ],
   "source": [
    "print(es.cat.indices(v=True))"
   ]
  },
  {
   "cell_type": "code",
   "execution_count": 99,
   "metadata": {
    "scrolled": true
   },
   "outputs": [
    {
     "name": "stdout",
     "output_type": "stream",
     "text": [
      "{'comment': 'Als Amsterdammer kom ik al een geruime tijd bij Brasserie '\n",
      "            'Harkema. De sfeer en het decor zijn modern, maar erg gezellig. De '\n",
      "            'service ervaar ik als goed en het personeel heeft kennis van de '\n",
      "            'wijn en de kaart. Sinds de kaartwijziging die onlangs heeft '\n",
      "            'plaatsgevonden heeft de kwaliteit een flinke boost gekregen. De '\n",
      "            'keuze is wat diverser en met name de Cote de boeuf die bereid '\n",
      "            'wordt in een Josper oven is aan te raden. Deze manier van '\n",
      "            'bereiden bracht  een fantastische smaak met zich mee. Al met al, '\n",
      "            'een grote aanrader!',\n",
      " 'name': 'Brasserie Harkema',\n",
      " 'rating': 9}\n",
      "\n",
      "{'comment': 'Afgelopen donderdag met een gezelschap van 15 bij HCK gegeten. '\n",
      "            'Wij hadden ivm de grootte van de groep gekozen voor het 4 gangen '\n",
      "            'lounge-menu to share. Ik kan er kort over zijn: het was een '\n",
      "            'perfecte keuze; fantastische gerechten, ontzettend lekker. '\n",
      "            'Iedereen was enthousiast. Ondanks dat het restaurant helemaal vol '\n",
      "            'zat en het erg druk was liep de bediening perfect. We werden in '\n",
      "            'de watten gelegd. Kortom heerlijk eten, geweldige sfeer en zeer '\n",
      "            'gastvrije kundige bediening.',\n",
      " 'name': 'The Harbour Club Amsterdam Zuid',\n",
      " 'rating': 9}\n",
      "\n",
      "{'comment': 'Het eten was heerlijk! Ik zelf had de kip tandori, de kip is '\n",
      "            'heerlijk mals en perfect bereid! Lekkere rijst en sausje erbij en '\n",
      "            'stukjes naan brood. Intotaal heb ik voor een voorgerecht, '\n",
      "            'hoofdgerecht, bijgerecht en 3 drankjes 30 euro betaald! Helemaal '\n",
      "            'goed dus! Verder is het restaurant wel klein maar niet storend',\n",
      " 'name': 'Shah Jahan',\n",
      " 'rating': 10}\n",
      "\n",
      "{'comment': 'Super lekker gegeten bij dit lekkere Indiase restaurant. Ik denk '\n",
      "            'dat van alle Indiase restaurants waar ik tot op heden in '\n",
      "            'Amsterdam heb gegeten, dit de beste is. Erg vriendelijke '\n",
      "            'bediening. Een paar tafeltjes op de stoep, dus we konden met het '\n",
      "            'mooie weer lekker buiten eten. Echt een aanrader als je van '\n",
      "            'Indiaas eten houdt.',\n",
      " 'name': 'Shah Jahan',\n",
      " 'rating': 9}\n",
      "\n",
      "{'comment': 'Vanmiddag heerlijk geluncht met de kinderen. Het personeel was '\n",
      "            'zeer behulpzaam en vriendelijk. Het was geen probleem om een van '\n",
      "            'de voorgerechten aan te passen, zodat de kinderen het ook lekker '\n",
      "            'vonden. Drie gangen keuze menu was echt een smaaksensatie. Alles '\n",
      "            'was lekker!',\n",
      " 'name': 'Restaurant Le Garage',\n",
      " 'rating': 9}\n",
      "\n",
      "{'comment': 'Sfeer in dit restaurant is altijd heel bijzonder. Veel bekende '\n",
      "            'Nederlanders. Al meer dan twintig jaar een plek waar altijd wat '\n",
      "            'te beleven is.  Eten is prima, ofschoon niet heel bijzonder. Dat '\n",
      "            'hoeft ook niet altijd voor ons. Veel klassieke receptuur op het '\n",
      "            'menu. Het kerstmenu werd door ons gekozen. Lekkere gerechten. De '\n",
      "            'haas had wat weinig wildsmaak, waardoor we twijfelden of het wel '\n",
      "            'echt haas was. We dachten meer aan hertenfilet?  We vonden het '\n",
      "            'wel erg lekker.  De totaalprijs voor het menu is wat aan de hoge '\n",
      "            \"kant, waardoor je met z'n tweeën met wijn net iets meer dan €200 \"\n",
      "            'moet afrekenen. Gezien de totale ambiance toch zeker de kosten '\n",
      "            'waard.  De bediening is erg attent en vriendelijk ofschoon ze '\n",
      "            'elkaar meer dan eens in de weg lopen.  De taken zouden nog wat '\n",
      "            'duidelijker verdeeld moeten worden.',\n",
      " 'name': 'Restaurant Le Garage',\n",
      " 'rating': 9}\n",
      "\n",
      "{'comment': 'Gister heerlijk gegeten in Le Garage. We hebben genoten van de '\n",
      "            'gastvrijheid,en het heerlijk eten.   Jammer dat mijn favoriete '\n",
      "            'wijn niet meer voorradig was, maar ja... je kan niet alles '\n",
      "            'hebben.Er werd goed mee gedacht voor een alternatief en daar '\n",
      "            'hebben we dan ook zeer van genoten.  1 gerecht wil ik zeker even '\n",
      "            'noemen, die moet je gewoon geproefd hebben, Pizza tonijn! Wauw, '\n",
      "            'wat een smaak.  Compliment naar de bedieningsbrigade die mij niet '\n",
      "            'eens de kans gaf om de wijn zelf te schenken, En dit alles met '\n",
      "            'een  glimlach, die wel gemeend over kwam.  Ik/wij komen ook dan '\n",
      "            'zeker graag weer!',\n",
      " 'name': 'Restaurant Le Garage',\n",
      " 'rating': 9}\n",
      "\n",
      "{'comment': 'Geen \"goedkope\", maar ook zeker niet een \"te\" duur etablissement. '\n",
      "            'Professionele en nette bediening, voor een restaurant met '\n",
      "            'sterallure zelfs uiterst ongedwongen en geen overdreven poeha. '\n",
      "            'Decor prima, beetje Tuschinskyachtig en en deed mij aan vroeger '\n",
      "            'denken; wel erg veel rood. Uiterst oplettende bediening, zoals op '\n",
      "            'tijd bijvullen van de glazen.  Een dik verdiende negen.  Goed '\n",
      "            'advies en uitleg bij de gerechten; de obers weten wat er vanuit '\n",
      "            'de keuken geserveerd wordt. Mag natuurlijk ook wel bij een '\n",
      "            'restaurant van naam.  Van onnozele jupperigheid hebben wij (we '\n",
      "            'waren met vier personen) niets gemerkt.     Het eten was prima, '\n",
      "            'bijna naar verwachting.  Voorgerecht van werkelijk topkwaliteit, '\n",
      "            'smulniveau. De roodbaars, door twee als hoofdgerecht gekozen, was '\n",
      "            'bijzonder fraai. De fazant -voor de andere twee- viel een ietsje '\n",
      "            'tegen, maar beide hadden nog nooit eerder fazant gegeten.  De '\n",
      "            'combinatie met andere ingrediënten blonk uit in eenvoud: Er zijn '\n",
      "            'twee mogelijkheden  voor culinaire hoogstandjes: een gerecht '\n",
      "            'klaarmaken met zeer veel diverse in balans gebrachte '\n",
      "            'toevoegingen, iets wat ik had verwacht, maar hier deed men dat '\n",
      "            'met enkele geraffineerde bij\"lagen\", zoals bij de fazant de '\n",
      "            'gebakken witlof en een bijzonder aardappelgerecht, het geheel in '\n",
      "            'een uiterst opmerkelijk goede verhouding wat een \"top\"-restaurant '\n",
      "            'ook een toprestaurant maakt.   Het smikkelniveau van het '\n",
      "            'nagerecht was van hoog niveau, om je vingers bij af te likken: '\n",
      "            'bananenijs ZONDER -zoals zo vaak- chemisch smaakje, kaasplankje '\n",
      "            'met kaas goed op temperatuur (dus niet te koud).  Bijzonder ook '\n",
      "            'de wijn, nagenoeg alle, vooral Franse wijn, van meer dan '\n",
      "            'top-niveau. Dit tref je maar zelden aan en voor de prijs hoef je '\n",
      "            'het er niet te laten;  wij lazen op de kaart een fles echte goede '\n",
      "            '(!) Morgon voor slechts 45 euro.   Alle overige wijn, '\n",
      "            'onbedriegelijk en zijn prijs waard; we dronken vijf verschillende '\n",
      "            'en allen een dikke acht en negen, misschien wel een tien!  De '\n",
      "            'koffie achteraf, in dit soort gelegenheden toch vaak aan de dure '\n",
      "            'kant, hier echter tegen een zeer schappelijke prijs. Kortom, men '\n",
      "            'zou het kunnen omschrijven als een laagdrempelig sterrestaurant, '\n",
      "            'gezellig, ongedwongen, om eens lekker culinair uit je dak te '\n",
      "            'gaan.  Gewoon een keer doen! Wij komen zeker nog wel eens terug.',\n",
      " 'name': 'Restaurant Le Garage',\n",
      " 'rating': 9}\n",
      "\n",
      "{'comment': 'De Garage is een klassieker onder de Amsterdamse restaurants. '\n",
      "            'Veel van wat er wordt gezegd over dit restaurant is waar: tout '\n",
      "            'welgesteld Amsterdam eet er, je zit er dicht op elkaar, de '\n",
      "            'bediening is goed verzorgd, netjes en met gevoel voor humor.   '\n",
      "            'Dit keer aten we een \"set menu\" (keuze uit drie gerechten per '\n",
      "            'gang) vanwege de grootte van de groep, en de groepsgrootte was '\n",
      "            'geen belemmering voor een vlekkeloos verlopend diner.   Hier '\n",
      "            'alleen een recensie van de gerechten die ik zelf nam: een '\n",
      "            'vlekkeloze topper is de pizza tonijn (filodeeg en rauwe tonijn), '\n",
      "            'de kabeljauw met citroengras was perfect gegaard en goed van '\n",
      "            'zuren. Als sublieme afsluiter de ile flottante. Hoe lekker wil je '\n",
      "            'het krijgen. Echt een aanrader om hier een keer alle zintuigen te '\n",
      "            'laten prikkelen. Het dicht op elkaar zitten moet je voor lief '\n",
      "            'nemen.',\n",
      " 'name': 'Restaurant Le Garage',\n",
      " 'rating': 9}\n",
      "\n",
      "{'comment': 'Eindelijk weer eens erg lekker gegeten in mn stafcafeetje. Ik '\n",
      "            'liet het vaak bij bitterballen en een pizza bij de buren. Vorige '\n",
      "            'week  de hamburger gegeten en eerlijk gezegd is het de lekkerste '\n",
      "            'in de wijde omtrek! Ik kan er niks anders van maken: goeie dikke '\n",
      "            'juicy rosé gebakken burger van goed vlees met heerlijke toppings. '\n",
      "            'Mn wingman had een parelhoentje die ook zeer goed smaakte  '\n",
      "            'Bediening vind ik nog steeds gezellig en rap van tong. Ik blijf '\n",
      "            'graag terug komen!',\n",
      " 'name': 'Café Binnen Buiten',\n",
      " 'rating': 9}\n",
      "\n"
     ]
    }
   ],
   "source": [
    "res = es.search(index='iens_comments')\n",
    "for review in res['hits']['hits']:\n",
    "    pprint(review['_source'])\n",
    "    print()"
   ]
  },
  {
   "cell_type": "code",
   "execution_count": 109,
   "metadata": {
    "scrolled": true
   },
   "outputs": [],
   "source": [
    "res = es.search(\n",
    "    index='iens_comments', \n",
    "    doc_type='iens_review',\n",
    "    body={\n",
    "        \"query\": {\n",
    "            \"match\": {\n",
    "                \"comment\": \"burger\"\n",
    "            }\n",
    "        }\n",
    "    }\n",
    ")"
   ]
  },
  {
   "cell_type": "code",
   "execution_count": 110,
   "metadata": {
    "scrolled": true
   },
   "outputs": [
    {
     "name": "stdout",
     "output_type": "stream",
     "text": [
      "Score:  21.81572\n",
      "{ 'comment': 'Een burger gedaan samen met mijn 5jarige zoon. Serveerster '\n",
      "             'stelde kinder burger voor. Ik bestelde een gewoon '\n",
      "             'classic/original met als verzoek geen uien en geen augurk.  '\n",
      "             'Burgers werden gebracht. En ja hoor vol met uien en augurken '\n",
      "             'zowel als topping als in de saus vies klef broodje erg zoet van '\n",
      "             'smaakt burger uitgedroogd. Me zoon een burger zo klein dat hij '\n",
      "             'zelfs zei papa is dit alles. Friet die er bij zat overladen met '\n",
      "             'zout en eea kruide. Al met bleek einde van de €33 1burger met '\n",
      "             'friet 1 cola 1 miniscule burger met friet en appelsap voor die '\n",
      "             'kwaliteit. Geen burger bitch maar burger bagger',\n",
      "  'name': 'Burger Bitch',\n",
      "  'rating': 2}\n",
      "Score:  21.747906\n",
      "{ 'comment': \"Wij zijn met z'n vieren gaan eten bij de Burgermeester. We \"\n",
      "             'werden hartelijk ontvangen en kozen de Spaanse burger, '\n",
      "             'cheeseburger, royale burger en de klassieke lamsburger. De '\n",
      "             'Spaanse burger had ik zelf en was licht pittig en heel erg '\n",
      "             'smaakvol. Vooral de aardige service van Raoul viel ons op! We '\n",
      "             'komen zeker nog eens terug!',\n",
      "  'name': 'Burgermeester (Plantage Kerklaan)',\n",
      "  'rating': 9}\n",
      "Score:  21.746613\n",
      "{ 'comment': 'Tja, wat kan je beoordelen aan een hamburger? Iedereen denkt aan '\n",
      "             'McDonalds als je het over hamburgers hebt maar dit is werkelijk '\n",
      "             'waar een hele andere wereld. Deze hamburger is groot, wordt vers '\n",
      "             'gemaakt (je ziet het gehakt langzaam een hamburger worden onder '\n",
      "             'de vaardige handen van de kok) en je kan kiezen uit diverse '\n",
      "             'toppings. De hamburgersaus is ook super. Na een hamburger van de '\n",
      "             'Burger Bar is er geen weg meer terug, nooit meer Burger King, '\n",
      "             'nooit meer McDonalds.',\n",
      "  'name': 'Burger Bar (Warmoesstraat)',\n",
      "  'rating': 8}\n",
      "Score:  21.267849\n",
      "{ 'comment': 'Prima plek voor een goede burger, vooral de wagyu burger! Wel '\n",
      "             'jammer dat de burger dit keer niet medium rare geserveerd werd, '\n",
      "             'ondanks mijn verzoek. De Vlaamse friet is ook goed. Het enige '\n",
      "             'nadeel is dat de burger (zeker na toevoeging van extra toppings) '\n",
      "             'vrij prijzig wordt voor een burger, maar toch blijft het wel '\n",
      "             'zeker de moeite (en het geld) waard. Jammer dat er geen Burger '\n",
      "             'Bar in Rotterdam is.',\n",
      "  'name': 'Burger Bar (Kolksteeg)',\n",
      "  'rating': 8}\n",
      "Score:  21.242083\n",
      "{ 'comment': 'Burger gegeten bij ™ Amsterdam. Erg overpriced! 2 ladyburgers '\n",
      "             'met 1 patat en 2 cola light: 38,-! Kan echt niet, voor geen '\n",
      "             'enkele miniburger.',\n",
      "  'name': 'Ter Marsch & Co',\n",
      "  'rating': 8}\n",
      "Score:  21.20775\n",
      "{ 'comment': 'Heerlijke burgers: biologisch, Halal en super lekker '\n",
      "             'klaargemaakt. Chicken en Beef burger behoren beide tot de beste '\n",
      "             'burgers die wij tot dusver hebben gegeten. Verse limonades waren '\n",
      "             'heerlijk bij de burgers en service was ook top. Een echte '\n",
      "             'aanrader.',\n",
      "  'name': 'Artisani',\n",
      "  'rating': 10}\n",
      "Score:  21.198309\n",
      "{ 'comment': 'Ik kende Burgermeester niet, maar stuitte op hun kookboek, en '\n",
      "             'dat was te verleidelijk om te laten liggen. Er staan zulke '\n",
      "             'inspirerende burgers dat ik direct hun signature burger heb '\n",
      "             'gemaakt. Om te checken of die een beetje in de buurt zat van hoe '\n",
      "             'ze zelf maken, kon een bezoek aan een van de zaken natuurlijk '\n",
      "             'niet uitblijven. Tot mijn aangename verrassing bieden ze de '\n",
      "             'mogelijkheid om drie miniburgers te bestellen. Mijn keuze was de '\n",
      "             'signature burger, de lamsburger en de kipburger. Mijn vrouw koos '\n",
      "             'de vegetarische manchego variant. De burgers waren allen lekker, '\n",
      "             'het is geweldig dat de ingedienten biologisch zijn, culiburgers '\n",
      "             \"is een topconcept, en dan volgt er een kleine 'maar': ze zouden \"\n",
      "             'wel iets hoger op smaak mogen. En de burgers zouden gebaat '\n",
      "             'kunnen zijn bij iets minder garnering, zodat de vleessmaak wat '\n",
      "             'meer doorkomt. Bij de kipburger bijvoorbeeld proef je eigenlijk '\n",
      "             'weinig kip, maar vooral de guacamole. Dat is heel lekker, daar '\n",
      "             'niet van, maar toch. Verder vriendelijke bediening en een goed '\n",
      "             'idee dat iedereen zijn burger van de maand idee kan indienen. En '\n",
      "             'mijn zelf gemaakte burger bleek erg dicht bij hun origineel te '\n",
      "             'zitten.',\n",
      "  'name': 'Burgermeester (Elandsgracht)',\n",
      "  'rating': 8}\n",
      "Score:  21.116444\n",
      "{ 'comment': 'De Hamburgers van Burgermeester zijn heerlijk!    Er is genoeg '\n",
      "             'keuze uit verschillende soorten kwalitatief goed vlees; '\n",
      "             'rundvlees, lamsvlees, zalm en zelfs vegetarisch. Het vlees is '\n",
      "             'goed gekruid en de burgers worden handmatig door de kok gemaakt '\n",
      "             'voor ze op de bakplaat belanden.   Mijn favoriet is de '\n",
      "             'Biefburger Royaal met cheddar en bacon. Het enige probleem is '\n",
      "             'het enigszins fatsoenlijk opeten van de burger. Daar is iets op '\n",
      "             'gevonden, je kunt ook een bord met drie verschillende mini '\n",
      "             'burgertjes bestellen.   De inrichting is redelijk strak maar wel '\n",
      "             'gezellig. Het personeel is vriendelijk en losjes. Prima '\n",
      "             'prijs-kwaliteit verhouding. Het geheel klopt gewoon, een '\n",
      "             'gezellig tentje voor echte hamburgerliefhebbers.   Alle andere '\n",
      "             'hamburgerrestaurants waar ik at deden mij toch verlangen naar de '\n",
      "             'Biefburger Royale van Burgermeester.',\n",
      "  'name': 'Burgermeester (Albert Cuypstraat)',\n",
      "  'rating': 9}\n",
      "Score:  21.07216\n",
      "{ 'comment': 'Wat een heerlijke burgers hebben ze hier zeg. Alles Biologisch '\n",
      "             'en vers ook de melk is Biologisch. In tijden niet zo,n lekkere '\n",
      "             'burger gegeten. Je kan ook kiezen uit puur vegetarische burgers '\n",
      "             'zoals Geitenkaas als pompoen burgers, dus voor ieder wat wils. '\n",
      "             'Ik had een standaard burger en die was groot en overheerlijk, ik '\n",
      "             'kreeg hem niet op. Kortom. Ik kom hier zeker weer.',\n",
      "  'name': 'Burgermeester (Albert Cuypstraat)',\n",
      "  'rating': 8}\n",
      "Score:  21.035282\n",
      "{ 'comment': '1 van de beste burgers ooit gehad. Vriend van me had een zalm '\n",
      "             'burger 8.5   Sfeer is niet echt heel fantastisch maar daar ben '\n",
      "             'je ook niet mee bezig als je burgers eet',\n",
      "  'name': \"Lombardo's\",\n",
      "  'rating': 10}\n"
     ]
    }
   ],
   "source": [
    "for document in res['hits']['hits']:\n",
    "    print('Score: ', document['_score'])\n",
    "    pprint(document['_source'], indent=2)"
   ]
  },
  {
   "cell_type": "markdown",
   "metadata": {},
   "source": [
    "## TODO: kijk hoeveel % van reviews iets over hamburgers zegt"
   ]
  },
  {
   "cell_type": "markdown",
   "metadata": {},
   "source": [
    "## TODO: rating samenvoegen met score voor burger"
   ]
  },
  {
   "cell_type": "code",
   "execution_count": 122,
   "metadata": {
    "scrolled": false
   },
   "outputs": [
    {
     "data": {
      "text/plain": [
       "10"
      ]
     },
     "execution_count": 122,
     "metadata": {},
     "output_type": "execute_result"
    }
   ],
   "source": [
    "len(res['hits']['hits'])"
   ]
  },
  {
   "cell_type": "code",
   "execution_count": null,
   "metadata": {},
   "outputs": [],
   "source": []
  }
 ],
 "metadata": {
  "kernelspec": {
   "display_name": "Python 3",
   "language": "python",
   "name": "python3"
  },
  "language_info": {
   "codemirror_mode": {
    "name": "ipython",
    "version": 3
   },
   "file_extension": ".py",
   "mimetype": "text/x-python",
   "name": "python",
   "nbconvert_exporter": "python",
   "pygments_lexer": "ipython3",
   "version": "3.6.3"
  }
 },
 "nbformat": 4,
 "nbformat_minor": 2
}
